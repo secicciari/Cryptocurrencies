{
 "cells": [
  {
   "cell_type": "markdown",
   "metadata": {},
   "source": [
    "# Clustering Crypto"
   ]
  },
  {
   "cell_type": "code",
   "execution_count": 17,
   "metadata": {},
   "outputs": [],
   "source": [
    "# Initial imports\n",
    "import pandas as pd\n",
    "import hvplot.pandas\n",
    "from path import Path\n",
    "import plotly.express as px\n",
    "from sklearn.preprocessing import StandardScaler, MinMaxScaler\n",
    "from sklearn.decomposition import PCA\n",
    "from sklearn import cluster\n",
    "from sklearn.cluster import KMeans\n"
   ]
  },
  {
   "cell_type": "markdown",
   "metadata": {},
   "source": [
    "### Deliverable 1: Preprocessing the Data for PCA"
   ]
  },
  {
   "cell_type": "code",
   "execution_count": 18,
   "metadata": {
    "scrolled": true
   },
   "outputs": [
    {
     "data": {
      "text/html": [
       "<div>\n",
       "<style scoped>\n",
       "    .dataframe tbody tr th:only-of-type {\n",
       "        vertical-align: middle;\n",
       "    }\n",
       "\n",
       "    .dataframe tbody tr th {\n",
       "        vertical-align: top;\n",
       "    }\n",
       "\n",
       "    .dataframe thead th {\n",
       "        text-align: right;\n",
       "    }\n",
       "</style>\n",
       "<table border=\"1\" class=\"dataframe\">\n",
       "  <thead>\n",
       "    <tr style=\"text-align: right;\">\n",
       "      <th></th>\n",
       "      <th>CoinName</th>\n",
       "      <th>Algorithm</th>\n",
       "      <th>IsTrading</th>\n",
       "      <th>ProofType</th>\n",
       "      <th>TotalCoinsMined</th>\n",
       "      <th>TotalCoinSupply</th>\n",
       "    </tr>\n",
       "  </thead>\n",
       "  <tbody>\n",
       "    <tr>\n",
       "      <th>42</th>\n",
       "      <td>42 Coin</td>\n",
       "      <td>Scrypt</td>\n",
       "      <td>True</td>\n",
       "      <td>PoW/PoS</td>\n",
       "      <td>4.199995e+01</td>\n",
       "      <td>42</td>\n",
       "    </tr>\n",
       "    <tr>\n",
       "      <th>365</th>\n",
       "      <td>365Coin</td>\n",
       "      <td>X11</td>\n",
       "      <td>True</td>\n",
       "      <td>PoW/PoS</td>\n",
       "      <td>NaN</td>\n",
       "      <td>2300000000</td>\n",
       "    </tr>\n",
       "    <tr>\n",
       "      <th>404</th>\n",
       "      <td>404Coin</td>\n",
       "      <td>Scrypt</td>\n",
       "      <td>True</td>\n",
       "      <td>PoW/PoS</td>\n",
       "      <td>1.055185e+09</td>\n",
       "      <td>532000000</td>\n",
       "    </tr>\n",
       "    <tr>\n",
       "      <th>611</th>\n",
       "      <td>SixEleven</td>\n",
       "      <td>SHA-256</td>\n",
       "      <td>True</td>\n",
       "      <td>PoW</td>\n",
       "      <td>NaN</td>\n",
       "      <td>611000</td>\n",
       "    </tr>\n",
       "    <tr>\n",
       "      <th>808</th>\n",
       "      <td>808</td>\n",
       "      <td>SHA-256</td>\n",
       "      <td>True</td>\n",
       "      <td>PoW/PoS</td>\n",
       "      <td>0.000000e+00</td>\n",
       "      <td>0</td>\n",
       "    </tr>\n",
       "  </tbody>\n",
       "</table>\n",
       "</div>"
      ],
      "text/plain": [
       "      CoinName Algorithm  IsTrading ProofType  TotalCoinsMined TotalCoinSupply\n",
       "42     42 Coin    Scrypt       True   PoW/PoS     4.199995e+01              42\n",
       "365    365Coin       X11       True   PoW/PoS              NaN      2300000000\n",
       "404    404Coin    Scrypt       True   PoW/PoS     1.055185e+09       532000000\n",
       "611  SixEleven   SHA-256       True       PoW              NaN          611000\n",
       "808        808   SHA-256       True   PoW/PoS     0.000000e+00               0"
      ]
     },
     "execution_count": 18,
     "metadata": {},
     "output_type": "execute_result"
    }
   ],
   "source": [
    "# Load the crypto_data.csv dataset.\n",
    "file_path = \"Resources/crypto_data.csv\"\n",
    "df_crypto = pd.read_csv(file_path, index_col=0)\n",
    "df_crypto.head()"
   ]
  },
  {
   "cell_type": "code",
   "execution_count": 19,
   "metadata": {},
   "outputs": [
    {
     "data": {
      "text/html": [
       "<div>\n",
       "<style scoped>\n",
       "    .dataframe tbody tr th:only-of-type {\n",
       "        vertical-align: middle;\n",
       "    }\n",
       "\n",
       "    .dataframe tbody tr th {\n",
       "        vertical-align: top;\n",
       "    }\n",
       "\n",
       "    .dataframe thead th {\n",
       "        text-align: right;\n",
       "    }\n",
       "</style>\n",
       "<table border=\"1\" class=\"dataframe\">\n",
       "  <thead>\n",
       "    <tr style=\"text-align: right;\">\n",
       "      <th></th>\n",
       "      <th>CoinName</th>\n",
       "      <th>Algorithm</th>\n",
       "      <th>IsTrading</th>\n",
       "      <th>ProofType</th>\n",
       "      <th>TotalCoinsMined</th>\n",
       "      <th>TotalCoinSupply</th>\n",
       "    </tr>\n",
       "  </thead>\n",
       "  <tbody>\n",
       "    <tr>\n",
       "      <th>42</th>\n",
       "      <td>42 Coin</td>\n",
       "      <td>Scrypt</td>\n",
       "      <td>True</td>\n",
       "      <td>PoW/PoS</td>\n",
       "      <td>4.199995e+01</td>\n",
       "      <td>42</td>\n",
       "    </tr>\n",
       "    <tr>\n",
       "      <th>365</th>\n",
       "      <td>365Coin</td>\n",
       "      <td>X11</td>\n",
       "      <td>True</td>\n",
       "      <td>PoW/PoS</td>\n",
       "      <td>NaN</td>\n",
       "      <td>2300000000</td>\n",
       "    </tr>\n",
       "    <tr>\n",
       "      <th>404</th>\n",
       "      <td>404Coin</td>\n",
       "      <td>Scrypt</td>\n",
       "      <td>True</td>\n",
       "      <td>PoW/PoS</td>\n",
       "      <td>1.055185e+09</td>\n",
       "      <td>532000000</td>\n",
       "    </tr>\n",
       "    <tr>\n",
       "      <th>611</th>\n",
       "      <td>SixEleven</td>\n",
       "      <td>SHA-256</td>\n",
       "      <td>True</td>\n",
       "      <td>PoW</td>\n",
       "      <td>NaN</td>\n",
       "      <td>611000</td>\n",
       "    </tr>\n",
       "    <tr>\n",
       "      <th>808</th>\n",
       "      <td>808</td>\n",
       "      <td>SHA-256</td>\n",
       "      <td>True</td>\n",
       "      <td>PoW/PoS</td>\n",
       "      <td>0.000000e+00</td>\n",
       "      <td>0</td>\n",
       "    </tr>\n",
       "  </tbody>\n",
       "</table>\n",
       "</div>"
      ],
      "text/plain": [
       "      CoinName Algorithm  IsTrading ProofType  TotalCoinsMined TotalCoinSupply\n",
       "42     42 Coin    Scrypt       True   PoW/PoS     4.199995e+01              42\n",
       "365    365Coin       X11       True   PoW/PoS              NaN      2300000000\n",
       "404    404Coin    Scrypt       True   PoW/PoS     1.055185e+09       532000000\n",
       "611  SixEleven   SHA-256       True       PoW              NaN          611000\n",
       "808        808   SHA-256       True   PoW/PoS     0.000000e+00               0"
      ]
     },
     "execution_count": 19,
     "metadata": {},
     "output_type": "execute_result"
    }
   ],
   "source": [
    "# Keep all the cryptocurrencies that are being traded.\n",
    "df_crypto = df_crypto[df_crypto.IsTrading != False]\n",
    "df_crypto.head()"
   ]
  },
  {
   "cell_type": "code",
   "execution_count": 20,
   "metadata": {},
   "outputs": [
    {
     "data": {
      "text/html": [
       "<div>\n",
       "<style scoped>\n",
       "    .dataframe tbody tr th:only-of-type {\n",
       "        vertical-align: middle;\n",
       "    }\n",
       "\n",
       "    .dataframe tbody tr th {\n",
       "        vertical-align: top;\n",
       "    }\n",
       "\n",
       "    .dataframe thead th {\n",
       "        text-align: right;\n",
       "    }\n",
       "</style>\n",
       "<table border=\"1\" class=\"dataframe\">\n",
       "  <thead>\n",
       "    <tr style=\"text-align: right;\">\n",
       "      <th></th>\n",
       "      <th>CoinName</th>\n",
       "      <th>Algorithm</th>\n",
       "      <th>IsTrading</th>\n",
       "      <th>ProofType</th>\n",
       "      <th>TotalCoinsMined</th>\n",
       "      <th>TotalCoinSupply</th>\n",
       "    </tr>\n",
       "  </thead>\n",
       "  <tbody>\n",
       "    <tr>\n",
       "      <th>42</th>\n",
       "      <td>42 Coin</td>\n",
       "      <td>Scrypt</td>\n",
       "      <td>True</td>\n",
       "      <td>PoW/PoS</td>\n",
       "      <td>4.199995e+01</td>\n",
       "      <td>42</td>\n",
       "    </tr>\n",
       "    <tr>\n",
       "      <th>365</th>\n",
       "      <td>365Coin</td>\n",
       "      <td>X11</td>\n",
       "      <td>True</td>\n",
       "      <td>PoW/PoS</td>\n",
       "      <td>NaN</td>\n",
       "      <td>2300000000</td>\n",
       "    </tr>\n",
       "    <tr>\n",
       "      <th>404</th>\n",
       "      <td>404Coin</td>\n",
       "      <td>Scrypt</td>\n",
       "      <td>True</td>\n",
       "      <td>PoW/PoS</td>\n",
       "      <td>1.055185e+09</td>\n",
       "      <td>532000000</td>\n",
       "    </tr>\n",
       "    <tr>\n",
       "      <th>611</th>\n",
       "      <td>SixEleven</td>\n",
       "      <td>SHA-256</td>\n",
       "      <td>True</td>\n",
       "      <td>PoW</td>\n",
       "      <td>NaN</td>\n",
       "      <td>611000</td>\n",
       "    </tr>\n",
       "    <tr>\n",
       "      <th>808</th>\n",
       "      <td>808</td>\n",
       "      <td>SHA-256</td>\n",
       "      <td>True</td>\n",
       "      <td>PoW/PoS</td>\n",
       "      <td>0.000000e+00</td>\n",
       "      <td>0</td>\n",
       "    </tr>\n",
       "  </tbody>\n",
       "</table>\n",
       "</div>"
      ],
      "text/plain": [
       "      CoinName Algorithm  IsTrading ProofType  TotalCoinsMined TotalCoinSupply\n",
       "42     42 Coin    Scrypt       True   PoW/PoS     4.199995e+01              42\n",
       "365    365Coin       X11       True   PoW/PoS              NaN      2300000000\n",
       "404    404Coin    Scrypt       True   PoW/PoS     1.055185e+09       532000000\n",
       "611  SixEleven   SHA-256       True       PoW              NaN          611000\n",
       "808        808   SHA-256       True   PoW/PoS     0.000000e+00               0"
      ]
     },
     "execution_count": 20,
     "metadata": {},
     "output_type": "execute_result"
    }
   ],
   "source": [
    "# Keep all the cryptocurrencies that have a working algorithm.\n",
    "df_crypto = df_crypto[df_crypto.Algorithm != False]\n",
    "df_crypto.head()"
   ]
  },
  {
   "cell_type": "code",
   "execution_count": 21,
   "metadata": {},
   "outputs": [
    {
     "data": {
      "text/html": [
       "<div>\n",
       "<style scoped>\n",
       "    .dataframe tbody tr th:only-of-type {\n",
       "        vertical-align: middle;\n",
       "    }\n",
       "\n",
       "    .dataframe tbody tr th {\n",
       "        vertical-align: top;\n",
       "    }\n",
       "\n",
       "    .dataframe thead th {\n",
       "        text-align: right;\n",
       "    }\n",
       "</style>\n",
       "<table border=\"1\" class=\"dataframe\">\n",
       "  <thead>\n",
       "    <tr style=\"text-align: right;\">\n",
       "      <th></th>\n",
       "      <th>CoinName</th>\n",
       "      <th>Algorithm</th>\n",
       "      <th>ProofType</th>\n",
       "      <th>TotalCoinsMined</th>\n",
       "      <th>TotalCoinSupply</th>\n",
       "    </tr>\n",
       "  </thead>\n",
       "  <tbody>\n",
       "    <tr>\n",
       "      <th>42</th>\n",
       "      <td>42 Coin</td>\n",
       "      <td>Scrypt</td>\n",
       "      <td>PoW/PoS</td>\n",
       "      <td>4.199995e+01</td>\n",
       "      <td>42</td>\n",
       "    </tr>\n",
       "    <tr>\n",
       "      <th>365</th>\n",
       "      <td>365Coin</td>\n",
       "      <td>X11</td>\n",
       "      <td>PoW/PoS</td>\n",
       "      <td>NaN</td>\n",
       "      <td>2300000000</td>\n",
       "    </tr>\n",
       "    <tr>\n",
       "      <th>404</th>\n",
       "      <td>404Coin</td>\n",
       "      <td>Scrypt</td>\n",
       "      <td>PoW/PoS</td>\n",
       "      <td>1.055185e+09</td>\n",
       "      <td>532000000</td>\n",
       "    </tr>\n",
       "    <tr>\n",
       "      <th>611</th>\n",
       "      <td>SixEleven</td>\n",
       "      <td>SHA-256</td>\n",
       "      <td>PoW</td>\n",
       "      <td>NaN</td>\n",
       "      <td>611000</td>\n",
       "    </tr>\n",
       "    <tr>\n",
       "      <th>808</th>\n",
       "      <td>808</td>\n",
       "      <td>SHA-256</td>\n",
       "      <td>PoW/PoS</td>\n",
       "      <td>0.000000e+00</td>\n",
       "      <td>0</td>\n",
       "    </tr>\n",
       "  </tbody>\n",
       "</table>\n",
       "</div>"
      ],
      "text/plain": [
       "      CoinName Algorithm ProofType  TotalCoinsMined TotalCoinSupply\n",
       "42     42 Coin    Scrypt   PoW/PoS     4.199995e+01              42\n",
       "365    365Coin       X11   PoW/PoS              NaN      2300000000\n",
       "404    404Coin    Scrypt   PoW/PoS     1.055185e+09       532000000\n",
       "611  SixEleven   SHA-256       PoW              NaN          611000\n",
       "808        808   SHA-256   PoW/PoS     0.000000e+00               0"
      ]
     },
     "execution_count": 21,
     "metadata": {},
     "output_type": "execute_result"
    }
   ],
   "source": [
    "# Remove the \"IsTrading\" column. \n",
    "df_crypto.drop(columns=[\"IsTrading\"], inplace=True)\n",
    "df_crypto.head()"
   ]
  },
  {
   "cell_type": "code",
   "execution_count": 22,
   "metadata": {},
   "outputs": [],
   "source": [
    "# Remove rows that have at least 1 null value.\n",
    "df_crypto = df_crypto.dropna()"
   ]
  },
  {
   "cell_type": "code",
   "execution_count": 23,
   "metadata": {},
   "outputs": [
    {
     "data": {
      "text/html": [
       "<div>\n",
       "<style scoped>\n",
       "    .dataframe tbody tr th:only-of-type {\n",
       "        vertical-align: middle;\n",
       "    }\n",
       "\n",
       "    .dataframe tbody tr th {\n",
       "        vertical-align: top;\n",
       "    }\n",
       "\n",
       "    .dataframe thead th {\n",
       "        text-align: right;\n",
       "    }\n",
       "</style>\n",
       "<table border=\"1\" class=\"dataframe\">\n",
       "  <thead>\n",
       "    <tr style=\"text-align: right;\">\n",
       "      <th></th>\n",
       "      <th>CoinName</th>\n",
       "      <th>Algorithm</th>\n",
       "      <th>ProofType</th>\n",
       "      <th>TotalCoinsMined</th>\n",
       "      <th>TotalCoinSupply</th>\n",
       "    </tr>\n",
       "  </thead>\n",
       "  <tbody>\n",
       "    <tr>\n",
       "      <th>42</th>\n",
       "      <td>42 Coin</td>\n",
       "      <td>Scrypt</td>\n",
       "      <td>PoW/PoS</td>\n",
       "      <td>4.199995e+01</td>\n",
       "      <td>42</td>\n",
       "    </tr>\n",
       "    <tr>\n",
       "      <th>404</th>\n",
       "      <td>404Coin</td>\n",
       "      <td>Scrypt</td>\n",
       "      <td>PoW/PoS</td>\n",
       "      <td>1.055185e+09</td>\n",
       "      <td>532000000</td>\n",
       "    </tr>\n",
       "    <tr>\n",
       "      <th>1337</th>\n",
       "      <td>EliteCoin</td>\n",
       "      <td>X13</td>\n",
       "      <td>PoW/PoS</td>\n",
       "      <td>2.927942e+10</td>\n",
       "      <td>3.14E+11</td>\n",
       "    </tr>\n",
       "    <tr>\n",
       "      <th>BTC</th>\n",
       "      <td>Bitcoin</td>\n",
       "      <td>SHA-256</td>\n",
       "      <td>PoW</td>\n",
       "      <td>1.792718e+07</td>\n",
       "      <td>21000000</td>\n",
       "    </tr>\n",
       "    <tr>\n",
       "      <th>ETH</th>\n",
       "      <td>Ethereum</td>\n",
       "      <td>Ethash</td>\n",
       "      <td>PoW</td>\n",
       "      <td>1.076842e+08</td>\n",
       "      <td>0</td>\n",
       "    </tr>\n",
       "    <tr>\n",
       "      <th>...</th>\n",
       "      <td>...</td>\n",
       "      <td>...</td>\n",
       "      <td>...</td>\n",
       "      <td>...</td>\n",
       "      <td>...</td>\n",
       "    </tr>\n",
       "    <tr>\n",
       "      <th>ZEPH</th>\n",
       "      <td>ZEPHYR</td>\n",
       "      <td>SHA-256</td>\n",
       "      <td>DPoS</td>\n",
       "      <td>2.000000e+09</td>\n",
       "      <td>2000000000</td>\n",
       "    </tr>\n",
       "    <tr>\n",
       "      <th>GAP</th>\n",
       "      <td>Gapcoin</td>\n",
       "      <td>Scrypt</td>\n",
       "      <td>PoW/PoS</td>\n",
       "      <td>1.493105e+07</td>\n",
       "      <td>250000000</td>\n",
       "    </tr>\n",
       "    <tr>\n",
       "      <th>BDX</th>\n",
       "      <td>Beldex</td>\n",
       "      <td>CryptoNight</td>\n",
       "      <td>PoW</td>\n",
       "      <td>9.802226e+08</td>\n",
       "      <td>1400222610</td>\n",
       "    </tr>\n",
       "    <tr>\n",
       "      <th>ZEN</th>\n",
       "      <td>Horizen</td>\n",
       "      <td>Equihash</td>\n",
       "      <td>PoW</td>\n",
       "      <td>7.296538e+06</td>\n",
       "      <td>21000000</td>\n",
       "    </tr>\n",
       "    <tr>\n",
       "      <th>XBC</th>\n",
       "      <td>BitcoinPlus</td>\n",
       "      <td>Scrypt</td>\n",
       "      <td>PoS</td>\n",
       "      <td>1.283270e+05</td>\n",
       "      <td>1000000</td>\n",
       "    </tr>\n",
       "  </tbody>\n",
       "</table>\n",
       "<p>532 rows × 5 columns</p>\n",
       "</div>"
      ],
      "text/plain": [
       "         CoinName    Algorithm ProofType  TotalCoinsMined TotalCoinSupply\n",
       "42        42 Coin       Scrypt   PoW/PoS     4.199995e+01              42\n",
       "404       404Coin       Scrypt   PoW/PoS     1.055185e+09       532000000\n",
       "1337    EliteCoin          X13   PoW/PoS     2.927942e+10        3.14E+11\n",
       "BTC       Bitcoin      SHA-256       PoW     1.792718e+07        21000000\n",
       "ETH      Ethereum       Ethash       PoW     1.076842e+08               0\n",
       "...           ...          ...       ...              ...             ...\n",
       "ZEPH       ZEPHYR      SHA-256      DPoS     2.000000e+09      2000000000\n",
       "GAP       Gapcoin       Scrypt   PoW/PoS     1.493105e+07       250000000\n",
       "BDX        Beldex  CryptoNight       PoW     9.802226e+08      1400222610\n",
       "ZEN       Horizen     Equihash       PoW     7.296538e+06        21000000\n",
       "XBC   BitcoinPlus       Scrypt       PoS     1.283270e+05         1000000\n",
       "\n",
       "[532 rows x 5 columns]"
      ]
     },
     "execution_count": 23,
     "metadata": {},
     "output_type": "execute_result"
    }
   ],
   "source": [
    "# Keep the rows where coins are mined.\n",
    "df_crypto = df_crypto[df_crypto.TotalCoinsMined > 0]\n",
    "df_crypto"
   ]
  },
  {
   "cell_type": "code",
   "execution_count": 24,
   "metadata": {},
   "outputs": [
    {
     "data": {
      "text/html": [
       "<div>\n",
       "<style scoped>\n",
       "    .dataframe tbody tr th:only-of-type {\n",
       "        vertical-align: middle;\n",
       "    }\n",
       "\n",
       "    .dataframe tbody tr th {\n",
       "        vertical-align: top;\n",
       "    }\n",
       "\n",
       "    .dataframe thead th {\n",
       "        text-align: right;\n",
       "    }\n",
       "</style>\n",
       "<table border=\"1\" class=\"dataframe\">\n",
       "  <thead>\n",
       "    <tr style=\"text-align: right;\">\n",
       "      <th></th>\n",
       "      <th>CoinName</th>\n",
       "    </tr>\n",
       "  </thead>\n",
       "  <tbody>\n",
       "    <tr>\n",
       "      <th>42</th>\n",
       "      <td>42 Coin</td>\n",
       "    </tr>\n",
       "    <tr>\n",
       "      <th>404</th>\n",
       "      <td>404Coin</td>\n",
       "    </tr>\n",
       "    <tr>\n",
       "      <th>1337</th>\n",
       "      <td>EliteCoin</td>\n",
       "    </tr>\n",
       "    <tr>\n",
       "      <th>BTC</th>\n",
       "      <td>Bitcoin</td>\n",
       "    </tr>\n",
       "    <tr>\n",
       "      <th>ETH</th>\n",
       "      <td>Ethereum</td>\n",
       "    </tr>\n",
       "    <tr>\n",
       "      <th>...</th>\n",
       "      <td>...</td>\n",
       "    </tr>\n",
       "    <tr>\n",
       "      <th>ZEPH</th>\n",
       "      <td>ZEPHYR</td>\n",
       "    </tr>\n",
       "    <tr>\n",
       "      <th>GAP</th>\n",
       "      <td>Gapcoin</td>\n",
       "    </tr>\n",
       "    <tr>\n",
       "      <th>BDX</th>\n",
       "      <td>Beldex</td>\n",
       "    </tr>\n",
       "    <tr>\n",
       "      <th>ZEN</th>\n",
       "      <td>Horizen</td>\n",
       "    </tr>\n",
       "    <tr>\n",
       "      <th>XBC</th>\n",
       "      <td>BitcoinPlus</td>\n",
       "    </tr>\n",
       "  </tbody>\n",
       "</table>\n",
       "<p>532 rows × 1 columns</p>\n",
       "</div>"
      ],
      "text/plain": [
       "         CoinName\n",
       "42        42 Coin\n",
       "404       404Coin\n",
       "1337    EliteCoin\n",
       "BTC       Bitcoin\n",
       "ETH      Ethereum\n",
       "...           ...\n",
       "ZEPH       ZEPHYR\n",
       "GAP       Gapcoin\n",
       "BDX        Beldex\n",
       "ZEN       Horizen\n",
       "XBC   BitcoinPlus\n",
       "\n",
       "[532 rows x 1 columns]"
      ]
     },
     "execution_count": 24,
     "metadata": {},
     "output_type": "execute_result"
    }
   ],
   "source": [
    "# Create a new DataFrame that holds only the cryptocurrencies names.\n",
    "df_crypto_names = df_crypto[[\"CoinName\"]]\n",
    "df_crypto_names"
   ]
  },
  {
   "cell_type": "code",
   "execution_count": 25,
   "metadata": {},
   "outputs": [
    {
     "data": {
      "text/html": [
       "<div>\n",
       "<style scoped>\n",
       "    .dataframe tbody tr th:only-of-type {\n",
       "        vertical-align: middle;\n",
       "    }\n",
       "\n",
       "    .dataframe tbody tr th {\n",
       "        vertical-align: top;\n",
       "    }\n",
       "\n",
       "    .dataframe thead th {\n",
       "        text-align: right;\n",
       "    }\n",
       "</style>\n",
       "<table border=\"1\" class=\"dataframe\">\n",
       "  <thead>\n",
       "    <tr style=\"text-align: right;\">\n",
       "      <th></th>\n",
       "      <th>Algorithm</th>\n",
       "      <th>ProofType</th>\n",
       "      <th>TotalCoinsMined</th>\n",
       "      <th>TotalCoinSupply</th>\n",
       "    </tr>\n",
       "  </thead>\n",
       "  <tbody>\n",
       "    <tr>\n",
       "      <th>42</th>\n",
       "      <td>Scrypt</td>\n",
       "      <td>PoW/PoS</td>\n",
       "      <td>4.199995e+01</td>\n",
       "      <td>42</td>\n",
       "    </tr>\n",
       "    <tr>\n",
       "      <th>404</th>\n",
       "      <td>Scrypt</td>\n",
       "      <td>PoW/PoS</td>\n",
       "      <td>1.055185e+09</td>\n",
       "      <td>532000000</td>\n",
       "    </tr>\n",
       "    <tr>\n",
       "      <th>1337</th>\n",
       "      <td>X13</td>\n",
       "      <td>PoW/PoS</td>\n",
       "      <td>2.927942e+10</td>\n",
       "      <td>3.14E+11</td>\n",
       "    </tr>\n",
       "    <tr>\n",
       "      <th>BTC</th>\n",
       "      <td>SHA-256</td>\n",
       "      <td>PoW</td>\n",
       "      <td>1.792718e+07</td>\n",
       "      <td>21000000</td>\n",
       "    </tr>\n",
       "    <tr>\n",
       "      <th>ETH</th>\n",
       "      <td>Ethash</td>\n",
       "      <td>PoW</td>\n",
       "      <td>1.076842e+08</td>\n",
       "      <td>0</td>\n",
       "    </tr>\n",
       "  </tbody>\n",
       "</table>\n",
       "</div>"
      ],
      "text/plain": [
       "     Algorithm ProofType  TotalCoinsMined TotalCoinSupply\n",
       "42      Scrypt   PoW/PoS     4.199995e+01              42\n",
       "404     Scrypt   PoW/PoS     1.055185e+09       532000000\n",
       "1337       X13   PoW/PoS     2.927942e+10        3.14E+11\n",
       "BTC    SHA-256       PoW     1.792718e+07        21000000\n",
       "ETH     Ethash       PoW     1.076842e+08               0"
      ]
     },
     "execution_count": 25,
     "metadata": {},
     "output_type": "execute_result"
    }
   ],
   "source": [
    "# Drop the 'CoinName' column since it's not going to be used on the clustering algorithm.\n",
    "df_crypto.drop(columns=[\"CoinName\"], inplace=True)\n",
    "df_crypto.head()"
   ]
  },
  {
   "cell_type": "code",
   "execution_count": 26,
   "metadata": {},
   "outputs": [
    {
     "data": {
      "text/html": [
       "<div>\n",
       "<style scoped>\n",
       "    .dataframe tbody tr th:only-of-type {\n",
       "        vertical-align: middle;\n",
       "    }\n",
       "\n",
       "    .dataframe tbody tr th {\n",
       "        vertical-align: top;\n",
       "    }\n",
       "\n",
       "    .dataframe thead th {\n",
       "        text-align: right;\n",
       "    }\n",
       "</style>\n",
       "<table border=\"1\" class=\"dataframe\">\n",
       "  <thead>\n",
       "    <tr style=\"text-align: right;\">\n",
       "      <th></th>\n",
       "      <th>TotalCoinsMined</th>\n",
       "      <th>Algorithm_1GB AES Pattern Search</th>\n",
       "      <th>Algorithm_536</th>\n",
       "      <th>Algorithm_Argon2d</th>\n",
       "      <th>Algorithm_BLAKE256</th>\n",
       "      <th>Algorithm_Blake</th>\n",
       "      <th>Algorithm_Blake2S</th>\n",
       "      <th>Algorithm_Blake2b</th>\n",
       "      <th>Algorithm_C11</th>\n",
       "      <th>Algorithm_Cloverhash</th>\n",
       "      <th>...</th>\n",
       "      <th>TotalCoinSupply_91388946</th>\n",
       "      <th>TotalCoinSupply_92000000000</th>\n",
       "      <th>TotalCoinSupply_9354000</th>\n",
       "      <th>TotalCoinSupply_9507271</th>\n",
       "      <th>TotalCoinSupply_9736000</th>\n",
       "      <th>TotalCoinSupply_98000000</th>\n",
       "      <th>TotalCoinSupply_98100000000</th>\n",
       "      <th>TotalCoinSupply_99000000000</th>\n",
       "      <th>TotalCoinSupply_999481516</th>\n",
       "      <th>TotalCoinSupply_9999999</th>\n",
       "    </tr>\n",
       "  </thead>\n",
       "  <tbody>\n",
       "    <tr>\n",
       "      <th>42</th>\n",
       "      <td>4.199995e+01</td>\n",
       "      <td>0</td>\n",
       "      <td>0</td>\n",
       "      <td>0</td>\n",
       "      <td>0</td>\n",
       "      <td>0</td>\n",
       "      <td>0</td>\n",
       "      <td>0</td>\n",
       "      <td>0</td>\n",
       "      <td>0</td>\n",
       "      <td>...</td>\n",
       "      <td>0</td>\n",
       "      <td>0</td>\n",
       "      <td>0</td>\n",
       "      <td>0</td>\n",
       "      <td>0</td>\n",
       "      <td>0</td>\n",
       "      <td>0</td>\n",
       "      <td>0</td>\n",
       "      <td>0</td>\n",
       "      <td>0</td>\n",
       "    </tr>\n",
       "    <tr>\n",
       "      <th>404</th>\n",
       "      <td>1.055185e+09</td>\n",
       "      <td>0</td>\n",
       "      <td>0</td>\n",
       "      <td>0</td>\n",
       "      <td>0</td>\n",
       "      <td>0</td>\n",
       "      <td>0</td>\n",
       "      <td>0</td>\n",
       "      <td>0</td>\n",
       "      <td>0</td>\n",
       "      <td>...</td>\n",
       "      <td>0</td>\n",
       "      <td>0</td>\n",
       "      <td>0</td>\n",
       "      <td>0</td>\n",
       "      <td>0</td>\n",
       "      <td>0</td>\n",
       "      <td>0</td>\n",
       "      <td>0</td>\n",
       "      <td>0</td>\n",
       "      <td>0</td>\n",
       "    </tr>\n",
       "    <tr>\n",
       "      <th>1337</th>\n",
       "      <td>2.927942e+10</td>\n",
       "      <td>0</td>\n",
       "      <td>0</td>\n",
       "      <td>0</td>\n",
       "      <td>0</td>\n",
       "      <td>0</td>\n",
       "      <td>0</td>\n",
       "      <td>0</td>\n",
       "      <td>0</td>\n",
       "      <td>0</td>\n",
       "      <td>...</td>\n",
       "      <td>0</td>\n",
       "      <td>0</td>\n",
       "      <td>0</td>\n",
       "      <td>0</td>\n",
       "      <td>0</td>\n",
       "      <td>0</td>\n",
       "      <td>0</td>\n",
       "      <td>0</td>\n",
       "      <td>0</td>\n",
       "      <td>0</td>\n",
       "    </tr>\n",
       "    <tr>\n",
       "      <th>BTC</th>\n",
       "      <td>1.792718e+07</td>\n",
       "      <td>0</td>\n",
       "      <td>0</td>\n",
       "      <td>0</td>\n",
       "      <td>0</td>\n",
       "      <td>0</td>\n",
       "      <td>0</td>\n",
       "      <td>0</td>\n",
       "      <td>0</td>\n",
       "      <td>0</td>\n",
       "      <td>...</td>\n",
       "      <td>0</td>\n",
       "      <td>0</td>\n",
       "      <td>0</td>\n",
       "      <td>0</td>\n",
       "      <td>0</td>\n",
       "      <td>0</td>\n",
       "      <td>0</td>\n",
       "      <td>0</td>\n",
       "      <td>0</td>\n",
       "      <td>0</td>\n",
       "    </tr>\n",
       "    <tr>\n",
       "      <th>ETH</th>\n",
       "      <td>1.076842e+08</td>\n",
       "      <td>0</td>\n",
       "      <td>0</td>\n",
       "      <td>0</td>\n",
       "      <td>0</td>\n",
       "      <td>0</td>\n",
       "      <td>0</td>\n",
       "      <td>0</td>\n",
       "      <td>0</td>\n",
       "      <td>0</td>\n",
       "      <td>...</td>\n",
       "      <td>0</td>\n",
       "      <td>0</td>\n",
       "      <td>0</td>\n",
       "      <td>0</td>\n",
       "      <td>0</td>\n",
       "      <td>0</td>\n",
       "      <td>0</td>\n",
       "      <td>0</td>\n",
       "      <td>0</td>\n",
       "      <td>0</td>\n",
       "    </tr>\n",
       "    <tr>\n",
       "      <th>...</th>\n",
       "      <td>...</td>\n",
       "      <td>...</td>\n",
       "      <td>...</td>\n",
       "      <td>...</td>\n",
       "      <td>...</td>\n",
       "      <td>...</td>\n",
       "      <td>...</td>\n",
       "      <td>...</td>\n",
       "      <td>...</td>\n",
       "      <td>...</td>\n",
       "      <td>...</td>\n",
       "      <td>...</td>\n",
       "      <td>...</td>\n",
       "      <td>...</td>\n",
       "      <td>...</td>\n",
       "      <td>...</td>\n",
       "      <td>...</td>\n",
       "      <td>...</td>\n",
       "      <td>...</td>\n",
       "      <td>...</td>\n",
       "      <td>...</td>\n",
       "    </tr>\n",
       "    <tr>\n",
       "      <th>ZEPH</th>\n",
       "      <td>2.000000e+09</td>\n",
       "      <td>0</td>\n",
       "      <td>0</td>\n",
       "      <td>0</td>\n",
       "      <td>0</td>\n",
       "      <td>0</td>\n",
       "      <td>0</td>\n",
       "      <td>0</td>\n",
       "      <td>0</td>\n",
       "      <td>0</td>\n",
       "      <td>...</td>\n",
       "      <td>0</td>\n",
       "      <td>0</td>\n",
       "      <td>0</td>\n",
       "      <td>0</td>\n",
       "      <td>0</td>\n",
       "      <td>0</td>\n",
       "      <td>0</td>\n",
       "      <td>0</td>\n",
       "      <td>0</td>\n",
       "      <td>0</td>\n",
       "    </tr>\n",
       "    <tr>\n",
       "      <th>GAP</th>\n",
       "      <td>1.493105e+07</td>\n",
       "      <td>0</td>\n",
       "      <td>0</td>\n",
       "      <td>0</td>\n",
       "      <td>0</td>\n",
       "      <td>0</td>\n",
       "      <td>0</td>\n",
       "      <td>0</td>\n",
       "      <td>0</td>\n",
       "      <td>0</td>\n",
       "      <td>...</td>\n",
       "      <td>0</td>\n",
       "      <td>0</td>\n",
       "      <td>0</td>\n",
       "      <td>0</td>\n",
       "      <td>0</td>\n",
       "      <td>0</td>\n",
       "      <td>0</td>\n",
       "      <td>0</td>\n",
       "      <td>0</td>\n",
       "      <td>0</td>\n",
       "    </tr>\n",
       "    <tr>\n",
       "      <th>BDX</th>\n",
       "      <td>9.802226e+08</td>\n",
       "      <td>0</td>\n",
       "      <td>0</td>\n",
       "      <td>0</td>\n",
       "      <td>0</td>\n",
       "      <td>0</td>\n",
       "      <td>0</td>\n",
       "      <td>0</td>\n",
       "      <td>0</td>\n",
       "      <td>0</td>\n",
       "      <td>...</td>\n",
       "      <td>0</td>\n",
       "      <td>0</td>\n",
       "      <td>0</td>\n",
       "      <td>0</td>\n",
       "      <td>0</td>\n",
       "      <td>0</td>\n",
       "      <td>0</td>\n",
       "      <td>0</td>\n",
       "      <td>0</td>\n",
       "      <td>0</td>\n",
       "    </tr>\n",
       "    <tr>\n",
       "      <th>ZEN</th>\n",
       "      <td>7.296538e+06</td>\n",
       "      <td>0</td>\n",
       "      <td>0</td>\n",
       "      <td>0</td>\n",
       "      <td>0</td>\n",
       "      <td>0</td>\n",
       "      <td>0</td>\n",
       "      <td>0</td>\n",
       "      <td>0</td>\n",
       "      <td>0</td>\n",
       "      <td>...</td>\n",
       "      <td>0</td>\n",
       "      <td>0</td>\n",
       "      <td>0</td>\n",
       "      <td>0</td>\n",
       "      <td>0</td>\n",
       "      <td>0</td>\n",
       "      <td>0</td>\n",
       "      <td>0</td>\n",
       "      <td>0</td>\n",
       "      <td>0</td>\n",
       "    </tr>\n",
       "    <tr>\n",
       "      <th>XBC</th>\n",
       "      <td>1.283270e+05</td>\n",
       "      <td>0</td>\n",
       "      <td>0</td>\n",
       "      <td>0</td>\n",
       "      <td>0</td>\n",
       "      <td>0</td>\n",
       "      <td>0</td>\n",
       "      <td>0</td>\n",
       "      <td>0</td>\n",
       "      <td>0</td>\n",
       "      <td>...</td>\n",
       "      <td>0</td>\n",
       "      <td>0</td>\n",
       "      <td>0</td>\n",
       "      <td>0</td>\n",
       "      <td>0</td>\n",
       "      <td>0</td>\n",
       "      <td>0</td>\n",
       "      <td>0</td>\n",
       "      <td>0</td>\n",
       "      <td>0</td>\n",
       "    </tr>\n",
       "  </tbody>\n",
       "</table>\n",
       "<p>532 rows × 371 columns</p>\n",
       "</div>"
      ],
      "text/plain": [
       "      TotalCoinsMined  Algorithm_1GB AES Pattern Search  Algorithm_536  \\\n",
       "42       4.199995e+01                                 0              0   \n",
       "404      1.055185e+09                                 0              0   \n",
       "1337     2.927942e+10                                 0              0   \n",
       "BTC      1.792718e+07                                 0              0   \n",
       "ETH      1.076842e+08                                 0              0   \n",
       "...               ...                               ...            ...   \n",
       "ZEPH     2.000000e+09                                 0              0   \n",
       "GAP      1.493105e+07                                 0              0   \n",
       "BDX      9.802226e+08                                 0              0   \n",
       "ZEN      7.296538e+06                                 0              0   \n",
       "XBC      1.283270e+05                                 0              0   \n",
       "\n",
       "      Algorithm_Argon2d  Algorithm_BLAKE256  Algorithm_Blake  \\\n",
       "42                    0                   0                0   \n",
       "404                   0                   0                0   \n",
       "1337                  0                   0                0   \n",
       "BTC                   0                   0                0   \n",
       "ETH                   0                   0                0   \n",
       "...                 ...                 ...              ...   \n",
       "ZEPH                  0                   0                0   \n",
       "GAP                   0                   0                0   \n",
       "BDX                   0                   0                0   \n",
       "ZEN                   0                   0                0   \n",
       "XBC                   0                   0                0   \n",
       "\n",
       "      Algorithm_Blake2S  Algorithm_Blake2b  Algorithm_C11  \\\n",
       "42                    0                  0              0   \n",
       "404                   0                  0              0   \n",
       "1337                  0                  0              0   \n",
       "BTC                   0                  0              0   \n",
       "ETH                   0                  0              0   \n",
       "...                 ...                ...            ...   \n",
       "ZEPH                  0                  0              0   \n",
       "GAP                   0                  0              0   \n",
       "BDX                   0                  0              0   \n",
       "ZEN                   0                  0              0   \n",
       "XBC                   0                  0              0   \n",
       "\n",
       "      Algorithm_Cloverhash  ...  TotalCoinSupply_91388946  \\\n",
       "42                       0  ...                         0   \n",
       "404                      0  ...                         0   \n",
       "1337                     0  ...                         0   \n",
       "BTC                      0  ...                         0   \n",
       "ETH                      0  ...                         0   \n",
       "...                    ...  ...                       ...   \n",
       "ZEPH                     0  ...                         0   \n",
       "GAP                      0  ...                         0   \n",
       "BDX                      0  ...                         0   \n",
       "ZEN                      0  ...                         0   \n",
       "XBC                      0  ...                         0   \n",
       "\n",
       "      TotalCoinSupply_92000000000  TotalCoinSupply_9354000  \\\n",
       "42                              0                        0   \n",
       "404                             0                        0   \n",
       "1337                            0                        0   \n",
       "BTC                             0                        0   \n",
       "ETH                             0                        0   \n",
       "...                           ...                      ...   \n",
       "ZEPH                            0                        0   \n",
       "GAP                             0                        0   \n",
       "BDX                             0                        0   \n",
       "ZEN                             0                        0   \n",
       "XBC                             0                        0   \n",
       "\n",
       "      TotalCoinSupply_9507271  TotalCoinSupply_9736000  \\\n",
       "42                          0                        0   \n",
       "404                         0                        0   \n",
       "1337                        0                        0   \n",
       "BTC                         0                        0   \n",
       "ETH                         0                        0   \n",
       "...                       ...                      ...   \n",
       "ZEPH                        0                        0   \n",
       "GAP                         0                        0   \n",
       "BDX                         0                        0   \n",
       "ZEN                         0                        0   \n",
       "XBC                         0                        0   \n",
       "\n",
       "      TotalCoinSupply_98000000  TotalCoinSupply_98100000000  \\\n",
       "42                           0                            0   \n",
       "404                          0                            0   \n",
       "1337                         0                            0   \n",
       "BTC                          0                            0   \n",
       "ETH                          0                            0   \n",
       "...                        ...                          ...   \n",
       "ZEPH                         0                            0   \n",
       "GAP                          0                            0   \n",
       "BDX                          0                            0   \n",
       "ZEN                          0                            0   \n",
       "XBC                          0                            0   \n",
       "\n",
       "      TotalCoinSupply_99000000000  TotalCoinSupply_999481516  \\\n",
       "42                              0                          0   \n",
       "404                             0                          0   \n",
       "1337                            0                          0   \n",
       "BTC                             0                          0   \n",
       "ETH                             0                          0   \n",
       "...                           ...                        ...   \n",
       "ZEPH                            0                          0   \n",
       "GAP                             0                          0   \n",
       "BDX                             0                          0   \n",
       "ZEN                             0                          0   \n",
       "XBC                             0                          0   \n",
       "\n",
       "      TotalCoinSupply_9999999  \n",
       "42                          0  \n",
       "404                         0  \n",
       "1337                        0  \n",
       "BTC                         0  \n",
       "ETH                         0  \n",
       "...                       ...  \n",
       "ZEPH                        0  \n",
       "GAP                         0  \n",
       "BDX                         0  \n",
       "ZEN                         0  \n",
       "XBC                         0  \n",
       "\n",
       "[532 rows x 371 columns]"
      ]
     },
     "execution_count": 26,
     "metadata": {},
     "output_type": "execute_result"
    }
   ],
   "source": [
    "# Use get_dummies() to create variables for text features.\n",
    "X = pd.get_dummies(df_crypto)\n",
    "X"
   ]
  },
  {
   "cell_type": "code",
   "execution_count": 27,
   "metadata": {},
   "outputs": [
    {
     "data": {
      "text/plain": [
       "array([[-0.11710444, -0.0433963 , -0.0433963 , ..., -0.0433963 ,\n",
       "        -0.0433963 , -0.0433963 ],\n",
       "       [-0.0939656 , -0.0433963 , -0.0433963 , ..., -0.0433963 ,\n",
       "        -0.0433963 , -0.0433963 ],\n",
       "       [ 0.5249554 , -0.0433963 , -0.0433963 , ..., -0.0433963 ,\n",
       "        -0.0433963 , -0.0433963 ],\n",
       "       ...,\n",
       "       [-0.09560943, -0.0433963 , -0.0433963 , ..., -0.0433963 ,\n",
       "        -0.0433963 , -0.0433963 ],\n",
       "       [-0.11694444, -0.0433963 , -0.0433963 , ..., -0.0433963 ,\n",
       "        -0.0433963 , -0.0433963 ],\n",
       "       [-0.11710163, -0.0433963 , -0.0433963 , ..., -0.0433963 ,\n",
       "        -0.0433963 , -0.0433963 ]])"
      ]
     },
     "execution_count": 27,
     "metadata": {},
     "output_type": "execute_result"
    }
   ],
   "source": [
    "# Standardize the data with StandardScaler().\n",
    "crypto_scaled = StandardScaler().fit_transform(X)\n",
    "crypto_scaled"
   ]
  },
  {
   "cell_type": "markdown",
   "metadata": {},
   "source": [
    "### Deliverable 2: Reducing Data Dimensions Using PCA"
   ]
  },
  {
   "cell_type": "code",
   "execution_count": 28,
   "metadata": {},
   "outputs": [],
   "source": [
    "# Using PCA to reduce dimension to three principal components.\n",
    "pca = PCA(n_components=3)\n",
    "crypto_pca = pca.fit_transform(crypto_scaled)"
   ]
  },
  {
   "cell_type": "code",
   "execution_count": 29,
   "metadata": {},
   "outputs": [
    {
     "data": {
      "text/html": [
       "<div>\n",
       "<style scoped>\n",
       "    .dataframe tbody tr th:only-of-type {\n",
       "        vertical-align: middle;\n",
       "    }\n",
       "\n",
       "    .dataframe tbody tr th {\n",
       "        vertical-align: top;\n",
       "    }\n",
       "\n",
       "    .dataframe thead th {\n",
       "        text-align: right;\n",
       "    }\n",
       "</style>\n",
       "<table border=\"1\" class=\"dataframe\">\n",
       "  <thead>\n",
       "    <tr style=\"text-align: right;\">\n",
       "      <th></th>\n",
       "      <th>PC 1</th>\n",
       "      <th>PC 2</th>\n",
       "      <th>PC 3</th>\n",
       "    </tr>\n",
       "  </thead>\n",
       "  <tbody>\n",
       "    <tr>\n",
       "      <th>42</th>\n",
       "      <td>-0.255151</td>\n",
       "      <td>-0.141207</td>\n",
       "      <td>-0.045944</td>\n",
       "    </tr>\n",
       "    <tr>\n",
       "      <th>404</th>\n",
       "      <td>-0.233346</td>\n",
       "      <td>-0.129602</td>\n",
       "      <td>-0.041587</td>\n",
       "    </tr>\n",
       "    <tr>\n",
       "      <th>1337</th>\n",
       "      <td>0.285932</td>\n",
       "      <td>0.216392</td>\n",
       "      <td>0.118050</td>\n",
       "    </tr>\n",
       "    <tr>\n",
       "      <th>BTC</th>\n",
       "      <td>-0.191624</td>\n",
       "      <td>-0.153503</td>\n",
       "      <td>-0.025545</td>\n",
       "    </tr>\n",
       "    <tr>\n",
       "      <th>ETH</th>\n",
       "      <td>-0.285919</td>\n",
       "      <td>-0.254169</td>\n",
       "      <td>-0.092234</td>\n",
       "    </tr>\n",
       "    <tr>\n",
       "      <th>...</th>\n",
       "      <td>...</td>\n",
       "      <td>...</td>\n",
       "      <td>...</td>\n",
       "    </tr>\n",
       "    <tr>\n",
       "      <th>ZEPH</th>\n",
       "      <td>2.528859</td>\n",
       "      <td>-0.171304</td>\n",
       "      <td>0.245978</td>\n",
       "    </tr>\n",
       "    <tr>\n",
       "      <th>GAP</th>\n",
       "      <td>-0.271950</td>\n",
       "      <td>-0.212501</td>\n",
       "      <td>-0.074464</td>\n",
       "    </tr>\n",
       "    <tr>\n",
       "      <th>BDX</th>\n",
       "      <td>0.013621</td>\n",
       "      <td>-0.293019</td>\n",
       "      <td>0.044953</td>\n",
       "    </tr>\n",
       "    <tr>\n",
       "      <th>ZEN</th>\n",
       "      <td>-0.210519</td>\n",
       "      <td>-0.155893</td>\n",
       "      <td>-0.083150</td>\n",
       "    </tr>\n",
       "    <tr>\n",
       "      <th>XBC</th>\n",
       "      <td>-0.296043</td>\n",
       "      <td>-0.139445</td>\n",
       "      <td>-0.160483</td>\n",
       "    </tr>\n",
       "  </tbody>\n",
       "</table>\n",
       "<p>532 rows × 3 columns</p>\n",
       "</div>"
      ],
      "text/plain": [
       "          PC 1      PC 2      PC 3\n",
       "42   -0.255151 -0.141207 -0.045944\n",
       "404  -0.233346 -0.129602 -0.041587\n",
       "1337  0.285932  0.216392  0.118050\n",
       "BTC  -0.191624 -0.153503 -0.025545\n",
       "ETH  -0.285919 -0.254169 -0.092234\n",
       "...        ...       ...       ...\n",
       "ZEPH  2.528859 -0.171304  0.245978\n",
       "GAP  -0.271950 -0.212501 -0.074464\n",
       "BDX   0.013621 -0.293019  0.044953\n",
       "ZEN  -0.210519 -0.155893 -0.083150\n",
       "XBC  -0.296043 -0.139445 -0.160483\n",
       "\n",
       "[532 rows x 3 columns]"
      ]
     },
     "execution_count": 29,
     "metadata": {},
     "output_type": "execute_result"
    }
   ],
   "source": [
    "# Create a DataFrame with the three principal components.\n",
    "pcs_df = pd.DataFrame(data=crypto_pca, columns=[\"PC 1\", \"PC 2\", \"PC 3\"], index=df_crypto.index)\n",
    "pcs_df"
   ]
  },
  {
   "cell_type": "markdown",
   "metadata": {},
   "source": [
    "### Deliverable 3: Clustering Crytocurrencies Using K-Means\n",
    "\n",
    "#### Finding the Best Value for `k` Using the Elbow Curve"
   ]
  },
  {
   "cell_type": "code",
   "execution_count": 30,
   "metadata": {},
   "outputs": [
    {
     "name": "stderr",
     "output_type": "stream",
     "text": [
      "C:\\Users\\Samantha\\anaconda3\\envs\\mlenv\\lib\\site-packages\\sklearn\\cluster\\_kmeans.py:882: UserWarning: KMeans is known to have a memory leak on Windows with MKL, when there are less chunks than available threads. You can avoid it by setting the environment variable OMP_NUM_THREADS=3.\n",
      "  f\"KMeans is known to have a memory leak on Windows \"\n"
     ]
    },
    {
     "data": {},
     "metadata": {},
     "output_type": "display_data"
    },
    {
     "data": {
      "application/vnd.holoviews_exec.v0+json": "",
      "text/html": [
       "<div id='1102'>\n",
       "\n",
       "\n",
       "\n",
       "\n",
       "\n",
       "  <div class=\"bk-root\" id=\"f94c2688-0afb-4654-826a-f42c232c04de\" data-root-id=\"1102\"></div>\n",
       "</div>\n",
       "<script type=\"application/javascript\">(function(root) {\n",
       "  function embed_document(root) {\n",
       "    var docs_json = {\"28ed3bfe-3fee-484d-9348-e535f3c2fc0b\":{\"roots\":{\"references\":[{\"attributes\":{},\"id\":\"1128\",\"type\":\"ResetTool\"},{\"attributes\":{\"ticks\":[1,2,3,4,5,6,7,8,9,10]},\"id\":\"1145\",\"type\":\"FixedTicker\"},{\"attributes\":{},\"id\":\"1126\",\"type\":\"WheelZoomTool\"},{\"attributes\":{\"text\":\"Elbow Curve\",\"text_color\":{\"value\":\"black\"},\"text_font_size\":{\"value\":\"12pt\"}},\"id\":\"1108\",\"type\":\"Title\"},{\"attributes\":{\"overlay\":{\"id\":\"1129\"}},\"id\":\"1127\",\"type\":\"BoxZoomTool\"},{\"attributes\":{\"margin\":[5,5,5,5],\"name\":\"HSpacer01716\",\"sizing_mode\":\"stretch_width\"},\"id\":\"1166\",\"type\":\"Spacer\"},{\"attributes\":{},\"id\":\"1112\",\"type\":\"LinearScale\"},{\"attributes\":{\"margin\":[5,5,5,5],\"name\":\"HSpacer01715\",\"sizing_mode\":\"stretch_width\"},\"id\":\"1103\",\"type\":\"Spacer\"},{\"attributes\":{\"data_source\":{\"id\":\"1137\"},\"glyph\":{\"id\":\"1140\"},\"hover_glyph\":null,\"muted_glyph\":{\"id\":\"1142\"},\"nonselection_glyph\":{\"id\":\"1141\"},\"selection_glyph\":null,\"view\":{\"id\":\"1144\"}},\"id\":\"1143\",\"type\":\"GlyphRenderer\"},{\"attributes\":{\"end\":10.0,\"reset_end\":10.0,\"reset_start\":1.0,\"start\":1.0,\"tags\":[[[\"k\",\"k\",null]]]},\"id\":\"1104\",\"type\":\"Range1d\"},{\"attributes\":{},\"id\":\"1146\",\"type\":\"BasicTickFormatter\"},{\"attributes\":{\"axis_label\":\"k\",\"bounds\":\"auto\",\"formatter\":{\"id\":\"1146\"},\"major_label_orientation\":\"horizontal\",\"ticker\":{\"id\":\"1145\"}},\"id\":\"1116\",\"type\":\"LinearAxis\"},{\"attributes\":{},\"id\":\"1114\",\"type\":\"LinearScale\"},{\"attributes\":{},\"id\":\"1150\",\"type\":\"BasicTickFormatter\"},{\"attributes\":{\"axis_label\":\"inertia\",\"bounds\":\"auto\",\"formatter\":{\"id\":\"1150\"},\"major_label_orientation\":\"horizontal\",\"ticker\":{\"id\":\"1121\"}},\"id\":\"1120\",\"type\":\"LinearAxis\"},{\"attributes\":{\"axis\":{\"id\":\"1116\"},\"grid_line_color\":null,\"ticker\":null},\"id\":\"1119\",\"type\":\"Grid\"},{\"attributes\":{\"end\":5355.649725889202,\"reset_end\":5355.649725889202,\"reset_start\":-445.46386524472865,\"start\":-445.46386524472865,\"tags\":[[[\"inertia\",\"inertia\",null]]]},\"id\":\"1105\",\"type\":\"Range1d\"},{\"attributes\":{\"callback\":null,\"renderers\":[{\"id\":\"1143\"}],\"tags\":[\"hv_created\"],\"tooltips\":[[\"k\",\"@{k}\"],[\"inertia\",\"@{inertia}\"]]},\"id\":\"1106\",\"type\":\"HoverTool\"},{\"attributes\":{},\"id\":\"1121\",\"type\":\"BasicTicker\"},{\"attributes\":{\"axis\":{\"id\":\"1120\"},\"dimension\":1,\"grid_line_color\":null,\"ticker\":null},\"id\":\"1123\",\"type\":\"Grid\"},{\"attributes\":{},\"id\":\"1156\",\"type\":\"UnionRenderers\"},{\"attributes\":{\"active_drag\":\"auto\",\"active_inspect\":\"auto\",\"active_multi\":null,\"active_scroll\":\"auto\",\"active_tap\":\"auto\",\"tools\":[{\"id\":\"1106\"},{\"id\":\"1124\"},{\"id\":\"1125\"},{\"id\":\"1126\"},{\"id\":\"1127\"},{\"id\":\"1128\"}]},\"id\":\"1130\",\"type\":\"Toolbar\"},{\"attributes\":{\"source\":{\"id\":\"1137\"}},\"id\":\"1144\",\"type\":\"CDSView\"},{\"attributes\":{},\"id\":\"1125\",\"type\":\"PanTool\"},{\"attributes\":{\"bottom_units\":\"screen\",\"fill_alpha\":0.5,\"fill_color\":\"lightgrey\",\"left_units\":\"screen\",\"level\":\"overlay\",\"line_alpha\":1.0,\"line_color\":\"black\",\"line_dash\":[4,4],\"line_width\":2,\"right_units\":\"screen\",\"top_units\":\"screen\"},\"id\":\"1129\",\"type\":\"BoxAnnotation\"},{\"attributes\":{\"below\":[{\"id\":\"1116\"}],\"center\":[{\"id\":\"1119\"},{\"id\":\"1123\"}],\"left\":[{\"id\":\"1120\"}],\"margin\":[5,5,5,5],\"min_border_bottom\":10,\"min_border_left\":10,\"min_border_right\":10,\"min_border_top\":10,\"plot_height\":300,\"plot_width\":700,\"renderers\":[{\"id\":\"1143\"}],\"sizing_mode\":\"fixed\",\"title\":{\"id\":\"1108\"},\"toolbar\":{\"id\":\"1130\"},\"x_range\":{\"id\":\"1104\"},\"x_scale\":{\"id\":\"1112\"},\"y_range\":{\"id\":\"1105\"},\"y_scale\":{\"id\":\"1114\"}},\"id\":\"1107\",\"subtype\":\"Figure\",\"type\":\"Plot\"},{\"attributes\":{\"line_alpha\":0.1,\"line_color\":\"#30a2da\",\"line_width\":2,\"x\":{\"field\":\"k\"},\"y\":{\"field\":\"inertia\"}},\"id\":\"1141\",\"type\":\"Line\"},{\"attributes\":{\"line_alpha\":0.2,\"line_color\":\"#30a2da\",\"line_width\":2,\"x\":{\"field\":\"k\"},\"y\":{\"field\":\"inertia\"}},\"id\":\"1142\",\"type\":\"Line\"},{\"attributes\":{},\"id\":\"1138\",\"type\":\"Selection\"},{\"attributes\":{\"data\":{\"inertia\":{\"__ndarray__\":\"YABpPTkIs0Ax9M0o0CiqQPL+CXcoxJ1A2Hsb1k+KgED/yWWzhppzQMUuC/YupWdAj0MsOMleU0C4yf69JpZNQJaUWd6w3EVAQKCWkyv7QkA=\",\"dtype\":\"float64\",\"order\":\"little\",\"shape\":[10]},\"k\":[1,2,3,4,5,6,7,8,9,10]},\"selected\":{\"id\":\"1138\"},\"selection_policy\":{\"id\":\"1156\"}},\"id\":\"1137\",\"type\":\"ColumnDataSource\"},{\"attributes\":{\"line_color\":\"#30a2da\",\"line_width\":2,\"x\":{\"field\":\"k\"},\"y\":{\"field\":\"inertia\"}},\"id\":\"1140\",\"type\":\"Line\"},{\"attributes\":{},\"id\":\"1124\",\"type\":\"SaveTool\"},{\"attributes\":{\"children\":[{\"id\":\"1103\"},{\"id\":\"1107\"},{\"id\":\"1166\"}],\"margin\":[0,0,0,0],\"name\":\"Row01711\",\"tags\":[\"embedded\"]},\"id\":\"1102\",\"type\":\"Row\"}],\"root_ids\":[\"1102\"]},\"title\":\"Bokeh Application\",\"version\":\"2.2.3\"}};\n",
       "    var render_items = [{\"docid\":\"28ed3bfe-3fee-484d-9348-e535f3c2fc0b\",\"root_ids\":[\"1102\"],\"roots\":{\"1102\":\"f94c2688-0afb-4654-826a-f42c232c04de\"}}];\n",
       "    root.Bokeh.embed.embed_items_notebook(docs_json, render_items);\n",
       "  }\n",
       "  if (root.Bokeh !== undefined && root.Bokeh.Panel !== undefined) {\n",
       "    embed_document(root);\n",
       "  } else {\n",
       "    var attempts = 0;\n",
       "    var timer = setInterval(function(root) {\n",
       "      if (root.Bokeh !== undefined && root.Bokeh.Panel !== undefined) {\n",
       "        clearInterval(timer);\n",
       "        embed_document(root);\n",
       "      } else if (document.readyState == \"complete\") {\n",
       "        attempts++;\n",
       "        if (attempts > 100) {\n",
       "          clearInterval(timer);\n",
       "          console.log(\"Bokeh: ERROR: Unable to run BokehJS code because BokehJS library is missing\");\n",
       "        }\n",
       "      }\n",
       "    }, 10, root)\n",
       "  }\n",
       "})(window);</script>"
      ],
      "text/plain": [
       ":Curve   [k]   (inertia)"
      ]
     },
     "execution_count": 30,
     "metadata": {
      "application/vnd.holoviews_exec.v0+json": {
       "id": "1102"
      }
     },
     "output_type": "execute_result"
    }
   ],
   "source": [
    "# Create an elbow curve to find the best value for K.\n",
    "inertia = []\n",
    "k = list(range(1, 11))\n",
    "# Calculate the inertia for the range of K values\n",
    "for i in k:\n",
    "   km = KMeans(n_clusters=i, random_state=0)\n",
    "   km.fit(pcs_df)\n",
    "   inertia.append(km.inertia_)\n",
    "\n",
    "elbow_data = {\"k\": k, \"inertia\": inertia}\n",
    "df_elbow = pd.DataFrame(elbow_data)\n",
    "df_elbow.hvplot.line(x=\"k\", y=\"inertia\", title=\"Elbow Curve\", xticks=k)"
   ]
  },
  {
   "cell_type": "markdown",
   "metadata": {},
   "source": [
    "Running K-Means with `k=4`"
   ]
  },
  {
   "cell_type": "code",
   "execution_count": 31,
   "metadata": {},
   "outputs": [
    {
     "name": "stdout",
     "output_type": "stream",
     "text": [
      "[0 0 0 0 0 0 0 0 0 0 0 0 0 0 0 0 0 0 0 0 0 0 0 0 0 0 0 0 0 0 0 0 0 0 0 0 0\n",
      " 0 0 0 0 0 0 0 0 0 0 0 0 0 0 0 0 0 0 0 0 0 0 0 0 0 0 0 0 0 0 0 0 0 0 0 0 0\n",
      " 0 0 0 0 0 0 0 0 0 0 0 0 0 0 0 0 0 0 0 0 0 0 0 0 0 0 0 0 0 0 0 0 0 0 0 0 0\n",
      " 0 0 0 0 0 0 0 0 0 0 0 0 0 0 0 0 0 0 0 0 0 0 0 0 0 0 0 0 0 0 0 0 0 0 0 0 0\n",
      " 0 0 0 0 0 0 0 0 0 0 0 0 0 0 0 0 0 0 0 0 0 0 0 0 0 0 0 0 0 0 0 0 0 0 0 0 0\n",
      " 0 0 0 0 0 0 0 0 0 0 0 0 0 0 0 0 0 0 0 0 0 0 0 0 0 0 0 0 0 0 0 0 0 0 0 0 0\n",
      " 0 0 0 0 0 0 0 0 0 0 0 0 0 0 0 0 0 0 0 0 0 0 0 0 0 0 0 0 0 0 0 0 0 0 0 0 0\n",
      " 0 0 0 0 0 0 0 0 0 0 0 0 0 0 0 0 0 0 0 0 0 0 0 0 0 0 0 0 0 0 0 0 0 0 0 0 0\n",
      " 0 0 0 0 0 0 0 0 0 0 0 0 0 0 0 0 0 0 0 0 0 0 0 0 0 0 0 0 0 0 0 0 0 0 0 0 0\n",
      " 0 0 0 0 0 0 0 0 0 0 0 0 0 0 0 0 0 0 0 0 0 0 0 0 0 0 0 0 0 0 0 0 0 0 0 0 0\n",
      " 0 0 0 0 0 0 0 0 1 2 0 0 0 0 0 0 0 0 0 0 0 0 0 0 0 0 0 0 0 0 0 0 0 0 0 0 0\n",
      " 0 0 0 0 0 0 0 0 0 0 0 0 0 0 0 0 0 0 0 0 0 0 0 0 0 0 0 0 0 0 0 0 0 0 0 0 0\n",
      " 0 0 0 0 0 0 0 0 0 0 0 0 0 0 0 0 0 0 0 0 0 0 0 0 0 0 0 0 0 0 0 0 0 0 0 0 0\n",
      " 0 0 0 0 0 0 0 0 0 0 0 0 0 0 0 0 0 0 0 0 0 0 0 0 0 0 0 0 0 0 0 0 0 0 0 0 0\n",
      " 0 0 0 0 0 0 0 3 0 0 0 0 0 0]\n"
     ]
    }
   ],
   "source": [
    "# Initialize the K-Means model.\n",
    "model = KMeans(n_clusters=4, random_state = 1)\n",
    "model\n",
    "\n",
    "# Fit the model\n",
    "model.fit(pcs_df)\n",
    "\n",
    "# Predict clusters\n",
    "predictions = model.predict(pcs_df)\n",
    "print(predictions)"
   ]
  },
  {
   "cell_type": "code",
   "execution_count": 32,
   "metadata": {
    "scrolled": true
   },
   "outputs": [
    {
     "data": {
      "text/html": [
       "<div>\n",
       "<style scoped>\n",
       "    .dataframe tbody tr th:only-of-type {\n",
       "        vertical-align: middle;\n",
       "    }\n",
       "\n",
       "    .dataframe tbody tr th {\n",
       "        vertical-align: top;\n",
       "    }\n",
       "\n",
       "    .dataframe thead th {\n",
       "        text-align: right;\n",
       "    }\n",
       "</style>\n",
       "<table border=\"1\" class=\"dataframe\">\n",
       "  <thead>\n",
       "    <tr style=\"text-align: right;\">\n",
       "      <th></th>\n",
       "      <th>Algorithm</th>\n",
       "      <th>ProofType</th>\n",
       "      <th>TotalCoinsMined</th>\n",
       "      <th>TotalCoinSupply</th>\n",
       "      <th>PC 1</th>\n",
       "      <th>PC 2</th>\n",
       "      <th>PC 3</th>\n",
       "    </tr>\n",
       "  </thead>\n",
       "  <tbody>\n",
       "    <tr>\n",
       "      <th>42</th>\n",
       "      <td>Scrypt</td>\n",
       "      <td>PoW/PoS</td>\n",
       "      <td>4.199995e+01</td>\n",
       "      <td>42</td>\n",
       "      <td>-0.255151</td>\n",
       "      <td>-0.141207</td>\n",
       "      <td>-0.045944</td>\n",
       "    </tr>\n",
       "    <tr>\n",
       "      <th>404</th>\n",
       "      <td>Scrypt</td>\n",
       "      <td>PoW/PoS</td>\n",
       "      <td>1.055185e+09</td>\n",
       "      <td>532000000</td>\n",
       "      <td>-0.233346</td>\n",
       "      <td>-0.129602</td>\n",
       "      <td>-0.041587</td>\n",
       "    </tr>\n",
       "    <tr>\n",
       "      <th>1337</th>\n",
       "      <td>X13</td>\n",
       "      <td>PoW/PoS</td>\n",
       "      <td>2.927942e+10</td>\n",
       "      <td>3.14E+11</td>\n",
       "      <td>0.285932</td>\n",
       "      <td>0.216392</td>\n",
       "      <td>0.118050</td>\n",
       "    </tr>\n",
       "    <tr>\n",
       "      <th>BTC</th>\n",
       "      <td>SHA-256</td>\n",
       "      <td>PoW</td>\n",
       "      <td>1.792718e+07</td>\n",
       "      <td>21000000</td>\n",
       "      <td>-0.191624</td>\n",
       "      <td>-0.153503</td>\n",
       "      <td>-0.025545</td>\n",
       "    </tr>\n",
       "    <tr>\n",
       "      <th>ETH</th>\n",
       "      <td>Ethash</td>\n",
       "      <td>PoW</td>\n",
       "      <td>1.076842e+08</td>\n",
       "      <td>0</td>\n",
       "      <td>-0.285919</td>\n",
       "      <td>-0.254169</td>\n",
       "      <td>-0.092234</td>\n",
       "    </tr>\n",
       "    <tr>\n",
       "      <th>...</th>\n",
       "      <td>...</td>\n",
       "      <td>...</td>\n",
       "      <td>...</td>\n",
       "      <td>...</td>\n",
       "      <td>...</td>\n",
       "      <td>...</td>\n",
       "      <td>...</td>\n",
       "    </tr>\n",
       "    <tr>\n",
       "      <th>ZEPH</th>\n",
       "      <td>SHA-256</td>\n",
       "      <td>DPoS</td>\n",
       "      <td>2.000000e+09</td>\n",
       "      <td>2000000000</td>\n",
       "      <td>2.528859</td>\n",
       "      <td>-0.171304</td>\n",
       "      <td>0.245978</td>\n",
       "    </tr>\n",
       "    <tr>\n",
       "      <th>GAP</th>\n",
       "      <td>Scrypt</td>\n",
       "      <td>PoW/PoS</td>\n",
       "      <td>1.493105e+07</td>\n",
       "      <td>250000000</td>\n",
       "      <td>-0.271950</td>\n",
       "      <td>-0.212501</td>\n",
       "      <td>-0.074464</td>\n",
       "    </tr>\n",
       "    <tr>\n",
       "      <th>BDX</th>\n",
       "      <td>CryptoNight</td>\n",
       "      <td>PoW</td>\n",
       "      <td>9.802226e+08</td>\n",
       "      <td>1400222610</td>\n",
       "      <td>0.013621</td>\n",
       "      <td>-0.293019</td>\n",
       "      <td>0.044953</td>\n",
       "    </tr>\n",
       "    <tr>\n",
       "      <th>ZEN</th>\n",
       "      <td>Equihash</td>\n",
       "      <td>PoW</td>\n",
       "      <td>7.296538e+06</td>\n",
       "      <td>21000000</td>\n",
       "      <td>-0.210519</td>\n",
       "      <td>-0.155893</td>\n",
       "      <td>-0.083150</td>\n",
       "    </tr>\n",
       "    <tr>\n",
       "      <th>XBC</th>\n",
       "      <td>Scrypt</td>\n",
       "      <td>PoS</td>\n",
       "      <td>1.283270e+05</td>\n",
       "      <td>1000000</td>\n",
       "      <td>-0.296043</td>\n",
       "      <td>-0.139445</td>\n",
       "      <td>-0.160483</td>\n",
       "    </tr>\n",
       "  </tbody>\n",
       "</table>\n",
       "<p>532 rows × 7 columns</p>\n",
       "</div>"
      ],
      "text/plain": [
       "        Algorithm ProofType  TotalCoinsMined TotalCoinSupply      PC 1  \\\n",
       "42         Scrypt   PoW/PoS     4.199995e+01              42 -0.255151   \n",
       "404        Scrypt   PoW/PoS     1.055185e+09       532000000 -0.233346   \n",
       "1337          X13   PoW/PoS     2.927942e+10        3.14E+11  0.285932   \n",
       "BTC       SHA-256       PoW     1.792718e+07        21000000 -0.191624   \n",
       "ETH        Ethash       PoW     1.076842e+08               0 -0.285919   \n",
       "...           ...       ...              ...             ...       ...   \n",
       "ZEPH      SHA-256      DPoS     2.000000e+09      2000000000  2.528859   \n",
       "GAP        Scrypt   PoW/PoS     1.493105e+07       250000000 -0.271950   \n",
       "BDX   CryptoNight       PoW     9.802226e+08      1400222610  0.013621   \n",
       "ZEN      Equihash       PoW     7.296538e+06        21000000 -0.210519   \n",
       "XBC        Scrypt       PoS     1.283270e+05         1000000 -0.296043   \n",
       "\n",
       "          PC 2      PC 3  \n",
       "42   -0.141207 -0.045944  \n",
       "404  -0.129602 -0.041587  \n",
       "1337  0.216392  0.118050  \n",
       "BTC  -0.153503 -0.025545  \n",
       "ETH  -0.254169 -0.092234  \n",
       "...        ...       ...  \n",
       "ZEPH -0.171304  0.245978  \n",
       "GAP  -0.212501 -0.074464  \n",
       "BDX  -0.293019  0.044953  \n",
       "ZEN  -0.155893 -0.083150  \n",
       "XBC  -0.139445 -0.160483  \n",
       "\n",
       "[532 rows x 7 columns]"
      ]
     },
     "execution_count": 32,
     "metadata": {},
     "output_type": "execute_result"
    }
   ],
   "source": [
    "# Create a new DataFrame including predicted clusters and cryptocurrencies features.\n",
    "# Concatentate the crypto_df and pcs_df DataFrames on the same columns.\n",
    "clustered_df = pd.concat([df_crypto, pcs_df], axis = 1)\n",
    "clustered_df"
   ]
  },
  {
   "cell_type": "code",
   "execution_count": 33,
   "metadata": {},
   "outputs": [
    {
     "name": "stdout",
     "output_type": "stream",
     "text": [
      "(532, 9)\n"
     ]
    },
    {
     "data": {
      "text/html": [
       "<div>\n",
       "<style scoped>\n",
       "    .dataframe tbody tr th:only-of-type {\n",
       "        vertical-align: middle;\n",
       "    }\n",
       "\n",
       "    .dataframe tbody tr th {\n",
       "        vertical-align: top;\n",
       "    }\n",
       "\n",
       "    .dataframe thead th {\n",
       "        text-align: right;\n",
       "    }\n",
       "</style>\n",
       "<table border=\"1\" class=\"dataframe\">\n",
       "  <thead>\n",
       "    <tr style=\"text-align: right;\">\n",
       "      <th></th>\n",
       "      <th>Algorithm</th>\n",
       "      <th>ProofType</th>\n",
       "      <th>TotalCoinsMined</th>\n",
       "      <th>TotalCoinSupply</th>\n",
       "      <th>PC 1</th>\n",
       "      <th>PC 2</th>\n",
       "      <th>PC 3</th>\n",
       "      <th>CoinName</th>\n",
       "      <th>Class</th>\n",
       "    </tr>\n",
       "  </thead>\n",
       "  <tbody>\n",
       "    <tr>\n",
       "      <th>42</th>\n",
       "      <td>Scrypt</td>\n",
       "      <td>PoW/PoS</td>\n",
       "      <td>4.199995e+01</td>\n",
       "      <td>42</td>\n",
       "      <td>-0.255151</td>\n",
       "      <td>-0.141207</td>\n",
       "      <td>-0.045944</td>\n",
       "      <td>42 Coin</td>\n",
       "      <td>0</td>\n",
       "    </tr>\n",
       "    <tr>\n",
       "      <th>404</th>\n",
       "      <td>Scrypt</td>\n",
       "      <td>PoW/PoS</td>\n",
       "      <td>1.055185e+09</td>\n",
       "      <td>532000000</td>\n",
       "      <td>-0.233346</td>\n",
       "      <td>-0.129602</td>\n",
       "      <td>-0.041587</td>\n",
       "      <td>404Coin</td>\n",
       "      <td>0</td>\n",
       "    </tr>\n",
       "    <tr>\n",
       "      <th>1337</th>\n",
       "      <td>X13</td>\n",
       "      <td>PoW/PoS</td>\n",
       "      <td>2.927942e+10</td>\n",
       "      <td>3.14E+11</td>\n",
       "      <td>0.285932</td>\n",
       "      <td>0.216392</td>\n",
       "      <td>0.118050</td>\n",
       "      <td>EliteCoin</td>\n",
       "      <td>0</td>\n",
       "    </tr>\n",
       "    <tr>\n",
       "      <th>BTC</th>\n",
       "      <td>SHA-256</td>\n",
       "      <td>PoW</td>\n",
       "      <td>1.792718e+07</td>\n",
       "      <td>21000000</td>\n",
       "      <td>-0.191624</td>\n",
       "      <td>-0.153503</td>\n",
       "      <td>-0.025545</td>\n",
       "      <td>Bitcoin</td>\n",
       "      <td>0</td>\n",
       "    </tr>\n",
       "    <tr>\n",
       "      <th>ETH</th>\n",
       "      <td>Ethash</td>\n",
       "      <td>PoW</td>\n",
       "      <td>1.076842e+08</td>\n",
       "      <td>0</td>\n",
       "      <td>-0.285919</td>\n",
       "      <td>-0.254169</td>\n",
       "      <td>-0.092234</td>\n",
       "      <td>Ethereum</td>\n",
       "      <td>0</td>\n",
       "    </tr>\n",
       "    <tr>\n",
       "      <th>LTC</th>\n",
       "      <td>Scrypt</td>\n",
       "      <td>PoW</td>\n",
       "      <td>6.303924e+07</td>\n",
       "      <td>84000000</td>\n",
       "      <td>-0.298296</td>\n",
       "      <td>-0.364637</td>\n",
       "      <td>-0.106380</td>\n",
       "      <td>Litecoin</td>\n",
       "      <td>0</td>\n",
       "    </tr>\n",
       "    <tr>\n",
       "      <th>DASH</th>\n",
       "      <td>X11</td>\n",
       "      <td>PoW/PoS</td>\n",
       "      <td>9.031294e+06</td>\n",
       "      <td>22000000</td>\n",
       "      <td>-0.149710</td>\n",
       "      <td>0.131447</td>\n",
       "      <td>0.063968</td>\n",
       "      <td>Dash</td>\n",
       "      <td>0</td>\n",
       "    </tr>\n",
       "    <tr>\n",
       "      <th>XMR</th>\n",
       "      <td>CryptoNight-V7</td>\n",
       "      <td>PoW</td>\n",
       "      <td>1.720114e+07</td>\n",
       "      <td>0</td>\n",
       "      <td>-0.228885</td>\n",
       "      <td>-0.207561</td>\n",
       "      <td>-0.086627</td>\n",
       "      <td>Monero</td>\n",
       "      <td>0</td>\n",
       "    </tr>\n",
       "    <tr>\n",
       "      <th>ETC</th>\n",
       "      <td>Ethash</td>\n",
       "      <td>PoW</td>\n",
       "      <td>1.133597e+08</td>\n",
       "      <td>210000000</td>\n",
       "      <td>-0.458400</td>\n",
       "      <td>-0.239983</td>\n",
       "      <td>-0.140999</td>\n",
       "      <td>Ethereum Classic</td>\n",
       "      <td>0</td>\n",
       "    </tr>\n",
       "    <tr>\n",
       "      <th>ZEC</th>\n",
       "      <td>Equihash</td>\n",
       "      <td>PoW</td>\n",
       "      <td>7.383056e+06</td>\n",
       "      <td>21000000</td>\n",
       "      <td>-0.210518</td>\n",
       "      <td>-0.155893</td>\n",
       "      <td>-0.083150</td>\n",
       "      <td>ZCash</td>\n",
       "      <td>0</td>\n",
       "    </tr>\n",
       "  </tbody>\n",
       "</table>\n",
       "</div>"
      ],
      "text/plain": [
       "           Algorithm ProofType  TotalCoinsMined TotalCoinSupply      PC 1  \\\n",
       "42            Scrypt   PoW/PoS     4.199995e+01              42 -0.255151   \n",
       "404           Scrypt   PoW/PoS     1.055185e+09       532000000 -0.233346   \n",
       "1337             X13   PoW/PoS     2.927942e+10        3.14E+11  0.285932   \n",
       "BTC          SHA-256       PoW     1.792718e+07        21000000 -0.191624   \n",
       "ETH           Ethash       PoW     1.076842e+08               0 -0.285919   \n",
       "LTC           Scrypt       PoW     6.303924e+07        84000000 -0.298296   \n",
       "DASH             X11   PoW/PoS     9.031294e+06        22000000 -0.149710   \n",
       "XMR   CryptoNight-V7       PoW     1.720114e+07               0 -0.228885   \n",
       "ETC           Ethash       PoW     1.133597e+08       210000000 -0.458400   \n",
       "ZEC         Equihash       PoW     7.383056e+06        21000000 -0.210518   \n",
       "\n",
       "          PC 2      PC 3          CoinName  Class  \n",
       "42   -0.141207 -0.045944           42 Coin      0  \n",
       "404  -0.129602 -0.041587           404Coin      0  \n",
       "1337  0.216392  0.118050         EliteCoin      0  \n",
       "BTC  -0.153503 -0.025545           Bitcoin      0  \n",
       "ETH  -0.254169 -0.092234          Ethereum      0  \n",
       "LTC  -0.364637 -0.106380          Litecoin      0  \n",
       "DASH  0.131447  0.063968              Dash      0  \n",
       "XMR  -0.207561 -0.086627            Monero      0  \n",
       "ETC  -0.239983 -0.140999  Ethereum Classic      0  \n",
       "ZEC  -0.155893 -0.083150             ZCash      0  "
      ]
     },
     "execution_count": 33,
     "metadata": {},
     "output_type": "execute_result"
    }
   ],
   "source": [
    "#  Add a new column, \"CoinName\" to the clustered_df DataFrame that holds the names of the cryptocurrencies. \n",
    "clustered_df[\"CoinName\"] = df_crypto_names[\"CoinName\"]\n",
    "\n",
    "#  Add a new column, \"Class\" to the clustered_df DataFrame that holds the predictions.\n",
    "clustered_df[\"Class\"] = model.labels_\n",
    "\n",
    "# Print the shape of the clustered_df\n",
    "print(clustered_df.shape)\n",
    "clustered_df.head(10)"
   ]
  },
  {
   "cell_type": "markdown",
   "metadata": {},
   "source": [
    "### Deliverable 4: Visualizing Cryptocurrencies Results\n",
    "\n",
    "#### 3D-Scatter with Clusters"
   ]
  },
  {
   "cell_type": "code",
   "execution_count": 36,
   "metadata": {},
   "outputs": [
    {
     "data": {
      "application/vnd.plotly.v1+json": {
       "config": {
        "plotlyServerURL": "https://plot.ly"
       },
       "data": [
        {
         "customdata": [
          [
           "Scrypt"
          ],
          [
           "Scrypt"
          ],
          [
           "X13"
          ],
          [
           "SHA-256"
          ],
          [
           "Ethash"
          ],
          [
           "Scrypt"
          ],
          [
           "X11"
          ],
          [
           "CryptoNight-V7"
          ],
          [
           "Ethash"
          ],
          [
           "Equihash"
          ],
          [
           "SHA-512"
          ],
          [
           "Multiple"
          ],
          [
           "SHA-256"
          ],
          [
           "SHA-256"
          ],
          [
           "Scrypt"
          ],
          [
           "X15"
          ],
          [
           "X11"
          ],
          [
           "Scrypt"
          ],
          [
           "Scrypt"
          ],
          [
           "Scrypt"
          ],
          [
           "Multiple"
          ],
          [
           "Scrypt"
          ],
          [
           "SHA-256"
          ],
          [
           "Scrypt"
          ],
          [
           "Scrypt"
          ],
          [
           "Scrypt"
          ],
          [
           "Quark"
          ],
          [
           "Groestl"
          ],
          [
           "Scrypt"
          ],
          [
           "Scrypt"
          ],
          [
           "Scrypt"
          ],
          [
           "Scrypt"
          ],
          [
           "Scrypt"
          ],
          [
           "X11"
          ],
          [
           "Scrypt"
          ],
          [
           "Groestl"
          ],
          [
           "Multiple"
          ],
          [
           "SHA-256"
          ],
          [
           "Scrypt"
          ],
          [
           "Scrypt"
          ],
          [
           "Scrypt"
          ],
          [
           "Scrypt"
          ],
          [
           "PoS"
          ],
          [
           "Scrypt"
          ],
          [
           "Scrypt"
          ],
          [
           "NeoScrypt"
          ],
          [
           "Scrypt"
          ],
          [
           "Scrypt"
          ],
          [
           "Scrypt"
          ],
          [
           "Scrypt"
          ],
          [
           "X11"
          ],
          [
           "Scrypt"
          ],
          [
           "X11"
          ],
          [
           "SHA-256"
          ],
          [
           "Scrypt"
          ],
          [
           "Scrypt"
          ],
          [
           "Scrypt"
          ],
          [
           "SHA3"
          ],
          [
           "Scrypt"
          ],
          [
           "HybridScryptHash256"
          ],
          [
           "Scrypt"
          ],
          [
           "Scrypt"
          ],
          [
           "SHA-256"
          ],
          [
           "Scrypt"
          ],
          [
           "X13"
          ],
          [
           "Scrypt"
          ],
          [
           "SHA-256"
          ],
          [
           "Scrypt"
          ],
          [
           "X13"
          ],
          [
           "NeoScrypt"
          ],
          [
           "Scrypt"
          ],
          [
           "Scrypt"
          ],
          [
           "Scrypt"
          ],
          [
           "Scrypt"
          ],
          [
           "Scrypt"
          ],
          [
           "Scrypt"
          ],
          [
           "X11"
          ],
          [
           "X11"
          ],
          [
           "SHA-256"
          ],
          [
           "Multiple"
          ],
          [
           "SHA-256"
          ],
          [
           "PHI1612"
          ],
          [
           "X11"
          ],
          [
           "SHA-256"
          ],
          [
           "SHA-256"
          ],
          [
           "SHA-256"
          ],
          [
           "X11"
          ],
          [
           "Scrypt"
          ],
          [
           "Scrypt"
          ],
          [
           "Scrypt"
          ],
          [
           "Scrypt"
          ],
          [
           "Lyra2REv2"
          ],
          [
           "Scrypt"
          ],
          [
           "X11"
          ],
          [
           "Multiple"
          ],
          [
           "SHA-256"
          ],
          [
           "X13"
          ],
          [
           "Scrypt"
          ],
          [
           "CryptoNight"
          ],
          [
           "CryptoNight"
          ],
          [
           "Shabal256"
          ],
          [
           "Counterparty"
          ],
          [
           "Scrypt"
          ],
          [
           "SHA-256"
          ],
          [
           "Groestl"
          ],
          [
           "Scrypt"
          ],
          [
           "Scrypt"
          ],
          [
           "Scrypt"
          ],
          [
           "X13"
          ],
          [
           "Scrypt"
          ],
          [
           "Scrypt"
          ],
          [
           "Scrypt"
          ],
          [
           "Scrypt"
          ],
          [
           "X13"
          ],
          [
           "Scrypt"
          ],
          [
           "Stanford Folding"
          ],
          [
           "X11"
          ],
          [
           "Multiple"
          ],
          [
           "QuBit"
          ],
          [
           "Scrypt"
          ],
          [
           "Scrypt"
          ],
          [
           "Scrypt"
          ],
          [
           "M7 POW"
          ],
          [
           "Scrypt"
          ],
          [
           "SHA-256"
          ],
          [
           "Scrypt"
          ],
          [
           "X11"
          ],
          [
           "SHA3"
          ],
          [
           "X11"
          ],
          [
           "Lyra2RE"
          ],
          [
           "SHA-256"
          ],
          [
           "QUAIT"
          ],
          [
           "X11"
          ],
          [
           "X11"
          ],
          [
           "Scrypt"
          ],
          [
           "Scrypt"
          ],
          [
           "Scrypt"
          ],
          [
           "Ethash"
          ],
          [
           "X13"
          ],
          [
           "Blake2b"
          ],
          [
           "SHA-256"
          ],
          [
           "X15"
          ],
          [
           "X11"
          ],
          [
           "SHA-256"
          ],
          [
           "BLAKE256"
          ],
          [
           "Scrypt"
          ],
          [
           "1GB AES Pattern Search"
          ],
          [
           "SHA-256"
          ],
          [
           "X11"
          ],
          [
           "Scrypt"
          ],
          [
           "SHA-256"
          ],
          [
           "SHA-256"
          ],
          [
           "NIST5"
          ],
          [
           "Scrypt"
          ],
          [
           "Scrypt"
          ],
          [
           "X11"
          ],
          [
           "Dagger"
          ],
          [
           "Scrypt"
          ],
          [
           "X11GOST"
          ],
          [
           "X11"
          ],
          [
           "Scrypt"
          ],
          [
           "SHA-256"
          ],
          [
           "Scrypt"
          ],
          [
           "PoS"
          ],
          [
           "Scrypt"
          ],
          [
           "X11"
          ],
          [
           "X11"
          ],
          [
           "SHA-256"
          ],
          [
           "SHA-256"
          ],
          [
           "NIST5"
          ],
          [
           "X11"
          ],
          [
           "Scrypt"
          ],
          [
           "POS 3.0"
          ],
          [
           "Scrypt"
          ],
          [
           "Scrypt"
          ],
          [
           "Scrypt"
          ],
          [
           "X13"
          ],
          [
           "X11"
          ],
          [
           "X11"
          ],
          [
           "Equihash"
          ],
          [
           "X11"
          ],
          [
           "Scrypt"
          ],
          [
           "CryptoNight"
          ],
          [
           "SHA-256"
          ],
          [
           "SHA-256"
          ],
          [
           "X11"
          ],
          [
           "Scrypt"
          ],
          [
           "Multiple"
          ],
          [
           "Scrypt"
          ],
          [
           "Scrypt"
          ],
          [
           "Scrypt"
          ],
          [
           "SHA-256"
          ],
          [
           "Scrypt"
          ],
          [
           "Scrypt"
          ],
          [
           "SHA-256D"
          ],
          [
           "PoS"
          ],
          [
           "Scrypt"
          ],
          [
           "X11"
          ],
          [
           "Lyra2Z"
          ],
          [
           "PoS"
          ],
          [
           "X13"
          ],
          [
           "X14"
          ],
          [
           "PoS"
          ],
          [
           "SHA-256D"
          ],
          [
           "Ethash"
          ],
          [
           "Equihash"
          ],
          [
           "DPoS"
          ],
          [
           "X11"
          ],
          [
           "Scrypt"
          ],
          [
           "X11"
          ],
          [
           "X13"
          ],
          [
           "X11"
          ],
          [
           "PoS"
          ],
          [
           "Scrypt"
          ],
          [
           "Scrypt"
          ],
          [
           "X11"
          ],
          [
           "PoS"
          ],
          [
           "X11"
          ],
          [
           "SHA-256"
          ],
          [
           "Scrypt"
          ],
          [
           "X11"
          ],
          [
           "Scrypt"
          ],
          [
           "Scrypt"
          ],
          [
           "X11"
          ],
          [
           "CryptoNight"
          ],
          [
           "Scrypt"
          ],
          [
           "Scrypt"
          ],
          [
           "Scrypt"
          ],
          [
           "Scrypt"
          ],
          [
           "Quark"
          ],
          [
           "QuBit"
          ],
          [
           "Scrypt"
          ],
          [
           "CryptoNight"
          ],
          [
           "Lyra2RE"
          ],
          [
           "Scrypt"
          ],
          [
           "SHA-256"
          ],
          [
           "X11"
          ],
          [
           "Scrypt"
          ],
          [
           "X11"
          ],
          [
           "Scrypt"
          ],
          [
           "CryptoNight-V7"
          ],
          [
           "Scrypt"
          ],
          [
           "Scrypt"
          ],
          [
           "Scrypt"
          ],
          [
           "X13"
          ],
          [
           "X11"
          ],
          [
           "Equihash"
          ],
          [
           "Scrypt"
          ],
          [
           "Scrypt"
          ],
          [
           "Lyra2RE"
          ],
          [
           "Scrypt"
          ],
          [
           "Dagger-Hashimoto"
          ],
          [
           "X11"
          ],
          [
           "Blake2S"
          ],
          [
           "X11"
          ],
          [
           "Scrypt"
          ],
          [
           "PoS"
          ],
          [
           "X11"
          ],
          [
           "NIST5"
          ],
          [
           "PoS"
          ],
          [
           "X11"
          ],
          [
           "Scrypt"
          ],
          [
           "Scrypt"
          ],
          [
           "Scrypt"
          ],
          [
           "SHA-256"
          ],
          [
           "X11"
          ],
          [
           "Scrypt"
          ],
          [
           "Scrypt"
          ],
          [
           "SHA-256"
          ],
          [
           "PoS"
          ],
          [
           "Scrypt"
          ],
          [
           "X15"
          ],
          [
           "SHA-256"
          ],
          [
           "Scrypt"
          ],
          [
           "POS 3.0"
          ],
          [
           "CryptoNight-V7"
          ],
          [
           "536"
          ],
          [
           "Argon2d"
          ],
          [
           "Blake2b"
          ],
          [
           "Cloverhash"
          ],
          [
           "CryptoNight"
          ],
          [
           "NIST5"
          ],
          [
           "X11"
          ],
          [
           "NIST5"
          ],
          [
           "Skein"
          ],
          [
           "Scrypt"
          ],
          [
           "X13"
          ],
          [
           "Scrypt"
          ],
          [
           "X11"
          ],
          [
           "X11"
          ],
          [
           "Scrypt"
          ],
          [
           "CryptoNight"
          ],
          [
           "X13"
          ],
          [
           "Time Travel"
          ],
          [
           "Scrypt"
          ],
          [
           "Keccak"
          ],
          [
           "SkunkHash v2 Raptor"
          ],
          [
           "X11"
          ],
          [
           "Skein"
          ],
          [
           "SHA-256"
          ],
          [
           "X11"
          ],
          [
           "Scrypt"
          ],
          [
           "VeChainThor Authority"
          ],
          [
           "Scrypt"
          ],
          [
           "PoS"
          ],
          [
           "Scrypt"
          ],
          [
           "Scrypt"
          ],
          [
           "Scrypt"
          ],
          [
           "Scrypt"
          ],
          [
           "Scrypt"
          ],
          [
           "Scrypt"
          ],
          [
           "Scrypt"
          ],
          [
           "CryptoNight"
          ],
          [
           "SHA-512"
          ],
          [
           "Ouroboros"
          ],
          [
           "X11"
          ],
          [
           "Equihash"
          ],
          [
           "NeoScrypt"
          ],
          [
           "X11"
          ],
          [
           "Scrypt"
          ],
          [
           "NeoScrypt"
          ],
          [
           "Lyra2REv2"
          ],
          [
           "Equihash"
          ],
          [
           "Scrypt"
          ],
          [
           "SHA-256"
          ],
          [
           "NIST5"
          ],
          [
           "PHI1612"
          ],
          [
           "Dagger"
          ],
          [
           "Scrypt"
          ],
          [
           "Quark"
          ],
          [
           "Scrypt"
          ],
          [
           "POS 2.0"
          ],
          [
           "Scrypt"
          ],
          [
           "SHA-256"
          ],
          [
           "X11"
          ],
          [
           "NeoScrypt"
          ],
          [
           "Ethash"
          ],
          [
           "NeoScrypt"
          ],
          [
           "X11"
          ],
          [
           "DPoS"
          ],
          [
           "NIST5"
          ],
          [
           "X13"
          ],
          [
           "Multiple"
          ],
          [
           "Scrypt"
          ],
          [
           "CryptoNight"
          ],
          [
           "CryptoNight"
          ],
          [
           "Ethash"
          ],
          [
           "NIST5"
          ],
          [
           "Quark"
          ],
          [
           "X11"
          ],
          [
           "CryptoNight-V7"
          ],
          [
           "Scrypt"
          ],
          [
           "Scrypt"
          ],
          [
           "Scrypt"
          ],
          [
           "X11"
          ],
          [
           "BLAKE256"
          ],
          [
           "X11"
          ],
          [
           "NeoScrypt"
          ],
          [
           "Quark"
          ],
          [
           "NeoScrypt"
          ],
          [
           "Scrypt"
          ],
          [
           "Scrypt"
          ],
          [
           "Scrypt"
          ],
          [
           "X11"
          ],
          [
           "X11"
          ],
          [
           "SHA-256"
          ],
          [
           "C11"
          ],
          [
           "POS 3.0"
          ],
          [
           "Ethash"
          ],
          [
           "Scrypt"
          ],
          [
           "CryptoNight"
          ],
          [
           "SkunkHash"
          ],
          [
           "Scrypt"
          ],
          [
           "CryptoNight"
          ],
          [
           "Scrypt"
          ],
          [
           "Dagger"
          ],
          [
           "Lyra2REv2"
          ],
          [
           "X13"
          ],
          [
           "Scrypt"
          ],
          [
           "Scrypt"
          ],
          [
           "X11"
          ],
          [
           "C11"
          ],
          [
           "Proof-of-Authority"
          ],
          [
           "X11"
          ],
          [
           "XEVAN"
          ],
          [
           "Scrypt"
          ],
          [
           "VBFT"
          ],
          [
           "Ethash"
          ],
          [
           "CryptoNight"
          ],
          [
           "Scrypt"
          ],
          [
           "IMesh"
          ],
          [
           "NIST5"
          ],
          [
           "Scrypt"
          ],
          [
           "Scrypt"
          ],
          [
           "Equihash"
          ],
          [
           "Scrypt"
          ],
          [
           "Lyra2Z"
          ],
          [
           "Green Protocol"
          ],
          [
           "PoS"
          ],
          [
           "Scrypt"
          ],
          [
           "Semux BFT consensus"
          ],
          [
           "X11"
          ],
          [
           "Quark"
          ],
          [
           "PoS"
          ],
          [
           "CryptoNight"
          ],
          [
           "X16R"
          ],
          [
           "Scrypt"
          ],
          [
           "NIST5"
          ],
          [
           "Lyra2RE"
          ],
          [
           "XEVAN"
          ],
          [
           "Tribus"
          ],
          [
           "Scrypt"
          ],
          [
           "Lyra2Z"
          ],
          [
           "CryptoNight"
          ],
          [
           "CryptoNight Heavy"
          ],
          [
           "CryptoNight"
          ],
          [
           "Scrypt"
          ],
          [
           "Scrypt"
          ],
          [
           "Jump Consistent Hash"
          ],
          [
           "SHA-256D"
          ],
          [
           "CryptoNight"
          ],
          [
           "Scrypt"
          ],
          [
           "X15"
          ],
          [
           "Scrypt"
          ],
          [
           "Quark"
          ],
          [
           "SHA-256"
          ],
          [
           "DPoS"
          ],
          [
           "X16R"
          ],
          [
           "HMQ1725"
          ],
          [
           "X11"
          ],
          [
           "X16R"
          ],
          [
           "Quark"
          ],
          [
           "Quark"
          ],
          [
           "Scrypt"
          ],
          [
           "Lyra2REv2"
          ],
          [
           "Quark"
          ],
          [
           "Scrypt"
          ],
          [
           "Scrypt"
          ],
          [
           "CryptoNight-V7"
          ],
          [
           "Cryptonight-GPU"
          ],
          [
           "XEVAN"
          ],
          [
           "CryptoNight Heavy"
          ],
          [
           "X11"
          ],
          [
           "X11"
          ],
          [
           "Scrypt"
          ],
          [
           "PoS"
          ],
          [
           "SHA-256"
          ],
          [
           "Keccak"
          ],
          [
           "X11"
          ],
          [
           "X11"
          ],
          [
           "Scrypt"
          ],
          [
           "SHA-512"
          ],
          [
           "X16R"
          ],
          [
           "ECC 256K1"
          ],
          [
           "Equihash"
          ],
          [
           "XEVAN"
          ],
          [
           "Lyra2Z"
          ],
          [
           "SHA-256"
          ],
          [
           "XEVAN"
          ],
          [
           "X11"
          ],
          [
           "CryptoNight"
          ],
          [
           "Quark"
          ],
          [
           "Blake"
          ],
          [
           "Blake"
          ],
          [
           "Equihash"
          ],
          [
           "Exosis"
          ],
          [
           "Scrypt"
          ],
          [
           "Scrypt"
          ],
          [
           "Equihash"
          ],
          [
           "Quark"
          ],
          [
           "Equihash"
          ],
          [
           "Quark"
          ],
          [
           "Scrypt"
          ],
          [
           "QuBit"
          ],
          [
           "X11"
          ],
          [
           "Scrypt"
          ],
          [
           "XEVAN"
          ],
          [
           "SHA-256D"
          ],
          [
           "X11"
          ],
          [
           "SHA-256"
          ],
          [
           "X13"
          ],
          [
           "SHA-256"
          ],
          [
           "X11"
          ],
          [
           "DPoS"
          ],
          [
           "Scrypt"
          ],
          [
           "Scrypt"
          ],
          [
           "X11"
          ],
          [
           "NeoScrypt"
          ],
          [
           "Scrypt"
          ],
          [
           "Blake"
          ],
          [
           "Scrypt"
          ],
          [
           "SHA-256"
          ],
          [
           "Scrypt"
          ],
          [
           "X11"
          ],
          [
           "Scrypt"
          ],
          [
           "Scrypt"
          ],
          [
           "SHA-256"
          ],
          [
           "X11"
          ],
          [
           "SHA-256"
          ],
          [
           "Scrypt"
          ],
          [
           "Scrypt"
          ],
          [
           "Scrypt"
          ],
          [
           "Groestl"
          ],
          [
           "X11"
          ],
          [
           "Scrypt"
          ],
          [
           "PoS"
          ],
          [
           "Scrypt"
          ],
          [
           "Scrypt"
          ],
          [
           "X11"
          ],
          [
           "SHA-256"
          ],
          [
           "DPoS"
          ],
          [
           "Scrypt"
          ],
          [
           "Scrypt"
          ],
          [
           "NeoScrypt"
          ],
          [
           "Multiple"
          ],
          [
           "X13"
          ],
          [
           "Equihash+Scrypt"
          ],
          [
           "DPoS"
          ],
          [
           "Ethash"
          ],
          [
           "DPoS"
          ],
          [
           "SHA-256"
          ],
          [
           "Leased POS"
          ],
          [
           "PoS"
          ],
          [
           "PoS"
          ],
          [
           "SHA-256"
          ],
          [
           "Scrypt"
          ],
          [
           "CryptoNight"
          ],
          [
           "Equihash"
          ],
          [
           "Scrypt"
          ]
         ],
         "hovertemplate": "<b>%{hovertext}</b><br><br>Class=%{marker.color}<br>PC 1=%{x}<br>PC 2=%{y}<br>PC 3=%{z}<br>Algorithm=%{customdata[0]}<extra></extra>",
         "hovertext": [
          "42 Coin",
          "404Coin",
          "EliteCoin",
          "Bitcoin",
          "Ethereum",
          "Litecoin",
          "Dash",
          "Monero",
          "Ethereum Classic",
          "ZCash",
          "Bitshares",
          "DigiByte",
          "BitcoinDark",
          "PayCoin",
          "ProsperCoin",
          "KoboCoin",
          "Spreadcoin",
          "Argentum",
          "Aurora Coin",
          "BlueCoin",
          "MyriadCoin",
          "MoonCoin",
          "ZetaCoin",
          "SexCoin",
          "Quatloo",
          "EnergyCoin",
          "QuarkCoin",
          "Riecoin",
          "Digitalcoin ",
          "BitBar",
          "Catcoin",
          "CryptoBullion",
          "CannaCoin",
          "CryptCoin",
          "CasinoCoin",
          "Diamond",
          "Verge",
          "DevCoin",
          "EarthCoin",
          "E-Gulden",
          "Einsteinium",
          "Emerald",
          "Exclusive Coin",
          "FlutterCoin",
          "Franko",
          "FeatherCoin",
          "GrandCoin",
          "GlobalCoin",
          "GoldCoin",
          "HoboNickels",
          "HyperStake",
          "Infinite Coin",
          "IOCoin",
          "IXcoin",
          "KrugerCoin",
          "LuckyCoin",
          "Litebar ",
          "MaxCoin",
          "MegaCoin",
          "MediterraneanCoin",
          "MintCoin",
          "MinCoin",
          "MazaCoin",
          "Nautilus Coin",
          "NavCoin",
          "NobleCoin",
          "Namecoin",
          "NyanCoin",
          "OpalCoin",
          "Orbitcoin",
          "PotCoin",
          "PhoenixCoin",
          "Reddcoin",
          "RonPaulCoin",
          "StableCoin",
          "SmartCoin",
          "SuperCoin",
          "SyncCoin",
          "SysCoin",
          "TeslaCoin",
          "TigerCoin",
          "TittieCoin",
          "TorCoin",
          "TerraCoin",
          "UnbreakableCoin",
          "Unobtanium",
          "UroCoin",
          "UnitaryStatus Dollar",
          "UltraCoin",
          "ViaCoin",
          "VeriCoin",
          "Vertcoin",
          "WorldCoin",
          "X11 Coin",
          "Crypti",
          "JouleCoin",
          "StealthCoin",
          "ZCC Coin",
          "ByteCoin",
          "DigitalNote ",
          "BurstCoin",
          "StorjCoin",
          "MonaCoin",
          "Neutron",
          "FairCoin",
          "Gulden",
          "RubyCoin",
          "PesetaCoin",
          "Kore",
          "Wild Beast Coin",
          "Dnotes",
          "Flo",
          "8BIT Coin",
          "Sativa Coin",
          "ArtByte",
          "Folding Coin",
          "Ucoin",
          "Unitus",
          "CypherPunkCoin",
          "OmniCron",
          "Vtorrent",
          "GreenCoin",
          "Cryptonite",
          "MasterCoin",
          "SoonCoin",
          "1Credit",
          "IslaCoin",
          "Nexus",
          "MarsCoin ",
          "Crypto",
          "Anarchists Prime",
          "Droidz",
          "BowsCoin",
          "Squall Coin",
          "Song Coin",
          "BitZeny",
          "Diggits",
          "Expanse",
          "Paycon",
          "Siacoin",
          "Emercoin",
          "EverGreenCoin",
          "MindCoin",
          "I0coin",
          "Decred",
          "Revolution VR",
          "HOdlcoin",
          "EDRCoin",
          "Hitcoin",
          "Gamecredits",
          "DubaiCoin",
          "CarpeDiemCoin",
          "PWR Coin",
          "BillaryCoin",
          "GPU Coin",
          "Adzcoin",
          "SoilCoin",
          "YoCoin",
          "SibCoin",
          "EuropeCoin",
          "ZeitCoin",
          "SwingCoin",
          "SafeExchangeCoin",
          "Nebuchadnezzar",
          "Francs",
          "BolivarCoin",
          "Ratecoin",
          "Revenu",
          "Clockcoin",
          "VIP Tokens",
          "BitSend",
          "Omni",
          "Let it Ride",
          "PutinCoin",
          "iBankCoin",
          "Frankywillcoin",
          "MudraCoin",
          "PizzaCoin",
          "Lutetium Coin",
          "Komodo",
          "GoldBlocks",
          "CarterCoin",
          "Karbo",
          "BitTokens",
          "ZayedCoin",
          "MustangCoin",
          "ZoneCoin",
          "Circuits of Value",
          "RootCoin",
          "DopeCoin",
          "BitCurrency",
          "DollarCoin",
          "Swiscoin",
          "Shilling",
          "BuzzCoin",
          "Opair",
          "PesoBit",
          "Halloween Coin",
          "ZCoin",
          "CoffeeCoin",
          "RoyalCoin",
          "GanjaCoin V2",
          "TeamUP",
          "LanaCoin",
          "Elementrem",
          "ZClassic",
          "ARK",
          "InsaneCoin",
          "KiloCoin",
          "ArtexCoin",
          "EmberCoin",
          "XenixCoin",
          "FreeCoin",
          "PLNCoin",
          "AquariusCoin",
          "Kurrent",
          "Creatio",
          "Eternity",
          "Eurocoin",
          "BitcoinFast",
          "Stakenet",
          "BitConnect Coin",
          "MoneyCoin",
          "Enigma",
          "Cannabis Industry Coin",
          "Russiacoin",
          "PandaCoin",
          "GameUnits",
          "GAKHcoin",
          "Allsafe",
          "LiteCreed",
          "OsmiumCoin",
          "Bikercoins",
          "HexxCoin",
          "Klingon Empire Darsek",
          "Internet of People",
          "KushCoin",
          "Printerium",
          "PacCoin",
          "Impeach",
          "Citadel",
          "Zilbercoin",
          "FirstCoin",
          "BeaverCoin",
          "FindCoin",
          "VaultCoin",
          "Zero",
          "OpenChat",
          "Canada eCoin",
          "Zoin",
          "RenosCoin",
          "DubaiCoin",
          "VirtacoinPlus",
          "TajCoin",
          "Impact",
          "EB3coin",
          "Atmos",
          "HappyCoin",
          "Coinonat",
          "MacronCoin",
          "Condensate",
          "Independent Money System",
          "ArgusCoin",
          "LomoCoin",
          "ProCurrency",
          "GoldReserve",
          "BenjiRolls",
          "GrowthCoin",
          "ILCoin",
          "Phreak",
          "Degas Coin",
          "HTML5 Coin",
          "Ultimate Secure Cash",
          "EquiTrader",
          "QTUM",
          "Quantum Resistant Ledger",
          "Espers",
          "Dynamic",
          "Nano",
          "ChanCoin",
          "Dinastycoin",
          "Denarius",
          "DigitalPrice",
          "Virta Unique Coin",
          "Bitcoin Planet",
          "Unify",
          "BritCoin",
          "SocialCoin",
          "ArcticCoin",
          "DAS",
          "Linda",
          "LeviarCoin",
          "DeepOnion",
          "Bitcore",
          "gCn Coin",
          "SmartCash",
          "Signatum",
          "Onix",
          "Cream",
          "Bitcoin Cash",
          "Monoeci",
          "Draftcoin",
          "Vechain",
          "Sojourn Coin",
          "Stakecoin",
          "NewYorkCoin",
          "FrazCoin",
          "Kronecoin",
          "AdCoin",
          "Linx",
          "CoinonatX",
          "Ethereum Dark",
          "Sumokoin",
          "Obsidian",
          "Cardano",
          "Regalcoin",
          "BitcoinZ",
          "TrezarCoin",
          "Elements",
          "TerraNovaCoin",
          "VIVO Coin",
          "Rupee",
          "Bitcoin Gold",
          "WomenCoin",
          "Theresa May Coin",
          "NamoCoin",
          "LUXCoin",
          "Pirl",
          "Xios",
          "Bitcloud 2.0",
          "eBoost",
          "KekCoin",
          "BlackholeCoin",
          "Infinity Economics",
          "Pura",
          "Innova",
          "Ellaism",
          "GoByte",
          "Magnet",
          "Lamden Tau",
          "Electra",
          "Bitcoin Diamond",
          "SHIELD",
          "Cash & Back Coin",
          "UltraNote",
          "BitCoal",
          "DaxxCoin",
          "Bulwark",
          "Kalkulus",
          "AC3",
          "Lethean",
          "GermanCoin",
          "LiteCoin Ultra",
          "PopularCoin",
          "PhantomX",
          "Photon",
          "Sucre",
          "SparksPay",
          "Digiwage",
          "GunCoin",
          "IrishCoin",
          "Trollcoin",
          "Litecoin Plus",
          "Monkey Project",
          "Pioneer Coin",
          "UnitedBitcoin",
          "Interzone",
          "TokenPay",
          "1717 Masonic Commemorative Token",
          "My Big Coin",
          "TurtleCoin",
          "MUNcoin",
          "Unified Society USDEX",
          "Niobio Cash",
          "ShareChain",
          "Travelflex",
          "KREDS",
          "Tokyo Coin",
          "BitFlip",
          "LottoCoin",
          "Crypto Improvement Fund",
          "Stipend",
          "Poa Network",
          "Pushi",
          "Ellerium",
          "Velox",
          "Ontology",
          "Callisto Network",
          "BitTube",
          "Poseidon",
          "Aidos Kuneen",
          "Bitspace",
          "Briacoin",
          "Ignition",
          "Bitrolium",
          "MedicCoin",
          "Alpenschillling",
          "Bitcoin Green",
          "Deviant Coin",
          "Abjcoin",
          "Semux",
          "FuturoCoin",
          "Carebit",
          "Zealium",
          "Monero Classic",
          "Proton",
          "iDealCash",
          "Jumpcoin",
          "Infinex",
          "Bitcoin Incognito",
          "KEYCO",
          "HollyWoodCoin",
          "GINcoin",
          "PlatinCoin",
          "Loki",
          "Newton Coin",
          "Swisscoin",
          "Xt3ch",
          "MassGrid",
          "TheVig",
          "PluraCoin",
          "EmaratCoin",
          "Dekado",
          "Lynx",
          "Poseidon Quark",
          "BitcoinWSpectrum",
          "Muse",
          "Motion",
          "PlusOneCoin",
          "Axe",
          "Trivechain",
          "Dystem",
          "Giant",
          "Peony Coin",
          "Absolute Coin",
          "Vitae",
          "HexCoin",
          "TPCash",
          "Webchain",
          "Ryo",
          "Urals Coin",
          "Qwertycoin",
          "ARENON",
          "EUNO",
          "MMOCoin",
          "Ketan",
          "Project Pai",
          "XDNA",
          "PAXEX",
          "Azart",
          "ThunderStake",
          "Kcash",
          "Xchange",
          "Acute Angle Cloud",
          "CrypticCoin",
          "Bettex coin",
          "Actinium",
          "Bitcoin SV",
          "BitMoney",
          "Junson Ming Chan Coin",
          "FREDEnergy",
          "HerbCoin",
          "Universal Molecule",
          "Lithium",
          "PirateCash",
          "Exosis",
          "Block-Logic",
          "Oduwa",
          "Beam",
          "Galilel",
          "Bithereum",
          "Crypto Sports",
          "Credit",
          "SLICE",
          "Dash Platinum",
          "Nasdacoin",
          "Beetle Coin",
          "Titan Coin",
          "Award",
          "BLAST",
          "Bitcoin Rhodium",
          "GlobalToken",
          "Insane Coin",
          "ALAX",
          "LiteDoge",
          "SolarCoin",
          "TruckCoin",
          "UFO Coin",
          "OrangeCoin",
          "BlakeCoin",
          "BitstarCoin",
          "NeosCoin",
          "HyperCoin",
          "PinkCoin",
          "Crypto Escudo",
          "AudioCoin",
          "IncaKoin",
          "Piggy Coin",
          "Crown Coin",
          "Genstake",
          "SmileyCoin",
          "XiaoMiCoin",
          "Groestlcoin",
          "CapriCoin",
          " ClubCoin",
          "Radium",
          "Bata",
          "Pakcoin",
          "Creditbit ",
          "OKCash",
          "Lisk",
          "HiCoin",
          "WhiteCoin",
          "FriendshipCoin",
          "JoinCoin",
          "Triangles Coin",
          "Vollar",
          "EOS",
          "Reality Clash",
          "Oxycoin",
          "TigerCash",
          "Waves",
          "Particl",
          "Nxt",
          "ZEPHYR",
          "Gapcoin",
          "Beldex",
          "Horizen",
          "BitcoinPlus"
         ],
         "legendgroup": "0",
         "marker": {
          "color": [
           0,
           0,
           0,
           0,
           0,
           0,
           0,
           0,
           0,
           0,
           0,
           0,
           0,
           0,
           0,
           0,
           0,
           0,
           0,
           0,
           0,
           0,
           0,
           0,
           0,
           0,
           0,
           0,
           0,
           0,
           0,
           0,
           0,
           0,
           0,
           0,
           0,
           0,
           0,
           0,
           0,
           0,
           0,
           0,
           0,
           0,
           0,
           0,
           0,
           0,
           0,
           0,
           0,
           0,
           0,
           0,
           0,
           0,
           0,
           0,
           0,
           0,
           0,
           0,
           0,
           0,
           0,
           0,
           0,
           0,
           0,
           0,
           0,
           0,
           0,
           0,
           0,
           0,
           0,
           0,
           0,
           0,
           0,
           0,
           0,
           0,
           0,
           0,
           0,
           0,
           0,
           0,
           0,
           0,
           0,
           0,
           0,
           0,
           0,
           0,
           0,
           0,
           0,
           0,
           0,
           0,
           0,
           0,
           0,
           0,
           0,
           0,
           0,
           0,
           0,
           0,
           0,
           0,
           0,
           0,
           0,
           0,
           0,
           0,
           0,
           0,
           0,
           0,
           0,
           0,
           0,
           0,
           0,
           0,
           0,
           0,
           0,
           0,
           0,
           0,
           0,
           0,
           0,
           0,
           0,
           0,
           0,
           0,
           0,
           0,
           0,
           0,
           0,
           0,
           0,
           0,
           0,
           0,
           0,
           0,
           0,
           0,
           0,
           0,
           0,
           0,
           0,
           0,
           0,
           0,
           0,
           0,
           0,
           0,
           0,
           0,
           0,
           0,
           0,
           0,
           0,
           0,
           0,
           0,
           0,
           0,
           0,
           0,
           0,
           0,
           0,
           0,
           0,
           0,
           0,
           0,
           0,
           0,
           0,
           0,
           0,
           0,
           0,
           0,
           0,
           0,
           0,
           0,
           0,
           0,
           0,
           0,
           0,
           0,
           0,
           0,
           0,
           0,
           0,
           0,
           0,
           0,
           0,
           0,
           0,
           0,
           0,
           0,
           0,
           0,
           0,
           0,
           0,
           0,
           0,
           0,
           0,
           0,
           0,
           0,
           0,
           0,
           0,
           0,
           0,
           0,
           0,
           0,
           0,
           0,
           0,
           0,
           0,
           0,
           0,
           0,
           0,
           0,
           0,
           0,
           0,
           0,
           0,
           0,
           0,
           0,
           0,
           0,
           0,
           0,
           0,
           0,
           0,
           0,
           0,
           0,
           0,
           0,
           0,
           0,
           0,
           0,
           0,
           0,
           0,
           0,
           0,
           0,
           0,
           0,
           0,
           0,
           0,
           0,
           0,
           0,
           0,
           0,
           0,
           0,
           0,
           0,
           0,
           0,
           0,
           0,
           0,
           0,
           0,
           0,
           0,
           0,
           0,
           0,
           0,
           0,
           0,
           0,
           0,
           0,
           0,
           0,
           0,
           0,
           0,
           0,
           0,
           0,
           0,
           0,
           0,
           0,
           0,
           0,
           0,
           0,
           0,
           0,
           0,
           0,
           0,
           0,
           0,
           0,
           0,
           0,
           0,
           0,
           0,
           0,
           0,
           0,
           0,
           0,
           0,
           0,
           0,
           0,
           0,
           0,
           0,
           0,
           0,
           0,
           0,
           0,
           0,
           0,
           0,
           0,
           0,
           0,
           0,
           0,
           0,
           0,
           0,
           0,
           0,
           0,
           0,
           0,
           0,
           0,
           0,
           0,
           0,
           0,
           0,
           0,
           0,
           0,
           0,
           0,
           0,
           0,
           0,
           0,
           0,
           0,
           0,
           0,
           0,
           0,
           0,
           0,
           0,
           0,
           0,
           0,
           0,
           0,
           0,
           0,
           0,
           0,
           0,
           0,
           0,
           0,
           0,
           0,
           0,
           0,
           0,
           0,
           0,
           0,
           0,
           0,
           0,
           0,
           0,
           0,
           0,
           0,
           0,
           0,
           0,
           0,
           0,
           0,
           0,
           0,
           0,
           0,
           0,
           0,
           0,
           0,
           0,
           0,
           0,
           0,
           0,
           0,
           0,
           0,
           0,
           0,
           0,
           0,
           0,
           0,
           0,
           0,
           0,
           0,
           0,
           0,
           0,
           0,
           0,
           0,
           0,
           0,
           0,
           0,
           0,
           0,
           0,
           0,
           0,
           0,
           0,
           0,
           0,
           0,
           0,
           0,
           0,
           0,
           0,
           0,
           0,
           0,
           0,
           0,
           0,
           0,
           0,
           0,
           0,
           0,
           0,
           0,
           0,
           0,
           0,
           0,
           0,
           0,
           0,
           0,
           0,
           0,
           0,
           0,
           0,
           0,
           0,
           0,
           0,
           0,
           0,
           0,
           0,
           0,
           0
          ],
          "coloraxis": "coloraxis",
          "symbol": "circle"
         },
         "mode": "markers",
         "name": "0",
         "scene": "scene",
         "showlegend": true,
         "type": "scatter3d",
         "x": [
          -0.25515111250647243,
          -0.23334562694535493,
          0.28593181478060903,
          -0.1916238158025948,
          -0.2859194955217686,
          -0.29829617536057507,
          -0.14970976843942516,
          -0.22888506891591276,
          -0.4584001638740771,
          -0.21051824984594636,
          -0.04984161647327786,
          -0.030923970891292875,
          -0.10476829196680602,
          -0.1215016191460297,
          -0.278767933726885,
          0.06178846054691467,
          -0.2672442004986291,
          -0.29934968153315444,
          -0.24236201386896414,
          -0.11306680010045504,
          0.022886082282011864,
          -0.3239285654603796,
          -0.1639848154691762,
          -0.31857215230140307,
          -0.1820706915681935,
          -0.11881682507993868,
          -0.2871284373832325,
          -0.23704685950934146,
          -0.32259211001216215,
          -0.25347116331245917,
          -0.2787516424735213,
          -0.26629280417169493,
          -0.32724543515242066,
          -0.2385016498112712,
          0.5225685393827402,
          -0.11303445058384401,
          -0.0019735817122357065,
          0.08773044247206019,
          -0.11433658284042943,
          -0.278597999184454,
          -0.3242054835769279,
          -0.32426220339793854,
          -0.16793362867406617,
          -0.12674557328815608,
          -0.32719791093136474,
          -0.25888023798778237,
          -0.31335235418416685,
          -0.2898149305285516,
          -0.3292476139738526,
          -0.2383406903214432,
          -0.08912122469773176,
          1.1688305467126476,
          -0.1496130338745148,
          -0.1915883279805722,
          -0.32789434644960097,
          -0.309131735034133,
          -0.32604291269149466,
          -0.12023548124234856,
          -0.28664599722645173,
          -0.12799449164895374,
          0.08903537651681433,
          -0.25674480375830144,
          -0.06609496540940393,
          -0.31286986507199727,
          -0.06092169005928998,
          -0.2848105477227865,
          -0.1916596246022748,
          -0.3175161717944623,
          -0.06149326542120198,
          -0.25246344029113044,
          -0.22772994323331555,
          -0.24999291331366993,
          0.20879904913355898,
          -0.27882027765754097,
          -0.31974744798981697,
          -0.3268625321511976,
          -0.10738951663128529,
          -0.16079701782302028,
          -0.1512501554817945,
          -0.1120533583689955,
          -0.16166883390488826,
          -0.3405457198527664,
          -0.16691275219762883,
          -0.19980910331049456,
          -0.20917718194686355,
          -0.16453279798832823,
          -0.1261068873751153,
          -0.23758192907537098,
          -0.1336876717160024,
          -0.29132466921924455,
          -0.13499050917549735,
          -0.3384091122567577,
          -0.3282516820696501,
          -0.16151293259240643,
          -0.09777829786010872,
          -0.19030520833657316,
          -0.06129196154684955,
          -0.09140924592188744,
          2.663430211986898,
          -0.02993474986285932,
          0.02357636269685841,
          -0.05432853814345674,
          -0.32323481718173724,
          -0.08903122969126573,
          -0.05820022061653551,
          -0.3183365450704728,
          -0.14963280493519562,
          -0.32402124584207576,
          -0.19100659875964476,
          -0.32769343427539566,
          -0.12396761025308402,
          -0.3055451496820675,
          -0.12018143699027968,
          -0.1502939227336058,
          -0.13207757462561193,
          -0.04113894761894484,
          -0.2491772948712876,
          -0.11633166537597295,
          -0.11605843833534261,
          -0.3279695847791906,
          -0.2613165678001678,
          -0.2533159421963054,
          -0.44669112261677274,
          -0.3278150209209134,
          -0.19168514233152073,
          -0.16412419382437257,
          -0.07820162518724116,
          -0.3791564193605286,
          -0.24618816268038252,
          -0.2838854138677767,
          -0.16980787708588002,
          0.35088903804742905,
          -0.2366753385333149,
          -0.07480127015191307,
          -0.3236879920312701,
          -0.3191706138690855,
          -0.16286915694937054,
          -0.5737069945419834,
          -0.16922257157136045,
          0.34960610571660694,
          -0.0055791747673973055,
          0.14238746169762956,
          -0.24105948234769095,
          -0.19158935902497343,
          -0.01530332226127685,
          -0.3382873491109478,
          -0.009124067012273668,
          -0.10474157285969579,
          0.017393490903960442,
          -0.29821989693918427,
          -0.0946524443064225,
          0.19300628951205728,
          0.09296037007025303,
          -0.2390713489904513,
          -0.3139900751620501,
          -0.25651808739536985,
          -0.27595740243032163,
          -0.32798454292006,
          -0.6520699698987401,
          -0.16032228069255103,
          0.29953881251007014,
          -0.13645220764975882,
          -0.10071739169334536,
          -0.309021810691294,
          -0.3092748850699394,
          -0.20264330298221925,
          -0.19742856928506095,
          -0.08396663679596889,
          -0.08986141577659604,
          -0.06723656042105601,
          -0.16337371151999117,
          -0.324574304879057,
          -0.08359510684683458,
          0.009928984075034295,
          -0.25336597507792186,
          -0.13312918126920995,
          -0.15850492596435872,
          -0.2027810735085703,
          -0.2048517892992364,
          0.003980840852867215,
          -0.18586175600832922,
          -0.16784151746220505,
          -0.05911082876564153,
          -0.1439164994498157,
          -0.17004991224932822,
          -0.18597259236560748,
          -0.23090186910453614,
          -0.19264390773028792,
          -0.120176139383187,
          -0.23394613010418444,
          -0.14803454780473257,
          -0.1700090323999228,
          -0.7878077498523457,
          -0.305063356368707,
          0.2488705679143552,
          -0.34854938878897335,
          -0.11982169516343923,
          -0.15938749717274447,
          -0.17176721999152736,
          -0.338950234210863,
          -0.2520449498070265,
          -0.03292369872811431,
          -0.33998334762932225,
          -0.05502208503895057,
          -0.5698512293316601,
          -0.21053810831131559,
          4.982200128027849,
          -0.2151011678803672,
          -0.302852988758774,
          -0.09286272053825641,
          1.3348894261652644,
          -0.16486514852590226,
          -0.2752540499016552,
          -0.24658798302742246,
          -0.2391448476756073,
          -0.24359075214227222,
          -0.309021810691294,
          -0.19954965362874022,
          -0.1742997931174573,
          -0.2404000554279336,
          -0.8564891586553017,
          -0.25274993779540667,
          -0.2505191835154509,
          -0.2008990632441012,
          -0.08121036662108726,
          -0.2273669583653113,
          0.2502862156421966,
          -0.2529901384900028,
          -0.2526912891513938,
          -0.2735721480298306,
          -0.16996921908448145,
          -0.3266403592850329,
          -0.04705949832072376,
          -0.28184411087910555,
          -0.09591866465251414,
          -0.14389483253807767,
          -0.15891997318280912,
          -0.26131413242807694,
          -0.23592758718413712,
          -0.25058356934739073,
          -0.46561784107608056,
          -0.2848764091820718,
          -0.21914837850257546,
          -0.32114863291707285,
          -0.24904638282368444,
          -0.09865160325554369,
          -0.1762690133526006,
          -0.0818474789868452,
          -0.18103276228518425,
          -0.26381119422256016,
          -0.30392514714971636,
          -0.22146747984571882,
          -0.09212442412264388,
          -0.16225259864351754,
          -0.1706420448972187,
          -0.31927028711385147,
          -0.34557282903384706,
          -0.09203061918080489,
          -0.16194159099078198,
          -0.3092830589087268,
          -0.05284291838839446,
          -0.24705880296573746,
          -0.2447122758388205,
          -0.09306447024424673,
          -0.1458094577783594,
          -0.18133698901547798,
          -0.32889519235259185,
          -0.025623815724364583,
          -0.15066703048635538,
          -0.3049579508616666,
          -0.23795809375420038,
          0.7565919143598511,
          -0.1499718581743015,
          -0.32527885796152284,
          -0.06472065374185784,
          -0.3463032314170844,
          0.3542799931058033,
          -0.11947213487638561,
          -0.07957880577534714,
          -0.309525865363274,
          0.17082040407829643,
          -0.10870844904517103,
          -0.13977961732330196,
          -0.13848326816215722,
          -0.02651144035489646,
          -0.3330330117418615,
          -0.19851308502546428,
          -0.28876175077812044,
          -0.24722732955860027,
          -0.23873726612241797,
          -0.027406848174872808,
          -0.04644919813078883,
          -0.19414169652135577,
          -0.2556254528237916,
          2.3551035141611507,
          0.1087455281818528,
          -0.2518927587503874,
          -0.2713572015508302,
          -0.026056616997668817,
          -0.19162304801216945,
          -0.16552989207435007,
          -0.30659359407999887,
          11.415162679822012,
          -0.3062470807817155,
          -0.34883799881367733,
          1.436732432255138,
          -0.30923972202618477,
          -0.29880776324105746,
          -0.18178688388733716,
          -0.1817748780039063,
          -0.2140869465465988,
          -0.24635741219411633,
          0.005805672412095294,
          -0.10038729367795461,
          0.02308794191830595,
          -0.21127610598440838,
          -0.0832500094051057,
          -0.2592442446027024,
          -0.19683843898444708,
          -0.2488447481076532,
          -0.29649730757504195,
          -0.48243108131030765,
          -0.21040805169032484,
          0.5497508187379373,
          -0.04621072816663929,
          -0.10055818037706914,
          -0.2619906451012415,
          -0.26373360351053426,
          -0.23090672043361543,
          -0.1657100556116412,
          -0.1810311171282995,
          -0.23923037371223102,
          -0.2495779570844245,
          -0.002127481401735025,
          -0.15789943498053344,
          -0.27298653414446644,
          -0.5778269581836561,
          -0.33143632184810307,
          -0.18505299515538268,
          3.543441246242467,
          0.4141652022230915,
          -0.23214799186890728,
          -0.24569196890249287,
          -0.2914968214890834,
          0.31938182522996855,
          -0.029143922871103952,
          -0.41823846056610425,
          -0.1072762363286509,
          -0.2696955959806664,
          -0.24019420816429982,
          -0.45717797399516474,
          -0.07379469783303534,
          -0.16042411386733926,
          -0.26389369230677984,
          -0.18552945091842468,
          0.5901406008017187,
          -0.24464343177871398,
          -0.27404993151824575,
          -0.2474752049893866,
          -0.13603025965964877,
          -0.2989762241383904,
          -0.23557004228452,
          -0.2513406740438792,
          -0.21864206326943608,
          -0.24951003898467108,
          -0.16811505775379884,
          -0.23713000463461575,
          -0.12823602746917884,
          -0.5579125045520616,
          -0.32145506079038894,
          0.8762287681584794,
          -0.9107325215409393,
          -0.24552780329055507,
          -0.06680232141854867,
          -0.19282993728357356,
          -0.15178204788775965,
          -0.347465703307768,
          -0.24062301212453102,
          -0.27127113972794487,
          -0.0937057242413895,
          -0.09973883562813615,
          -0.13487986603608568,
          -0.13440276900363773,
          -0.15487038501167516,
          -0.21107755645833295,
          -0.30522770625942974,
          -0.025531705914110338,
          -0.574359979172936,
          0.05753777907115728,
          -0.27878699080417263,
          -0.17150793481472396,
          -0.12770812907178505,
          -0.2279497796006692,
          -0.24287423623487392,
          -0.2215195929850363,
          -0.12292781859182796,
          -0.19971496055138763,
          -0.23601705591201652,
          -0.34380165054300105,
          -0.25717543413009075,
          3.469794324635325,
          -0.1398170729143257,
          -0.16448647718397036,
          -0.2959837554685278,
          0.007888769070627912,
          -0.17897634634698728,
          -0.22152768307345758,
          -0.1784433606926505,
          -0.2874150976362207,
          -0.1968800109128636,
          -0.24853831627369066,
          -0.3086480574814598,
          -0.16634186789173863,
          0.0054198104625558735,
          0.23898037422373752,
          1.0619033271918983,
          -0.08340321261896766,
          -0.3053566145461368,
          -0.1921521564428517,
          -0.012779110908075176,
          0.06292504207095699,
          -0.25085941527930034,
          0.017719038307303724,
          1.0114978528023317,
          -0.2790570509610365,
          -0.15239962145238542,
          1.420925031495205,
          -0.1554463753465684,
          -0.24534194727410172,
          -0.2367973372775572,
          -0.07381458095259302,
          -0.23929044346255168,
          -0.21787158597135728,
          -0.3057135552749442,
          -0.3212457379914208,
          -0.14194922591721637,
          -0.326029705057817,
          -0.09300943681780775,
          -0.4625549121758252,
          -0.3943704064698772,
          -0.30996380113740085,
          1.9652908546606307,
          -0.24271365736464776,
          -0.18569109105212536,
          -0.30626730906467714,
          -0.3404370570670493,
          -0.13760981522877747,
          0.23494498238657247,
          -0.12196156633125416,
          -0.20274024608028957,
          -0.23391187800143173,
          0.15710243584249403,
          -0.10147866873211367,
          0.6495473413364593,
          -0.10867440176573766,
          -0.22716471930416085,
          -0.23565140205348964,
          -0.19162308252167234,
          -0.19634191119968442,
          0.0851815454987702,
          0.03253345703501853,
          -0.17462044249341052,
          -0.6417618599396808,
          -0.6423151464733617,
          -0.1995549732340637,
          -0.24936479672184256,
          -0.2868483349323576,
          -0.23076500296406938,
          -0.1744097234280779,
          -0.21589975444425855,
          -0.17783602556690353,
          -0.2762707767414772,
          0.26482809696832316,
          -0.13003834392906571,
          -0.22244484782775006,
          -0.2508712305638852,
          -0.0634402104739189,
          0.030660794885694693,
          -0.1880766089751617,
          -0.21189212556469325,
          -0.26429223469481694,
          -0.16413418887728654,
          -0.21504019382735212,
          3.5545482598133047,
          0.004886593302131871,
          -0.32717737666165736,
          -0.07549630011193745,
          -0.2723720226158554,
          -0.18731591798048083,
          -0.6423408477220282,
          -0.2466765083010706,
          -0.17361386482436536,
          -0.12008982285675732,
          -0.0493112980940203,
          -0.1322159105971816,
          -0.24734433110646997,
          0.2041706573951245,
          -0.04554411788185301,
          -0.1998085249751069,
          -0.2645777478513334,
          0.1551930173036252,
          -0.2614511088787459,
          -0.22387630556696078,
          -0.1616171297662356,
          -0.25818929205282265,
          -0.33680105874833094,
          -0.2907326238965577,
          -0.3180095578092182,
          0.22602705632091968,
          -0.15035207106130694,
          4.982528059531731,
          -0.14808864767371616,
          -0.21249102937352785,
          -0.24948870707270515,
          -0.2613501366119077,
          -0.1906263317295312,
          -0.18879104061411806,
          3.5276509943887757,
          -0.5723987023967897,
          3.528793879094722,
          -0.024579790852175733,
          0.9307238471459316,
          -0.3393522933137136,
          -0.0767131011007408,
          2.5288588474498415,
          -0.2719498165037465,
          0.013621326274352067,
          -0.21051922081149183,
          -0.2960430012821649
         ],
         "y": [
          -0.141206729986645,
          -0.12960172857533467,
          0.21639185853768264,
          -0.15350293050084496,
          -0.2541688856254443,
          -0.3646367033749097,
          0.13144740457452211,
          -0.2075614766219232,
          -0.23998273878158408,
          -0.15589282405857532,
          0.3776564743221472,
          -0.23369708372401948,
          0.12349208938341474,
          0.047359024068078376,
          -0.29587604102653975,
          0.05973360211884238,
          -0.12731609076816947,
          -0.36428055560685413,
          -0.13560034180100772,
          -0.1319895980107562,
          -0.2514077464327293,
          -0.39299686857774163,
          -0.1412718104289991,
          -0.3806053284077082,
          -0.265397237567906,
          -0.13171514065067788,
          0.019487050460053567,
          -0.21919150989103442,
          -0.4059423723282486,
          -0.14701637100885978,
          -0.2958768186326208,
          -0.14324308967387486,
          -0.40031331896856664,
          -0.2514193272056632,
          -0.3458816148934317,
          0.14796618026759617,
          -0.29345649494559223,
          -0.1666093166308892,
          -0.40562483718675413,
          -0.2958841522584159,
          -0.39743125946010804,
          -0.39942474779093906,
          0.057604604409123954,
          -0.24766677937741038,
          -0.4077019771764015,
          -0.29333002329682667,
          -0.4010617479305424,
          -0.3335498588474928,
          -0.40880962093022666,
          -0.08419947817759586,
          0.02158872636261783,
          -0.4761431582361191,
          0.13144278728791664,
          -0.1535046243880894,
          -0.3990516606031807,
          -0.27765955701308054,
          -0.4115052707548807,
          0.23069603980740783,
          -0.3129141052463045,
          0.09403060438122454,
          -0.13925777818459786,
          -0.2474668973281622,
          0.12775037256313254,
          -0.1435188171576764,
          0.08869281777591022,
          -0.4038068506687056,
          -0.15350122129286023,
          -0.3985920430920434,
          0.08872009992954909,
          -0.04808940853329653,
          -0.08240654494788496,
          -0.14245170750703032,
          -0.14735274018759886,
          -0.29587354257182447,
          -0.3805492297728144,
          -0.3996302226770849,
          0.02246069947492888,
          0.12571982410336452,
          -0.13032788548216176,
          -0.022250141419982078,
          -0.1350706895329526,
          -0.0639329805159619,
          0.07091746294997914,
          -0.1705263304555743,
          -0.08675169870821177,
          -0.1327195215875914,
          -0.14935371168108824,
          -0.14105843520311026,
          -0.09737727393562526,
          -0.29607758826818004,
          -0.2607915211171388,
          -0.3847897051294858,
          -0.39903460443537436,
          0.12521912087081002,
          -0.0565595703650733,
          -0.10577251648684036,
          0.08871049139217312,
          -0.11207255968065015,
          -0.35381003266135996,
          -0.33255521414756,
          0.04388500838367295,
          0.06267270243173412,
          -0.40334718536643227,
          0.13804750693912657,
          0.01376025310150924,
          -0.4075683813939799,
          -0.1278657861063397,
          -0.39349176625837873,
          0.25175775759660274,
          -0.40507967104000975,
          -0.10391633042454045,
          -0.34568081066674705,
          -0.13165000566712903,
          0.1409527802511043,
          -0.28046075715086827,
          -0.19789147721587155,
          0.04452936806839383,
          -0.22838180964238586,
          -0.2185048717297686,
          -0.40511493415237315,
          -0.10961248891932948,
          -0.3873056430246392,
          -0.003555450524049648,
          -0.3961275430688049,
          -0.15350000329317695,
          -0.5286262753736316,
          0.018689056044700194,
          0.8133034168346494,
          -0.14308931999138233,
          -0.1659939555594319,
          -0.13677897158021182,
          0.04227174808852302,
          -0.1455423626359545,
          -0.004778782423809538,
          -0.39701343473508677,
          -0.38057676293493864,
          -0.09360593628348969,
          -0.30201222318218296,
          0.19917803578421941,
          -0.5174937159661686,
          0.03036327227820784,
          0.0916993418245538,
          -0.1319127948018332,
          -0.15350457517478588,
          -0.05244494713244886,
          -0.2856154552652079,
          -0.4775430158963857,
          0.12349081404015497,
          0.11682917319840111,
          -0.36464034425894487,
          -0.003734062790193369,
          -0.14875785805210423,
          0.04330883840103224,
          -0.14485555681821305,
          -0.1447862710923563,
          -0.2142880130802113,
          -0.13919887248868576,
          -0.40454867621781304,
          -0.7655754859626513,
          0.12581339486179194,
          -0.17454524413276637,
          0.04928015026716987,
          -0.3144931292321248,
          0.07963988022027765,
          -0.27765272424608173,
          -0.10296190759429505,
          0.018580589309066017,
          0.1328750297752424,
          0.1286626454082915,
          0.10961567931042475,
          0.1304267592842664,
          -0.39752045601066216,
          0.23503732130710575,
          -0.15424123603047177,
          -0.13202669940782819,
          -0.09740393152654075,
          0.24464312753878906,
          -0.1029553315993917,
          0.1270921699779623,
          0.3733310590587005,
          0.12914369005663648,
          -0.07071471825151787,
          -0.19148751495506625,
          0.014549285478040566,
          -0.139874933282355,
          0.07262829803540899,
          -0.12783140234186097,
          -0.18027186438699633,
          -0.13165025852990148,
          -0.14763515003602512,
          -0.12794207332845076,
          -0.13831623502621337,
          -1.1446015311237792,
          -0.2666416182519395,
          0.10803976704375395,
          0.15648064693186456,
          -0.13166717668681277,
          0.12214251671301789,
          -0.48039980728587983,
          0.1669682124305447,
          0.2409106010593215,
          0.06772713598565404,
          0.16188457450232963,
          0.12125227019478942,
          -0.3113250584003057,
          -0.1558918761840878,
          -0.2999400902204423,
          0.05173653039447063,
          -0.3849411651181721,
          -0.12576601176506752,
          0.17275731624690965,
          0.12771930358103817,
          0.16804302357007142,
          -0.1304142384831704,
          -0.1448520486151759,
          -0.13659485220731277,
          0.07963988022027765,
          0.06133840483916684,
          0.03276669989124491,
          -0.1253790583826781,
          0.27214473027190383,
          -0.13961444369984494,
          -0.14377403935994187,
          0.014098480487633533,
          -0.2398930115898237,
          -0.07945099716594925,
          -0.16435423824781958,
          -0.14461805559750548,
          -0.1397942079849998,
          0.18785765527047715,
          -0.022061476309191627,
          -0.40216065922171007,
          -0.19731822861442003,
          -0.15809695533386817,
          -0.10763361025276891,
          0.014548251283681764,
          0.13251497762678605,
          -0.10961260516331069,
          -0.1376107685999998,
          -0.1404419567208356,
          -0.2009053498670017,
          -0.08822122109377144,
          0.14698446601858584,
          -0.4038026337112698,
          0.24171708006139173,
          -0.12971340774078635,
          -0.11735597601884622,
          -0.11252895723023314,
          -0.2654467794971984,
          -0.18387158591591043,
          -0.13956142859597875,
          -0.8529140260838864,
          0.05298167101387679,
          0.5145936159759393,
          0.18391526724722337,
          -0.3926492772752942,
          0.15350295231220265,
          0.05297719356259763,
          -0.10136681010290616,
          0.10160556497076102,
          0.04265314085517941,
          -0.13436029255240897,
          -0.1350575813996521,
          -0.11199355332859547,
          0.1222775647930166,
          0.05723275931535972,
          -0.4048333753262993,
          -0.150165785929736,
          -0.13881333023590176,
          0.09065803467226308,
          -0.07376308855474469,
          -0.01754561609379112,
          0.11890950791858512,
          -0.40083614199694656,
          0.1185038301796286,
          -0.1496916709811077,
          0.0832775201694687,
          -0.253593355548017,
          -0.8911032045486934,
          -0.18478103518469693,
          -0.26683743422483974,
          0.10092888622723399,
          -0.11507303288163491,
          0.09616660035112079,
          0.07526878092965142,
          -0.4071781380867003,
          0.12177331527759813,
          -0.29973211977454167,
          -0.10671522592178884,
          -0.13611462474237546,
          -0.11268054660118516,
          -0.17383467566213687,
          0.2476166527450185,
          -0.2379337360343428,
          -0.5344607827246947,
          0.12333650230637368,
          -0.4822027380918613,
          -0.2215111854845457,
          0.07524707152519282,
          -0.15350296714864295,
          0.12403760876533472,
          -0.13502615517440475,
          8.2143344882611,
          -0.3492865691436936,
          0.1564396031659947,
          -0.3762932097020223,
          -0.27765440263116625,
          -0.3646122845141842,
          -0.26541078413633584,
          -0.2654113571952502,
          -0.11368089938935962,
          -0.12843518832213519,
          -0.2809260444637618,
          0.38334842953261367,
          -0.17911017612363694,
          0.030285521411468543,
          -0.16173991529712325,
          -0.025002572104832258,
          -0.14239598338102377,
          -0.1402812427257222,
          -0.225563304740953,
          -0.3847152936843149,
          -0.15589808398266003,
          -0.1793860577564526,
          0.044979950321267385,
          0.09701321742297674,
          0.0008968782830102744,
          -0.10762637831642027,
          -0.12783117078061101,
          0.2550829918049684,
          -0.26544685802301643,
          0.01822767570181041,
          -0.13986081778804685,
          0.11284091801134478,
          -0.1079126824321613,
          -0.18560302586226957,
          -0.3124612552273442,
          -0.3171525735628171,
          0.07087211499551681,
          -0.21376635549117118,
          0.16757735076694602,
          0.10281909181380793,
          -0.2587956312192023,
          -0.11751947957819028,
          -0.3026232903876679,
          -0.21087704819363406,
          -0.3395340918400064,
          0.18340490134672566,
          0.1288117105332043,
          -0.13895518253935074,
          -0.20720850048713496,
          -0.1104663846101804,
          -0.06774652562616765,
          -0.4036417719243361,
          0.12912782863376604,
          -0.25439848551247213,
          -0.1401412236237444,
          -0.23334562143869397,
          0.15426078178383285,
          -0.21329276451620502,
          -0.3642983812912702,
          -0.13473849882556513,
          -0.1458661574564127,
          0.026304701428552412,
          -0.14573064219108692,
          -0.13818843196054414,
          -0.08112944505345566,
          0.13064606152085315,
          -0.04984989892433971,
          -0.18720039711015923,
          -0.3243777670337277,
          -0.7611357854469752,
          -0.13926162007396173,
          -0.2998410588251269,
          -0.39019273121804315,
          -0.13801094336887174,
          -0.3922888860783926,
          0.24988072112573645,
          -0.26114672761635827,
          -0.40974989898769654,
          -0.12543780442650843,
          0.2813063210045135,
          5.115390817787346,
          0.06508717712048731,
          0.056066500373712046,
          -0.14211463877967268,
          0.05602867132410319,
          -0.315630742482479,
          -0.2240986338957424,
          -0.2958751314035136,
          -0.12847083817008348,
          0.15915753218606832,
          -0.07771088895100638,
          -0.136240802641698,
          -0.19356882099766323,
          -0.10396596124795396,
          -0.4060169860979552,
          0.02572821257958578,
          0.15843797270124058,
          -0.09859802286423425,
          -0.18494235474699083,
          -0.11507124506981334,
          0.25502458856214666,
          0.12816376335087817,
          -0.27790370452155255,
          0.14612341621865682,
          -0.13157713759971967,
          -0.11553226031328616,
          -0.15523990511871025,
          -0.006240178549998476,
          -0.46555955475771293,
          -0.1452522939554289,
          -0.34055230947629,
          -0.27933828468765426,
          -0.0898024929576221,
          -0.27736674024715835,
          -0.1454768095768258,
          -0.13736939653391175,
          0.23840840255927453,
          0.0787467948978206,
          -0.22435577607968957,
          -0.1965715733373324,
          0.08295244035057193,
          -0.7506005675620444,
          0.2761408606669547,
          0.12113678433856527,
          -0.05463558148501507,
          0.04116529435139158,
          -0.2331783335779586,
          -0.14553653945198616,
          0.3057323668800571,
          0.110593252764116,
          0.27721951943993145,
          -0.13120279138141164,
          -0.2149065849076035,
          0.14104131830679245,
          -0.39619389874055955,
          -0.11199618015699878,
          -0.20984285603099725,
          0.2803848001127599,
          -0.140446708139935,
          -0.21856196958770943,
          0.06210910861540104,
          0.12913554396100999,
          -0.138501708703428,
          0.07179183762403507,
          -0.1892348081864145,
          0.4465664484184381,
          0.056784304161803564,
          -0.1029572803540883,
          -0.14690634793163138,
          0.3273426941681769,
          -0.04298252877785654,
          -0.27608467287789484,
          -0.12916887230142257,
          0.1276714554839605,
          -0.3910049350363494,
          -0.15350296550145234,
          0.11000433374586983,
          0.013268992390470124,
          -0.28199817960002965,
          0.1728455336592095,
          -0.4631649785142478,
          -0.469162990049846,
          0.07002321124694251,
          -0.2378341519916784,
          -0.2522134932822784,
          -0.1278379351690627,
          -0.1188518189822854,
          0.2855681467546842,
          -0.12403993274331669,
          0.2822157368350055,
          -0.15773056359005896,
          -0.18420953097370532,
          0.1227579716621998,
          -0.19657100937598831,
          0.037336816936072,
          0.16997238870696818,
          0.06804356304418319,
          -0.2219224059514996,
          -0.01374908073478138,
          0.033424694868571594,
          0.05173362001100565,
          -0.21852021806624228,
          -0.14812396527293026,
          -0.40288472568319605,
          0.018559926800745415,
          -0.33213218519066157,
          0.020468477751385755,
          -0.46679486853426333,
          -0.14118204288508027,
          0.01834524686697262,
          -0.13165437854782475,
          0.04248457129482936,
          -0.2804541541664123,
          -0.1817687280737116,
          0.11296522191358987,
          0.03808105003031243,
          -0.17052635806039404,
          -0.05059591681515719,
          -0.2917256715427432,
          -0.08765285209158677,
          -0.09639587597757494,
          0.13212632050512535,
          -0.17761181903318235,
          0.16295294525648452,
          -0.304285807759282,
          -0.39643835129337257,
          0.07451200949295728,
          0.06858797456004842,
          -0.3071877634515603,
          -0.14973321233377973,
          -0.2116997047713312,
          -0.05226145726961772,
          -0.2725971645434647,
          0.24975124484481726,
          -0.2955184871984448,
          -0.23818715708003738,
          -0.30653094374058515,
          -0.23824170868988118,
          0.03364866169884968,
          0.057959931704218766,
          0.17082899344023209,
          0.11407685391791418,
          -0.1713037600101286,
          -0.21250132467138225,
          -0.2930188278482196,
          -0.15589277771292614,
          -0.1394446065465474
         ],
         "z": [
          -0.04594382979719291,
          -0.04158653526602632,
          0.11804954491274773,
          -0.025544900146417637,
          -0.09223413462448615,
          -0.10637985583259217,
          0.06396813524425668,
          -0.08662663388313808,
          -0.14099909711477937,
          -0.08314957686556128,
          -0.4801471554093904,
          -0.015260265232815384,
          0.1032736945380786,
          -0.00478768638150947,
          -0.11457328301082025,
          0.1726190502209491,
          -0.07638016050620021,
          -0.1149718663714526,
          -0.04763778680171191,
          -0.03721989099626822,
          0.007431019033234104,
          -0.1360947384580456,
          0.020390852998087364,
          -0.13104250364940148,
          -0.03896792521164937,
          -0.03732253782515341,
          -0.04017992909313999,
          -0.02121476247292374,
          -0.13631143834866502,
          -0.04728617695361112,
          -0.11457299218677992,
          -0.07838430134068347,
          -0.13851091389089248,
          -0.040750993306558604,
          -0.32889708144883095,
          0.1217646156245683,
          -0.0064823504424990405,
          0.007276252598074455,
          -0.13829043762497903,
          -0.1145702494167122,
          -0.1427966918889491,
          -0.13655420625450054,
          -0.13018373658663268,
          -0.10997845009735835,
          -0.1476333040780195,
          -0.0013078521894121888,
          -0.1413029074853958,
          -0.1283911799072326,
          -0.1448447254229752,
          -0.0416084524640479,
          -0.06939100750883113,
          -0.11817916092319257,
          0.06396986210568233,
          -0.02554426663396987,
          -0.14205184530725654,
          -0.12609735893153146,
          -0.1467440279914127,
          0.27326653759285424,
          -0.09552298504332453,
          -0.029981587612062557,
          -0.11518007817296307,
          -0.06021594992824308,
          0.12756894854371462,
          -0.1990973142633819,
          0.047249770149376584,
          -0.13542197000109568,
          -0.025545539388810747,
          -0.14473662279844826,
          0.04723956664616082,
          0.07609309131274729,
          -0.024025716504374288,
          -0.04666465296140511,
          -0.031474088348774146,
          -0.11457421743084661,
          -0.13106348449311062,
          -0.14446726944380178,
          -0.06971712474185483,
          0.04559753788934794,
          0.032662415598628015,
          0.0035142099629742905,
          0.03527183824553217,
          -0.14957118797662802,
          0.04610300056683729,
          -0.006500086602088907,
          -0.025979133526021176,
          0.03126513204096776,
          -0.04422910384903946,
          -0.04771857729206174,
          0.01764165481098932,
          -0.11314269378928062,
          -0.12093822198648674,
          -0.04748747966191517,
          -0.14205822430010898,
          0.03911708700879844,
          -0.05146061837594638,
          0.004562916636056873,
          0.04724316023130493,
          0.02602871246680087,
          0.06214754670844835,
          -0.02960257928414031,
          -0.5062277349443868,
          -0.10423796559606163,
          -0.13898378669651607,
          0.1266432435462138,
          0.047831260658789225,
          -0.14605836683875378,
          -0.11944067392154313,
          -0.14389758297595384,
          0.1092369499968544,
          -0.14117876140394434,
          -0.1224946625859412,
          -0.12354221559132625,
          -0.037346898255891534,
          0.0809690214975742,
          -0.030443148400696226,
          0.09364116787198526,
          -0.10187979320622448,
          -0.025969669772148925,
          0.057574089044946215,
          -0.14430841663238297,
          -0.06949791595538277,
          -0.12270587668608723,
          0.052785489543208455,
          -0.13617221511182875,
          -0.025545994919699198,
          -0.16111567388072834,
          0.012371947461220882,
          0.7518140526872262,
          -0.0550482088533953,
          -0.24074061939795743,
          0.025301966173236826,
          0.1391186665503393,
          -0.06485242393595193,
          -0.11496951710926132,
          -0.14055796774369322,
          -0.13105318711292585,
          -0.06444730303132923,
          -0.13724202484214837,
          0.03801011027834983,
          -0.11180166060256928,
          0.11503363756634098,
          0.24603201222108254,
          -0.05191651580298746,
          -0.02554428503970519,
          0.00807394647342156,
          -0.14267221020534213,
          0.18341364286878747,
          0.10327417151541805,
          0.0436107999315312,
          -0.10637849414492986,
          0.10518242843778451,
          0.038409805644325994,
          0.05937331408020929,
          -0.03892783570285852,
          -0.19295263360270368,
          -0.056664611197619986,
          -0.0408845485202502,
          -0.1424188153644124,
          -0.12892396119975455,
          0.03849911152949608,
          -0.18593647063104798,
          0.07141803112987159,
          -0.3374063077034882,
          -0.16233391617764556,
          -0.12609991438081783,
          -0.0440295521248554,
          0.005169353571201244,
          0.12664320644203575,
          0.1224854675407634,
          0.10357769912314882,
          0.04279090661204663,
          -0.13536631226659182,
          -0.10457198710074175,
          -0.004108789299760093,
          -0.04594829343857647,
          0.017651624728255842,
          -0.030123749642569288,
          -0.04403201154158737,
          -0.1043118516646806,
          -0.03580446926475901,
          0.0031437259799002586,
          0.00886644341391871,
          0.03242771986824518,
          0.03105261752488797,
          0.026692463631262615,
          0.022115454254485398,
          -0.05797293143765944,
          0.020741923202310626,
          -0.037346803685420885,
          -0.08918712718078309,
          -0.11941214256267578,
          0.02492131181594682,
          -1.0053256553663443,
          -0.11306788603166294,
          0.28897312956265836,
          -0.2122666632552438,
          -0.03734047630853057,
          0.04584659425470246,
          0.018500054914393094,
          -0.2085931703115892,
          -0.040109329393971216,
          0.15216467247801255,
          -0.20710417688193253,
          0.28666314007902705,
          -0.14533950055748926,
          -0.08314993136984633,
          0.6152724950994714,
          -0.006746612391379806,
          -0.12359018949518161,
          -0.04714779615200093,
          0.13538002648049735,
          0.03945580386764732,
          -0.13940589372690476,
          -0.03765019040947263,
          -0.03892914776793397,
          -0.059978579435568995,
          -0.16233391617764556,
          -0.008036450376345443,
          0.01952819363543065,
          -0.04816845504733692,
          -0.5028767366920629,
          -0.04097793950785747,
          -0.04731901962112926,
          0.005659278519926218,
          -0.02193097721315193,
          -0.025719447706658308,
          -0.19078474225148795,
          -0.04446481461187428,
          -0.04751316491178882,
          -0.08761297109703213,
          0.2825903038795163,
          -0.14701144575829653,
          -0.0011059840539005897,
          -0.23582491928706045,
          -0.04042592232568673,
          0.031053004312734906,
          0.045393344690552256,
          -0.06949787248022872,
          -0.0566465253179316,
          -0.041636388719556605,
          -0.14729762494568824,
          -0.17458489491655155,
          -0.12655913356256243,
          -0.13889498500409467,
          -0.040646956387943745,
          0.019122998050175574,
          -0.08415664735484243,
          0.026199404778212095,
          -0.038949396570488994,
          -0.15604441732360724,
          -0.1975550908373149,
          0.8051971091091283,
          0.06735306421342432,
          0.879483856776396,
          -0.001007228682737373,
          -0.11562370845986861,
          -0.21111268671774436,
          0.06735473877655196,
          0.014314306356052317,
          -0.14448938822293703,
          0.00931248751462475,
          -0.044862721703974255,
          -0.04645884980432386,
          0.025999164155551778,
          -0.020235148770557175,
          0.03211348393129416,
          -0.14117872700441028,
          -0.08631148494989101,
          0.0281688498871345,
          -0.1493045239459771,
          -0.03915959258963463,
          0.17126217552377193,
          -0.020064396432823327,
          -0.1453102616443298,
          -0.024760287559443067,
          -0.08843292854046694,
          0.03890347826260938,
          -0.05106635790006084,
          -0.22541578269644266,
          -0.09263237383496734,
          0.03213310075481505,
          0.0910878978775827,
          0.010756477020908114,
          0.053089458592701894,
          0.15280295197907445,
          -0.14329587300686836,
          0.028118859664884897,
          -0.10117639441221264,
          -0.0646334389203105,
          -0.050753039446908975,
          -0.040629953047406624,
          0.03846086955163833,
          0.10224000148631526,
          -0.08709772248017783,
          -0.10225723752773368,
          0.41459500078270123,
          0.6343097337177914,
          -0.044553436635367434,
          0.1528110712786407,
          -0.02554488644017157,
          0.03687240056177407,
          -0.19784867118732938,
          -1.6824635234265046,
          -0.1222552574631441,
          -0.21110711879383648,
          -0.06529944884423876,
          -0.12609928666616474,
          -0.10638898846659126,
          -0.038962858806102035,
          -0.03896264448253534,
          -0.023786002230079362,
          -0.04884727328791215,
          0.04616814530024302,
          -0.4816763788759121,
          -0.24540151422500234,
          0.027798798742600436,
          -0.05304339449147764,
          0.01435823069148728,
          -0.05861505385143498,
          -0.04733373480279388,
          -0.01246788012002577,
          -0.10013836858496462,
          -0.08314760965824201,
          -0.02625862203347331,
          0.10667597912697031,
          0.10399259338751055,
          -0.03329195850554754,
          0.005041104207438443,
          -0.05797301804137801,
          0.01953887269268825,
          -0.03894936720189703,
          -0.14449608107969736,
          -0.04555887317648307,
          -0.02572290351355595,
          0.018591377656939485,
          -0.01841583765730879,
          -0.1422870083288135,
          -0.02425285015892885,
          0.024005363129285317,
          0.35186207432329086,
          0.14196454647750212,
          -0.001492799960306613,
          -0.0024112458295186164,
          -0.08609105862919746,
          0.056087404052931514,
          0.024326068345074652,
          -0.12183268602976033,
          -0.012354368011474673,
          -0.09945350564710848,
          -0.05608667935050703,
          -0.14017187978997353,
          -0.041458047826681096,
          -0.05838689773865263,
          -0.14477364434806964,
          0.003149658139120845,
          0.03141352774747142,
          -0.05804110704550681,
          -0.04851909854537129,
          -0.07157752875669769,
          -0.030917883799264807,
          -0.1149651995800155,
          -0.047200615785872625,
          -0.044223534111975465,
          -0.09035265698991829,
          -0.06342679681834823,
          0.027256325414664988,
          -0.0377430312328959,
          -0.07955795034399635,
          -0.20137398314311258,
          -0.15806658757322878,
          0.05813354316638333,
          -0.2694120658316326,
          -0.046355386663761815,
          0.02526667254351133,
          -0.1216261080557992,
          0.033236525138753116,
          -0.03527307812904177,
          -0.035710451655045244,
          -0.07420728919137516,
          -0.14199953964426865,
          -0.04727054542901162,
          0.08865486714827514,
          -9.236359732963074,
          0.012569136636671868,
          -0.20239367847201298,
          -0.19183298598067494,
          0.03691349325514315,
          -0.14060155089702062,
          0.062057376617988796,
          -0.11457362320909042,
          -0.04555773311211118,
          0.04812771864190377,
          -0.027603344610034015,
          -0.04405948438722102,
          -0.09696665877356764,
          -0.12247610069845215,
          -0.0033711317585768587,
          -0.13769102466874347,
          -0.21207463627921005,
          -0.05646714426628481,
          0.4179959172686097,
          0.010755808380744658,
          0.019560715457883283,
          -0.15124001026682982,
          0.04913230694736041,
          -0.02976360513564627,
          -0.0482272457718404,
          -0.019867032589268554,
          -0.24171386598223088,
          -0.32994975086852973,
          -0.02970793517065083,
          -0.1981275672557563,
          0.03775469478504698,
          0.05053198523430229,
          -0.07280554497102142,
          0.03355781767510212,
          -0.03962939682549636,
          -0.19436071191312518,
          0.2596841427421059,
          0.20637607362659005,
          0.062153547585118867,
          -0.049787168008705585,
          0.07394043984190929,
          -0.20368642992221753,
          -0.0954185246205662,
          -0.028825984173856786,
          0.19802337001514378,
          0.00527625231019401,
          -0.09522199771984388,
          -0.064854601802008,
          0.09980733552905567,
          -0.08792869154340131,
          0.04662200448877727,
          -0.19545252416626233,
          0.07814504927250705,
          -0.012311837788725124,
          -0.1416981518552305,
          0.02600014658723283,
          -0.14004567626938955,
          -0.1778129570581091,
          -0.2873485871157714,
          -0.005233683371888516,
          -0.12486278343756509,
          0.003146772613022522,
          -0.1940932000827046,
          -0.17894910537881464,
          0.06890018786396652,
          0.5772248169957815,
          -0.014747598118802344,
          -0.044031282708919685,
          -0.050952919406145894,
          -0.2565529705301002,
          0.0412368880499498,
          0.9839114870900123,
          -0.08375996515674262,
          -0.27331305619298507,
          -0.028190922435998255,
          -0.025544887056219476,
          -1.54447901896846,
          -0.0662794337869091,
          0.04627558119551589,
          0.054565097335691176,
          0.1421317691929812,
          0.13928758670715505,
          -0.08983671695872304,
          -0.08969486786093235,
          -0.09822025723115776,
          -0.05797048816561263,
          -0.08531584441006838,
          0.05125440087935648,
          -0.08849759270720653,
          -0.09837291637439088,
          -0.03265008318916104,
          0.11255418635507666,
          -0.11089824832012622,
          -0.04978737892978834,
          -0.18502812774159508,
          0.34661111094682406,
          0.025651597994472707,
          -0.025937888153741824,
          0.014114579541392391,
          0.12587883138628966,
          -0.006745523910336759,
          0.4184344863760583,
          -0.04046486594958458,
          -0.14580692099580533,
          0.012420241693171971,
          -0.04881654114982452,
          -0.0326088374839458,
          0.13134792989439084,
          -0.05195939236914556,
          -0.05104554957491469,
          -0.03734526280207687,
          0.009375532392749164,
          -0.030445617911498888,
          -0.0654578840116223,
          0.12621330855570514,
          0.07581691708102527,
          -0.006500076277908814,
          -0.057646396064476836,
          -0.09311613172996043,
          -0.05165112608250038,
          -0.010582380839276817,
          0.04574275922436772,
          -0.0669509720011926,
          -0.21117634852183864,
          -0.10065969891477408,
          -0.14228466965891545,
          -0.520745401477062,
          0.049877035988468175,
          0.6097762957120303,
          -0.19350366581798636,
          -0.02492396336665728,
          0.07498798676629233,
          -0.005076926503681677,
          0.10719664427075977,
          0.12125347300917198,
          0.35509234597261163,
          -0.14381508921028335,
          0.3551127482302132,
          0.03312642396637348,
          0.778415812170965,
          -0.20316523364874886,
          0.01824221694102941,
          0.24597842626137006,
          -0.07446435455715217,
          0.044953159553724906,
          -0.08314959419879595,
          -0.16048341156859036
         ]
        },
        {
         "customdata": [
          [
           "Proof-of-BibleHash"
          ]
         ],
         "hovertemplate": "<b>%{hovertext}</b><br><br>Class=%{marker.color}<br>PC 1=%{x}<br>PC 2=%{y}<br>PC 3=%{z}<br>Algorithm=%{customdata[0]}<extra></extra>",
         "hovertext": [
          "BiblePay"
         ],
         "legendgroup": "1",
         "marker": {
          "color": [
           1
          ],
          "coloraxis": "coloraxis",
          "symbol": "diamond"
         },
         "mode": "markers",
         "name": "1",
         "scene": "scene",
         "showlegend": true,
         "type": "scatter3d",
         "x": [
          -0.3658104485904448
         ],
         "y": [
          36.4950747793845
         ],
         "z": [
          -10.414334661034388
         ]
        },
        {
         "customdata": [
          [
           "SHA-256 + Hive"
          ]
         ],
         "hovertemplate": "<b>%{hovertext}</b><br><br>Class=%{marker.color}<br>PC 1=%{x}<br>PC 2=%{y}<br>PC 3=%{z}<br>Algorithm=%{customdata[0]}<extra></extra>",
         "hovertext": [
          "LitecoinCash"
         ],
         "legendgroup": "2",
         "marker": {
          "color": [
           2
          ],
          "coloraxis": "coloraxis",
          "symbol": "square"
         },
         "mode": "markers",
         "name": "2",
         "scene": "scene",
         "showlegend": true,
         "type": "scatter3d",
         "x": [
          -1.1832195752538688
         ],
         "y": [
          11.763090567540594
         ],
         "z": [
          37.164262484116506
         ]
        },
        {
         "customdata": [
          [
           "TRC10"
          ]
         ],
         "hovertemplate": "<b>%{hovertext}</b><br><br>Class=%{marker.color}<br>PC 1=%{x}<br>PC 2=%{y}<br>PC 3=%{z}<br>Algorithm=%{customdata[0]}<extra></extra>",
         "hovertext": [
          "BitTorrent"
         ],
         "legendgroup": "3",
         "marker": {
          "color": [
           3
          ],
          "coloraxis": "coloraxis",
          "symbol": "x"
         },
         "mode": "markers",
         "name": "3",
         "scene": "scene",
         "showlegend": true,
         "type": "scatter3d",
         "x": [
          37.00345847011445
         ],
         "y": [
          -1.8542109459033598
         ],
         "z": [
          0.9527260380286239
         ]
        }
       ],
       "layout": {
        "coloraxis": {
         "colorbar": {
          "title": {
           "text": "Class"
          }
         },
         "colorscale": [
          [
           0,
           "#0d0887"
          ],
          [
           0.1111111111111111,
           "#46039f"
          ],
          [
           0.2222222222222222,
           "#7201a8"
          ],
          [
           0.3333333333333333,
           "#9c179e"
          ],
          [
           0.4444444444444444,
           "#bd3786"
          ],
          [
           0.5555555555555556,
           "#d8576b"
          ],
          [
           0.6666666666666666,
           "#ed7953"
          ],
          [
           0.7777777777777778,
           "#fb9f3a"
          ],
          [
           0.8888888888888888,
           "#fdca26"
          ],
          [
           1,
           "#f0f921"
          ]
         ]
        },
        "legend": {
         "title": {
          "text": "Class"
         },
         "tracegroupgap": 0,
         "x": 0,
         "y": 1
        },
        "margin": {
         "t": 60
        },
        "scene": {
         "domain": {
          "x": [
           0,
           1
          ],
          "y": [
           0,
           1
          ]
         },
         "xaxis": {
          "title": {
           "text": "PC 1"
          }
         },
         "yaxis": {
          "title": {
           "text": "PC 2"
          }
         },
         "zaxis": {
          "title": {
           "text": "PC 3"
          }
         }
        },
        "template": {
         "data": {
          "bar": [
           {
            "error_x": {
             "color": "#2a3f5f"
            },
            "error_y": {
             "color": "#2a3f5f"
            },
            "marker": {
             "line": {
              "color": "#E5ECF6",
              "width": 0.5
             }
            },
            "type": "bar"
           }
          ],
          "barpolar": [
           {
            "marker": {
             "line": {
              "color": "#E5ECF6",
              "width": 0.5
             }
            },
            "type": "barpolar"
           }
          ],
          "carpet": [
           {
            "aaxis": {
             "endlinecolor": "#2a3f5f",
             "gridcolor": "white",
             "linecolor": "white",
             "minorgridcolor": "white",
             "startlinecolor": "#2a3f5f"
            },
            "baxis": {
             "endlinecolor": "#2a3f5f",
             "gridcolor": "white",
             "linecolor": "white",
             "minorgridcolor": "white",
             "startlinecolor": "#2a3f5f"
            },
            "type": "carpet"
           }
          ],
          "choropleth": [
           {
            "colorbar": {
             "outlinewidth": 0,
             "ticks": ""
            },
            "type": "choropleth"
           }
          ],
          "contour": [
           {
            "colorbar": {
             "outlinewidth": 0,
             "ticks": ""
            },
            "colorscale": [
             [
              0,
              "#0d0887"
             ],
             [
              0.1111111111111111,
              "#46039f"
             ],
             [
              0.2222222222222222,
              "#7201a8"
             ],
             [
              0.3333333333333333,
              "#9c179e"
             ],
             [
              0.4444444444444444,
              "#bd3786"
             ],
             [
              0.5555555555555556,
              "#d8576b"
             ],
             [
              0.6666666666666666,
              "#ed7953"
             ],
             [
              0.7777777777777778,
              "#fb9f3a"
             ],
             [
              0.8888888888888888,
              "#fdca26"
             ],
             [
              1,
              "#f0f921"
             ]
            ],
            "type": "contour"
           }
          ],
          "contourcarpet": [
           {
            "colorbar": {
             "outlinewidth": 0,
             "ticks": ""
            },
            "type": "contourcarpet"
           }
          ],
          "heatmap": [
           {
            "colorbar": {
             "outlinewidth": 0,
             "ticks": ""
            },
            "colorscale": [
             [
              0,
              "#0d0887"
             ],
             [
              0.1111111111111111,
              "#46039f"
             ],
             [
              0.2222222222222222,
              "#7201a8"
             ],
             [
              0.3333333333333333,
              "#9c179e"
             ],
             [
              0.4444444444444444,
              "#bd3786"
             ],
             [
              0.5555555555555556,
              "#d8576b"
             ],
             [
              0.6666666666666666,
              "#ed7953"
             ],
             [
              0.7777777777777778,
              "#fb9f3a"
             ],
             [
              0.8888888888888888,
              "#fdca26"
             ],
             [
              1,
              "#f0f921"
             ]
            ],
            "type": "heatmap"
           }
          ],
          "heatmapgl": [
           {
            "colorbar": {
             "outlinewidth": 0,
             "ticks": ""
            },
            "colorscale": [
             [
              0,
              "#0d0887"
             ],
             [
              0.1111111111111111,
              "#46039f"
             ],
             [
              0.2222222222222222,
              "#7201a8"
             ],
             [
              0.3333333333333333,
              "#9c179e"
             ],
             [
              0.4444444444444444,
              "#bd3786"
             ],
             [
              0.5555555555555556,
              "#d8576b"
             ],
             [
              0.6666666666666666,
              "#ed7953"
             ],
             [
              0.7777777777777778,
              "#fb9f3a"
             ],
             [
              0.8888888888888888,
              "#fdca26"
             ],
             [
              1,
              "#f0f921"
             ]
            ],
            "type": "heatmapgl"
           }
          ],
          "histogram": [
           {
            "marker": {
             "colorbar": {
              "outlinewidth": 0,
              "ticks": ""
             }
            },
            "type": "histogram"
           }
          ],
          "histogram2d": [
           {
            "colorbar": {
             "outlinewidth": 0,
             "ticks": ""
            },
            "colorscale": [
             [
              0,
              "#0d0887"
             ],
             [
              0.1111111111111111,
              "#46039f"
             ],
             [
              0.2222222222222222,
              "#7201a8"
             ],
             [
              0.3333333333333333,
              "#9c179e"
             ],
             [
              0.4444444444444444,
              "#bd3786"
             ],
             [
              0.5555555555555556,
              "#d8576b"
             ],
             [
              0.6666666666666666,
              "#ed7953"
             ],
             [
              0.7777777777777778,
              "#fb9f3a"
             ],
             [
              0.8888888888888888,
              "#fdca26"
             ],
             [
              1,
              "#f0f921"
             ]
            ],
            "type": "histogram2d"
           }
          ],
          "histogram2dcontour": [
           {
            "colorbar": {
             "outlinewidth": 0,
             "ticks": ""
            },
            "colorscale": [
             [
              0,
              "#0d0887"
             ],
             [
              0.1111111111111111,
              "#46039f"
             ],
             [
              0.2222222222222222,
              "#7201a8"
             ],
             [
              0.3333333333333333,
              "#9c179e"
             ],
             [
              0.4444444444444444,
              "#bd3786"
             ],
             [
              0.5555555555555556,
              "#d8576b"
             ],
             [
              0.6666666666666666,
              "#ed7953"
             ],
             [
              0.7777777777777778,
              "#fb9f3a"
             ],
             [
              0.8888888888888888,
              "#fdca26"
             ],
             [
              1,
              "#f0f921"
             ]
            ],
            "type": "histogram2dcontour"
           }
          ],
          "mesh3d": [
           {
            "colorbar": {
             "outlinewidth": 0,
             "ticks": ""
            },
            "type": "mesh3d"
           }
          ],
          "parcoords": [
           {
            "line": {
             "colorbar": {
              "outlinewidth": 0,
              "ticks": ""
             }
            },
            "type": "parcoords"
           }
          ],
          "pie": [
           {
            "automargin": true,
            "type": "pie"
           }
          ],
          "scatter": [
           {
            "marker": {
             "colorbar": {
              "outlinewidth": 0,
              "ticks": ""
             }
            },
            "type": "scatter"
           }
          ],
          "scatter3d": [
           {
            "line": {
             "colorbar": {
              "outlinewidth": 0,
              "ticks": ""
             }
            },
            "marker": {
             "colorbar": {
              "outlinewidth": 0,
              "ticks": ""
             }
            },
            "type": "scatter3d"
           }
          ],
          "scattercarpet": [
           {
            "marker": {
             "colorbar": {
              "outlinewidth": 0,
              "ticks": ""
             }
            },
            "type": "scattercarpet"
           }
          ],
          "scattergeo": [
           {
            "marker": {
             "colorbar": {
              "outlinewidth": 0,
              "ticks": ""
             }
            },
            "type": "scattergeo"
           }
          ],
          "scattergl": [
           {
            "marker": {
             "colorbar": {
              "outlinewidth": 0,
              "ticks": ""
             }
            },
            "type": "scattergl"
           }
          ],
          "scattermapbox": [
           {
            "marker": {
             "colorbar": {
              "outlinewidth": 0,
              "ticks": ""
             }
            },
            "type": "scattermapbox"
           }
          ],
          "scatterpolar": [
           {
            "marker": {
             "colorbar": {
              "outlinewidth": 0,
              "ticks": ""
             }
            },
            "type": "scatterpolar"
           }
          ],
          "scatterpolargl": [
           {
            "marker": {
             "colorbar": {
              "outlinewidth": 0,
              "ticks": ""
             }
            },
            "type": "scatterpolargl"
           }
          ],
          "scatterternary": [
           {
            "marker": {
             "colorbar": {
              "outlinewidth": 0,
              "ticks": ""
             }
            },
            "type": "scatterternary"
           }
          ],
          "surface": [
           {
            "colorbar": {
             "outlinewidth": 0,
             "ticks": ""
            },
            "colorscale": [
             [
              0,
              "#0d0887"
             ],
             [
              0.1111111111111111,
              "#46039f"
             ],
             [
              0.2222222222222222,
              "#7201a8"
             ],
             [
              0.3333333333333333,
              "#9c179e"
             ],
             [
              0.4444444444444444,
              "#bd3786"
             ],
             [
              0.5555555555555556,
              "#d8576b"
             ],
             [
              0.6666666666666666,
              "#ed7953"
             ],
             [
              0.7777777777777778,
              "#fb9f3a"
             ],
             [
              0.8888888888888888,
              "#fdca26"
             ],
             [
              1,
              "#f0f921"
             ]
            ],
            "type": "surface"
           }
          ],
          "table": [
           {
            "cells": {
             "fill": {
              "color": "#EBF0F8"
             },
             "line": {
              "color": "white"
             }
            },
            "header": {
             "fill": {
              "color": "#C8D4E3"
             },
             "line": {
              "color": "white"
             }
            },
            "type": "table"
           }
          ]
         },
         "layout": {
          "annotationdefaults": {
           "arrowcolor": "#2a3f5f",
           "arrowhead": 0,
           "arrowwidth": 1
          },
          "autotypenumbers": "strict",
          "coloraxis": {
           "colorbar": {
            "outlinewidth": 0,
            "ticks": ""
           }
          },
          "colorscale": {
           "diverging": [
            [
             0,
             "#8e0152"
            ],
            [
             0.1,
             "#c51b7d"
            ],
            [
             0.2,
             "#de77ae"
            ],
            [
             0.3,
             "#f1b6da"
            ],
            [
             0.4,
             "#fde0ef"
            ],
            [
             0.5,
             "#f7f7f7"
            ],
            [
             0.6,
             "#e6f5d0"
            ],
            [
             0.7,
             "#b8e186"
            ],
            [
             0.8,
             "#7fbc41"
            ],
            [
             0.9,
             "#4d9221"
            ],
            [
             1,
             "#276419"
            ]
           ],
           "sequential": [
            [
             0,
             "#0d0887"
            ],
            [
             0.1111111111111111,
             "#46039f"
            ],
            [
             0.2222222222222222,
             "#7201a8"
            ],
            [
             0.3333333333333333,
             "#9c179e"
            ],
            [
             0.4444444444444444,
             "#bd3786"
            ],
            [
             0.5555555555555556,
             "#d8576b"
            ],
            [
             0.6666666666666666,
             "#ed7953"
            ],
            [
             0.7777777777777778,
             "#fb9f3a"
            ],
            [
             0.8888888888888888,
             "#fdca26"
            ],
            [
             1,
             "#f0f921"
            ]
           ],
           "sequentialminus": [
            [
             0,
             "#0d0887"
            ],
            [
             0.1111111111111111,
             "#46039f"
            ],
            [
             0.2222222222222222,
             "#7201a8"
            ],
            [
             0.3333333333333333,
             "#9c179e"
            ],
            [
             0.4444444444444444,
             "#bd3786"
            ],
            [
             0.5555555555555556,
             "#d8576b"
            ],
            [
             0.6666666666666666,
             "#ed7953"
            ],
            [
             0.7777777777777778,
             "#fb9f3a"
            ],
            [
             0.8888888888888888,
             "#fdca26"
            ],
            [
             1,
             "#f0f921"
            ]
           ]
          },
          "colorway": [
           "#636efa",
           "#EF553B",
           "#00cc96",
           "#ab63fa",
           "#FFA15A",
           "#19d3f3",
           "#FF6692",
           "#B6E880",
           "#FF97FF",
           "#FECB52"
          ],
          "font": {
           "color": "#2a3f5f"
          },
          "geo": {
           "bgcolor": "white",
           "lakecolor": "white",
           "landcolor": "#E5ECF6",
           "showlakes": true,
           "showland": true,
           "subunitcolor": "white"
          },
          "hoverlabel": {
           "align": "left"
          },
          "hovermode": "closest",
          "mapbox": {
           "style": "light"
          },
          "paper_bgcolor": "white",
          "plot_bgcolor": "#E5ECF6",
          "polar": {
           "angularaxis": {
            "gridcolor": "white",
            "linecolor": "white",
            "ticks": ""
           },
           "bgcolor": "#E5ECF6",
           "radialaxis": {
            "gridcolor": "white",
            "linecolor": "white",
            "ticks": ""
           }
          },
          "scene": {
           "xaxis": {
            "backgroundcolor": "#E5ECF6",
            "gridcolor": "white",
            "gridwidth": 2,
            "linecolor": "white",
            "showbackground": true,
            "ticks": "",
            "zerolinecolor": "white"
           },
           "yaxis": {
            "backgroundcolor": "#E5ECF6",
            "gridcolor": "white",
            "gridwidth": 2,
            "linecolor": "white",
            "showbackground": true,
            "ticks": "",
            "zerolinecolor": "white"
           },
           "zaxis": {
            "backgroundcolor": "#E5ECF6",
            "gridcolor": "white",
            "gridwidth": 2,
            "linecolor": "white",
            "showbackground": true,
            "ticks": "",
            "zerolinecolor": "white"
           }
          },
          "shapedefaults": {
           "line": {
            "color": "#2a3f5f"
           }
          },
          "ternary": {
           "aaxis": {
            "gridcolor": "white",
            "linecolor": "white",
            "ticks": ""
           },
           "baxis": {
            "gridcolor": "white",
            "linecolor": "white",
            "ticks": ""
           },
           "bgcolor": "#E5ECF6",
           "caxis": {
            "gridcolor": "white",
            "linecolor": "white",
            "ticks": ""
           }
          },
          "title": {
           "x": 0.05
          },
          "xaxis": {
           "automargin": true,
           "gridcolor": "white",
           "linecolor": "white",
           "ticks": "",
           "title": {
            "standoff": 15
           },
           "zerolinecolor": "white",
           "zerolinewidth": 2
          },
          "yaxis": {
           "automargin": true,
           "gridcolor": "white",
           "linecolor": "white",
           "ticks": "",
           "title": {
            "standoff": 15
           },
           "zerolinecolor": "white",
           "zerolinewidth": 2
          }
         }
        },
        "width": 800
       }
      },
      "text/html": [
       "<div>                            <div id=\"bf64e7bd-b753-49b4-af54-f2975b1fa1b1\" class=\"plotly-graph-div\" style=\"height:525px; width:800px;\"></div>            <script type=\"text/javascript\">                require([\"plotly\"], function(Plotly) {                    window.PLOTLYENV=window.PLOTLYENV || {};                                    if (document.getElementById(\"bf64e7bd-b753-49b4-af54-f2975b1fa1b1\")) {                    Plotly.newPlot(                        \"bf64e7bd-b753-49b4-af54-f2975b1fa1b1\",                        [{\"customdata\": [[\"Scrypt\"], [\"Scrypt\"], [\"X13\"], [\"SHA-256\"], [\"Ethash\"], [\"Scrypt\"], [\"X11\"], [\"CryptoNight-V7\"], [\"Ethash\"], [\"Equihash\"], [\"SHA-512\"], [\"Multiple\"], [\"SHA-256\"], [\"SHA-256\"], [\"Scrypt\"], [\"X15\"], [\"X11\"], [\"Scrypt\"], [\"Scrypt\"], [\"Scrypt\"], [\"Multiple\"], [\"Scrypt\"], [\"SHA-256\"], [\"Scrypt\"], [\"Scrypt\"], [\"Scrypt\"], [\"Quark\"], [\"Groestl\"], [\"Scrypt\"], [\"Scrypt\"], [\"Scrypt\"], [\"Scrypt\"], [\"Scrypt\"], [\"X11\"], [\"Scrypt\"], [\"Groestl\"], [\"Multiple\"], [\"SHA-256\"], [\"Scrypt\"], [\"Scrypt\"], [\"Scrypt\"], [\"Scrypt\"], [\"PoS\"], [\"Scrypt\"], [\"Scrypt\"], [\"NeoScrypt\"], [\"Scrypt\"], [\"Scrypt\"], [\"Scrypt\"], [\"Scrypt\"], [\"X11\"], [\"Scrypt\"], [\"X11\"], [\"SHA-256\"], [\"Scrypt\"], [\"Scrypt\"], [\"Scrypt\"], [\"SHA3\"], [\"Scrypt\"], [\"HybridScryptHash256\"], [\"Scrypt\"], [\"Scrypt\"], [\"SHA-256\"], [\"Scrypt\"], [\"X13\"], [\"Scrypt\"], [\"SHA-256\"], [\"Scrypt\"], [\"X13\"], [\"NeoScrypt\"], [\"Scrypt\"], [\"Scrypt\"], [\"Scrypt\"], [\"Scrypt\"], [\"Scrypt\"], [\"Scrypt\"], [\"X11\"], [\"X11\"], [\"SHA-256\"], [\"Multiple\"], [\"SHA-256\"], [\"PHI1612\"], [\"X11\"], [\"SHA-256\"], [\"SHA-256\"], [\"SHA-256\"], [\"X11\"], [\"Scrypt\"], [\"Scrypt\"], [\"Scrypt\"], [\"Scrypt\"], [\"Lyra2REv2\"], [\"Scrypt\"], [\"X11\"], [\"Multiple\"], [\"SHA-256\"], [\"X13\"], [\"Scrypt\"], [\"CryptoNight\"], [\"CryptoNight\"], [\"Shabal256\"], [\"Counterparty\"], [\"Scrypt\"], [\"SHA-256\"], [\"Groestl\"], [\"Scrypt\"], [\"Scrypt\"], [\"Scrypt\"], [\"X13\"], [\"Scrypt\"], [\"Scrypt\"], [\"Scrypt\"], [\"Scrypt\"], [\"X13\"], [\"Scrypt\"], [\"Stanford Folding\"], [\"X11\"], [\"Multiple\"], [\"QuBit\"], [\"Scrypt\"], [\"Scrypt\"], [\"Scrypt\"], [\"M7 POW\"], [\"Scrypt\"], [\"SHA-256\"], [\"Scrypt\"], [\"X11\"], [\"SHA3\"], [\"X11\"], [\"Lyra2RE\"], [\"SHA-256\"], [\"QUAIT\"], [\"X11\"], [\"X11\"], [\"Scrypt\"], [\"Scrypt\"], [\"Scrypt\"], [\"Ethash\"], [\"X13\"], [\"Blake2b\"], [\"SHA-256\"], [\"X15\"], [\"X11\"], [\"SHA-256\"], [\"BLAKE256\"], [\"Scrypt\"], [\"1GB AES Pattern Search\"], [\"SHA-256\"], [\"X11\"], [\"Scrypt\"], [\"SHA-256\"], [\"SHA-256\"], [\"NIST5\"], [\"Scrypt\"], [\"Scrypt\"], [\"X11\"], [\"Dagger\"], [\"Scrypt\"], [\"X11GOST\"], [\"X11\"], [\"Scrypt\"], [\"SHA-256\"], [\"Scrypt\"], [\"PoS\"], [\"Scrypt\"], [\"X11\"], [\"X11\"], [\"SHA-256\"], [\"SHA-256\"], [\"NIST5\"], [\"X11\"], [\"Scrypt\"], [\"POS 3.0\"], [\"Scrypt\"], [\"Scrypt\"], [\"Scrypt\"], [\"X13\"], [\"X11\"], [\"X11\"], [\"Equihash\"], [\"X11\"], [\"Scrypt\"], [\"CryptoNight\"], [\"SHA-256\"], [\"SHA-256\"], [\"X11\"], [\"Scrypt\"], [\"Multiple\"], [\"Scrypt\"], [\"Scrypt\"], [\"Scrypt\"], [\"SHA-256\"], [\"Scrypt\"], [\"Scrypt\"], [\"SHA-256D\"], [\"PoS\"], [\"Scrypt\"], [\"X11\"], [\"Lyra2Z\"], [\"PoS\"], [\"X13\"], [\"X14\"], [\"PoS\"], [\"SHA-256D\"], [\"Ethash\"], [\"Equihash\"], [\"DPoS\"], [\"X11\"], [\"Scrypt\"], [\"X11\"], [\"X13\"], [\"X11\"], [\"PoS\"], [\"Scrypt\"], [\"Scrypt\"], [\"X11\"], [\"PoS\"], [\"X11\"], [\"SHA-256\"], [\"Scrypt\"], [\"X11\"], [\"Scrypt\"], [\"Scrypt\"], [\"X11\"], [\"CryptoNight\"], [\"Scrypt\"], [\"Scrypt\"], [\"Scrypt\"], [\"Scrypt\"], [\"Quark\"], [\"QuBit\"], [\"Scrypt\"], [\"CryptoNight\"], [\"Lyra2RE\"], [\"Scrypt\"], [\"SHA-256\"], [\"X11\"], [\"Scrypt\"], [\"X11\"], [\"Scrypt\"], [\"CryptoNight-V7\"], [\"Scrypt\"], [\"Scrypt\"], [\"Scrypt\"], [\"X13\"], [\"X11\"], [\"Equihash\"], [\"Scrypt\"], [\"Scrypt\"], [\"Lyra2RE\"], [\"Scrypt\"], [\"Dagger-Hashimoto\"], [\"X11\"], [\"Blake2S\"], [\"X11\"], [\"Scrypt\"], [\"PoS\"], [\"X11\"], [\"NIST5\"], [\"PoS\"], [\"X11\"], [\"Scrypt\"], [\"Scrypt\"], [\"Scrypt\"], [\"SHA-256\"], [\"X11\"], [\"Scrypt\"], [\"Scrypt\"], [\"SHA-256\"], [\"PoS\"], [\"Scrypt\"], [\"X15\"], [\"SHA-256\"], [\"Scrypt\"], [\"POS 3.0\"], [\"CryptoNight-V7\"], [\"536\"], [\"Argon2d\"], [\"Blake2b\"], [\"Cloverhash\"], [\"CryptoNight\"], [\"NIST5\"], [\"X11\"], [\"NIST5\"], [\"Skein\"], [\"Scrypt\"], [\"X13\"], [\"Scrypt\"], [\"X11\"], [\"X11\"], [\"Scrypt\"], [\"CryptoNight\"], [\"X13\"], [\"Time Travel\"], [\"Scrypt\"], [\"Keccak\"], [\"SkunkHash v2 Raptor\"], [\"X11\"], [\"Skein\"], [\"SHA-256\"], [\"X11\"], [\"Scrypt\"], [\"VeChainThor Authority\"], [\"Scrypt\"], [\"PoS\"], [\"Scrypt\"], [\"Scrypt\"], [\"Scrypt\"], [\"Scrypt\"], [\"Scrypt\"], [\"Scrypt\"], [\"Scrypt\"], [\"CryptoNight\"], [\"SHA-512\"], [\"Ouroboros\"], [\"X11\"], [\"Equihash\"], [\"NeoScrypt\"], [\"X11\"], [\"Scrypt\"], [\"NeoScrypt\"], [\"Lyra2REv2\"], [\"Equihash\"], [\"Scrypt\"], [\"SHA-256\"], [\"NIST5\"], [\"PHI1612\"], [\"Dagger\"], [\"Scrypt\"], [\"Quark\"], [\"Scrypt\"], [\"POS 2.0\"], [\"Scrypt\"], [\"SHA-256\"], [\"X11\"], [\"NeoScrypt\"], [\"Ethash\"], [\"NeoScrypt\"], [\"X11\"], [\"DPoS\"], [\"NIST5\"], [\"X13\"], [\"Multiple\"], [\"Scrypt\"], [\"CryptoNight\"], [\"CryptoNight\"], [\"Ethash\"], [\"NIST5\"], [\"Quark\"], [\"X11\"], [\"CryptoNight-V7\"], [\"Scrypt\"], [\"Scrypt\"], [\"Scrypt\"], [\"X11\"], [\"BLAKE256\"], [\"X11\"], [\"NeoScrypt\"], [\"Quark\"], [\"NeoScrypt\"], [\"Scrypt\"], [\"Scrypt\"], [\"Scrypt\"], [\"X11\"], [\"X11\"], [\"SHA-256\"], [\"C11\"], [\"POS 3.0\"], [\"Ethash\"], [\"Scrypt\"], [\"CryptoNight\"], [\"SkunkHash\"], [\"Scrypt\"], [\"CryptoNight\"], [\"Scrypt\"], [\"Dagger\"], [\"Lyra2REv2\"], [\"X13\"], [\"Scrypt\"], [\"Scrypt\"], [\"X11\"], [\"C11\"], [\"Proof-of-Authority\"], [\"X11\"], [\"XEVAN\"], [\"Scrypt\"], [\"VBFT\"], [\"Ethash\"], [\"CryptoNight\"], [\"Scrypt\"], [\"IMesh\"], [\"NIST5\"], [\"Scrypt\"], [\"Scrypt\"], [\"Equihash\"], [\"Scrypt\"], [\"Lyra2Z\"], [\"Green Protocol\"], [\"PoS\"], [\"Scrypt\"], [\"Semux BFT consensus\"], [\"X11\"], [\"Quark\"], [\"PoS\"], [\"CryptoNight\"], [\"X16R\"], [\"Scrypt\"], [\"NIST5\"], [\"Lyra2RE\"], [\"XEVAN\"], [\"Tribus\"], [\"Scrypt\"], [\"Lyra2Z\"], [\"CryptoNight\"], [\"CryptoNight Heavy\"], [\"CryptoNight\"], [\"Scrypt\"], [\"Scrypt\"], [\"Jump Consistent Hash\"], [\"SHA-256D\"], [\"CryptoNight\"], [\"Scrypt\"], [\"X15\"], [\"Scrypt\"], [\"Quark\"], [\"SHA-256\"], [\"DPoS\"], [\"X16R\"], [\"HMQ1725\"], [\"X11\"], [\"X16R\"], [\"Quark\"], [\"Quark\"], [\"Scrypt\"], [\"Lyra2REv2\"], [\"Quark\"], [\"Scrypt\"], [\"Scrypt\"], [\"CryptoNight-V7\"], [\"Cryptonight-GPU\"], [\"XEVAN\"], [\"CryptoNight Heavy\"], [\"X11\"], [\"X11\"], [\"Scrypt\"], [\"PoS\"], [\"SHA-256\"], [\"Keccak\"], [\"X11\"], [\"X11\"], [\"Scrypt\"], [\"SHA-512\"], [\"X16R\"], [\"ECC 256K1\"], [\"Equihash\"], [\"XEVAN\"], [\"Lyra2Z\"], [\"SHA-256\"], [\"XEVAN\"], [\"X11\"], [\"CryptoNight\"], [\"Quark\"], [\"Blake\"], [\"Blake\"], [\"Equihash\"], [\"Exosis\"], [\"Scrypt\"], [\"Scrypt\"], [\"Equihash\"], [\"Quark\"], [\"Equihash\"], [\"Quark\"], [\"Scrypt\"], [\"QuBit\"], [\"X11\"], [\"Scrypt\"], [\"XEVAN\"], [\"SHA-256D\"], [\"X11\"], [\"SHA-256\"], [\"X13\"], [\"SHA-256\"], [\"X11\"], [\"DPoS\"], [\"Scrypt\"], [\"Scrypt\"], [\"X11\"], [\"NeoScrypt\"], [\"Scrypt\"], [\"Blake\"], [\"Scrypt\"], [\"SHA-256\"], [\"Scrypt\"], [\"X11\"], [\"Scrypt\"], [\"Scrypt\"], [\"SHA-256\"], [\"X11\"], [\"SHA-256\"], [\"Scrypt\"], [\"Scrypt\"], [\"Scrypt\"], [\"Groestl\"], [\"X11\"], [\"Scrypt\"], [\"PoS\"], [\"Scrypt\"], [\"Scrypt\"], [\"X11\"], [\"SHA-256\"], [\"DPoS\"], [\"Scrypt\"], [\"Scrypt\"], [\"NeoScrypt\"], [\"Multiple\"], [\"X13\"], [\"Equihash+Scrypt\"], [\"DPoS\"], [\"Ethash\"], [\"DPoS\"], [\"SHA-256\"], [\"Leased POS\"], [\"PoS\"], [\"PoS\"], [\"SHA-256\"], [\"Scrypt\"], [\"CryptoNight\"], [\"Equihash\"], [\"Scrypt\"]], \"hovertemplate\": \"<b>%{hovertext}</b><br><br>Class=%{marker.color}<br>PC 1=%{x}<br>PC 2=%{y}<br>PC 3=%{z}<br>Algorithm=%{customdata[0]}<extra></extra>\", \"hovertext\": [\"42 Coin\", \"404Coin\", \"EliteCoin\", \"Bitcoin\", \"Ethereum\", \"Litecoin\", \"Dash\", \"Monero\", \"Ethereum Classic\", \"ZCash\", \"Bitshares\", \"DigiByte\", \"BitcoinDark\", \"PayCoin\", \"ProsperCoin\", \"KoboCoin\", \"Spreadcoin\", \"Argentum\", \"Aurora Coin\", \"BlueCoin\", \"MyriadCoin\", \"MoonCoin\", \"ZetaCoin\", \"SexCoin\", \"Quatloo\", \"EnergyCoin\", \"QuarkCoin\", \"Riecoin\", \"Digitalcoin \", \"BitBar\", \"Catcoin\", \"CryptoBullion\", \"CannaCoin\", \"CryptCoin\", \"CasinoCoin\", \"Diamond\", \"Verge\", \"DevCoin\", \"EarthCoin\", \"E-Gulden\", \"Einsteinium\", \"Emerald\", \"Exclusive Coin\", \"FlutterCoin\", \"Franko\", \"FeatherCoin\", \"GrandCoin\", \"GlobalCoin\", \"GoldCoin\", \"HoboNickels\", \"HyperStake\", \"Infinite Coin\", \"IOCoin\", \"IXcoin\", \"KrugerCoin\", \"LuckyCoin\", \"Litebar \", \"MaxCoin\", \"MegaCoin\", \"MediterraneanCoin\", \"MintCoin\", \"MinCoin\", \"MazaCoin\", \"Nautilus Coin\", \"NavCoin\", \"NobleCoin\", \"Namecoin\", \"NyanCoin\", \"OpalCoin\", \"Orbitcoin\", \"PotCoin\", \"PhoenixCoin\", \"Reddcoin\", \"RonPaulCoin\", \"StableCoin\", \"SmartCoin\", \"SuperCoin\", \"SyncCoin\", \"SysCoin\", \"TeslaCoin\", \"TigerCoin\", \"TittieCoin\", \"TorCoin\", \"TerraCoin\", \"UnbreakableCoin\", \"Unobtanium\", \"UroCoin\", \"UnitaryStatus Dollar\", \"UltraCoin\", \"ViaCoin\", \"VeriCoin\", \"Vertcoin\", \"WorldCoin\", \"X11 Coin\", \"Crypti\", \"JouleCoin\", \"StealthCoin\", \"ZCC Coin\", \"ByteCoin\", \"DigitalNote \", \"BurstCoin\", \"StorjCoin\", \"MonaCoin\", \"Neutron\", \"FairCoin\", \"Gulden\", \"RubyCoin\", \"PesetaCoin\", \"Kore\", \"Wild Beast Coin\", \"Dnotes\", \"Flo\", \"8BIT Coin\", \"Sativa Coin\", \"ArtByte\", \"Folding Coin\", \"Ucoin\", \"Unitus\", \"CypherPunkCoin\", \"OmniCron\", \"Vtorrent\", \"GreenCoin\", \"Cryptonite\", \"MasterCoin\", \"SoonCoin\", \"1Credit\", \"IslaCoin\", \"Nexus\", \"MarsCoin \", \"Crypto\", \"Anarchists Prime\", \"Droidz\", \"BowsCoin\", \"Squall Coin\", \"Song Coin\", \"BitZeny\", \"Diggits\", \"Expanse\", \"Paycon\", \"Siacoin\", \"Emercoin\", \"EverGreenCoin\", \"MindCoin\", \"I0coin\", \"Decred\", \"Revolution VR\", \"HOdlcoin\", \"EDRCoin\", \"Hitcoin\", \"Gamecredits\", \"DubaiCoin\", \"CarpeDiemCoin\", \"PWR Coin\", \"BillaryCoin\", \"GPU Coin\", \"Adzcoin\", \"SoilCoin\", \"YoCoin\", \"SibCoin\", \"EuropeCoin\", \"ZeitCoin\", \"SwingCoin\", \"SafeExchangeCoin\", \"Nebuchadnezzar\", \"Francs\", \"BolivarCoin\", \"Ratecoin\", \"Revenu\", \"Clockcoin\", \"VIP Tokens\", \"BitSend\", \"Omni\", \"Let it Ride\", \"PutinCoin\", \"iBankCoin\", \"Frankywillcoin\", \"MudraCoin\", \"PizzaCoin\", \"Lutetium Coin\", \"Komodo\", \"GoldBlocks\", \"CarterCoin\", \"Karbo\", \"BitTokens\", \"ZayedCoin\", \"MustangCoin\", \"ZoneCoin\", \"Circuits of Value\", \"RootCoin\", \"DopeCoin\", \"BitCurrency\", \"DollarCoin\", \"Swiscoin\", \"Shilling\", \"BuzzCoin\", \"Opair\", \"PesoBit\", \"Halloween Coin\", \"ZCoin\", \"CoffeeCoin\", \"RoyalCoin\", \"GanjaCoin V2\", \"TeamUP\", \"LanaCoin\", \"Elementrem\", \"ZClassic\", \"ARK\", \"InsaneCoin\", \"KiloCoin\", \"ArtexCoin\", \"EmberCoin\", \"XenixCoin\", \"FreeCoin\", \"PLNCoin\", \"AquariusCoin\", \"Kurrent\", \"Creatio\", \"Eternity\", \"Eurocoin\", \"BitcoinFast\", \"Stakenet\", \"BitConnect Coin\", \"MoneyCoin\", \"Enigma\", \"Cannabis Industry Coin\", \"Russiacoin\", \"PandaCoin\", \"GameUnits\", \"GAKHcoin\", \"Allsafe\", \"LiteCreed\", \"OsmiumCoin\", \"Bikercoins\", \"HexxCoin\", \"Klingon Empire Darsek\", \"Internet of People\", \"KushCoin\", \"Printerium\", \"PacCoin\", \"Impeach\", \"Citadel\", \"Zilbercoin\", \"FirstCoin\", \"BeaverCoin\", \"FindCoin\", \"VaultCoin\", \"Zero\", \"OpenChat\", \"Canada eCoin\", \"Zoin\", \"RenosCoin\", \"DubaiCoin\", \"VirtacoinPlus\", \"TajCoin\", \"Impact\", \"EB3coin\", \"Atmos\", \"HappyCoin\", \"Coinonat\", \"MacronCoin\", \"Condensate\", \"Independent Money System\", \"ArgusCoin\", \"LomoCoin\", \"ProCurrency\", \"GoldReserve\", \"BenjiRolls\", \"GrowthCoin\", \"ILCoin\", \"Phreak\", \"Degas Coin\", \"HTML5 Coin\", \"Ultimate Secure Cash\", \"EquiTrader\", \"QTUM\", \"Quantum Resistant Ledger\", \"Espers\", \"Dynamic\", \"Nano\", \"ChanCoin\", \"Dinastycoin\", \"Denarius\", \"DigitalPrice\", \"Virta Unique Coin\", \"Bitcoin Planet\", \"Unify\", \"BritCoin\", \"SocialCoin\", \"ArcticCoin\", \"DAS\", \"Linda\", \"LeviarCoin\", \"DeepOnion\", \"Bitcore\", \"gCn Coin\", \"SmartCash\", \"Signatum\", \"Onix\", \"Cream\", \"Bitcoin Cash\", \"Monoeci\", \"Draftcoin\", \"Vechain\", \"Sojourn Coin\", \"Stakecoin\", \"NewYorkCoin\", \"FrazCoin\", \"Kronecoin\", \"AdCoin\", \"Linx\", \"CoinonatX\", \"Ethereum Dark\", \"Sumokoin\", \"Obsidian\", \"Cardano\", \"Regalcoin\", \"BitcoinZ\", \"TrezarCoin\", \"Elements\", \"TerraNovaCoin\", \"VIVO Coin\", \"Rupee\", \"Bitcoin Gold\", \"WomenCoin\", \"Theresa May Coin\", \"NamoCoin\", \"LUXCoin\", \"Pirl\", \"Xios\", \"Bitcloud 2.0\", \"eBoost\", \"KekCoin\", \"BlackholeCoin\", \"Infinity Economics\", \"Pura\", \"Innova\", \"Ellaism\", \"GoByte\", \"Magnet\", \"Lamden Tau\", \"Electra\", \"Bitcoin Diamond\", \"SHIELD\", \"Cash & Back Coin\", \"UltraNote\", \"BitCoal\", \"DaxxCoin\", \"Bulwark\", \"Kalkulus\", \"AC3\", \"Lethean\", \"GermanCoin\", \"LiteCoin Ultra\", \"PopularCoin\", \"PhantomX\", \"Photon\", \"Sucre\", \"SparksPay\", \"Digiwage\", \"GunCoin\", \"IrishCoin\", \"Trollcoin\", \"Litecoin Plus\", \"Monkey Project\", \"Pioneer Coin\", \"UnitedBitcoin\", \"Interzone\", \"TokenPay\", \"1717 Masonic Commemorative Token\", \"My Big Coin\", \"TurtleCoin\", \"MUNcoin\", \"Unified Society USDEX\", \"Niobio Cash\", \"ShareChain\", \"Travelflex\", \"KREDS\", \"Tokyo Coin\", \"BitFlip\", \"LottoCoin\", \"Crypto Improvement Fund\", \"Stipend\", \"Poa Network\", \"Pushi\", \"Ellerium\", \"Velox\", \"Ontology\", \"Callisto Network\", \"BitTube\", \"Poseidon\", \"Aidos Kuneen\", \"Bitspace\", \"Briacoin\", \"Ignition\", \"Bitrolium\", \"MedicCoin\", \"Alpenschillling\", \"Bitcoin Green\", \"Deviant Coin\", \"Abjcoin\", \"Semux\", \"FuturoCoin\", \"Carebit\", \"Zealium\", \"Monero Classic\", \"Proton\", \"iDealCash\", \"Jumpcoin\", \"Infinex\", \"Bitcoin Incognito\", \"KEYCO\", \"HollyWoodCoin\", \"GINcoin\", \"PlatinCoin\", \"Loki\", \"Newton Coin\", \"Swisscoin\", \"Xt3ch\", \"MassGrid\", \"TheVig\", \"PluraCoin\", \"EmaratCoin\", \"Dekado\", \"Lynx\", \"Poseidon Quark\", \"BitcoinWSpectrum\", \"Muse\", \"Motion\", \"PlusOneCoin\", \"Axe\", \"Trivechain\", \"Dystem\", \"Giant\", \"Peony Coin\", \"Absolute Coin\", \"Vitae\", \"HexCoin\", \"TPCash\", \"Webchain\", \"Ryo\", \"Urals Coin\", \"Qwertycoin\", \"ARENON\", \"EUNO\", \"MMOCoin\", \"Ketan\", \"Project Pai\", \"XDNA\", \"PAXEX\", \"Azart\", \"ThunderStake\", \"Kcash\", \"Xchange\", \"Acute Angle Cloud\", \"CrypticCoin\", \"Bettex coin\", \"Actinium\", \"Bitcoin SV\", \"BitMoney\", \"Junson Ming Chan Coin\", \"FREDEnergy\", \"HerbCoin\", \"Universal Molecule\", \"Lithium\", \"PirateCash\", \"Exosis\", \"Block-Logic\", \"Oduwa\", \"Beam\", \"Galilel\", \"Bithereum\", \"Crypto Sports\", \"Credit\", \"SLICE\", \"Dash Platinum\", \"Nasdacoin\", \"Beetle Coin\", \"Titan Coin\", \"Award\", \"BLAST\", \"Bitcoin Rhodium\", \"GlobalToken\", \"Insane Coin\", \"ALAX\", \"LiteDoge\", \"SolarCoin\", \"TruckCoin\", \"UFO Coin\", \"OrangeCoin\", \"BlakeCoin\", \"BitstarCoin\", \"NeosCoin\", \"HyperCoin\", \"PinkCoin\", \"Crypto Escudo\", \"AudioCoin\", \"IncaKoin\", \"Piggy Coin\", \"Crown Coin\", \"Genstake\", \"SmileyCoin\", \"XiaoMiCoin\", \"Groestlcoin\", \"CapriCoin\", \" ClubCoin\", \"Radium\", \"Bata\", \"Pakcoin\", \"Creditbit \", \"OKCash\", \"Lisk\", \"HiCoin\", \"WhiteCoin\", \"FriendshipCoin\", \"JoinCoin\", \"Triangles Coin\", \"Vollar\", \"EOS\", \"Reality Clash\", \"Oxycoin\", \"TigerCash\", \"Waves\", \"Particl\", \"Nxt\", \"ZEPHYR\", \"Gapcoin\", \"Beldex\", \"Horizen\", \"BitcoinPlus\"], \"legendgroup\": \"0\", \"marker\": {\"color\": [0, 0, 0, 0, 0, 0, 0, 0, 0, 0, 0, 0, 0, 0, 0, 0, 0, 0, 0, 0, 0, 0, 0, 0, 0, 0, 0, 0, 0, 0, 0, 0, 0, 0, 0, 0, 0, 0, 0, 0, 0, 0, 0, 0, 0, 0, 0, 0, 0, 0, 0, 0, 0, 0, 0, 0, 0, 0, 0, 0, 0, 0, 0, 0, 0, 0, 0, 0, 0, 0, 0, 0, 0, 0, 0, 0, 0, 0, 0, 0, 0, 0, 0, 0, 0, 0, 0, 0, 0, 0, 0, 0, 0, 0, 0, 0, 0, 0, 0, 0, 0, 0, 0, 0, 0, 0, 0, 0, 0, 0, 0, 0, 0, 0, 0, 0, 0, 0, 0, 0, 0, 0, 0, 0, 0, 0, 0, 0, 0, 0, 0, 0, 0, 0, 0, 0, 0, 0, 0, 0, 0, 0, 0, 0, 0, 0, 0, 0, 0, 0, 0, 0, 0, 0, 0, 0, 0, 0, 0, 0, 0, 0, 0, 0, 0, 0, 0, 0, 0, 0, 0, 0, 0, 0, 0, 0, 0, 0, 0, 0, 0, 0, 0, 0, 0, 0, 0, 0, 0, 0, 0, 0, 0, 0, 0, 0, 0, 0, 0, 0, 0, 0, 0, 0, 0, 0, 0, 0, 0, 0, 0, 0, 0, 0, 0, 0, 0, 0, 0, 0, 0, 0, 0, 0, 0, 0, 0, 0, 0, 0, 0, 0, 0, 0, 0, 0, 0, 0, 0, 0, 0, 0, 0, 0, 0, 0, 0, 0, 0, 0, 0, 0, 0, 0, 0, 0, 0, 0, 0, 0, 0, 0, 0, 0, 0, 0, 0, 0, 0, 0, 0, 0, 0, 0, 0, 0, 0, 0, 0, 0, 0, 0, 0, 0, 0, 0, 0, 0, 0, 0, 0, 0, 0, 0, 0, 0, 0, 0, 0, 0, 0, 0, 0, 0, 0, 0, 0, 0, 0, 0, 0, 0, 0, 0, 0, 0, 0, 0, 0, 0, 0, 0, 0, 0, 0, 0, 0, 0, 0, 0, 0, 0, 0, 0, 0, 0, 0, 0, 0, 0, 0, 0, 0, 0, 0, 0, 0, 0, 0, 0, 0, 0, 0, 0, 0, 0, 0, 0, 0, 0, 0, 0, 0, 0, 0, 0, 0, 0, 0, 0, 0, 0, 0, 0, 0, 0, 0, 0, 0, 0, 0, 0, 0, 0, 0, 0, 0, 0, 0, 0, 0, 0, 0, 0, 0, 0, 0, 0, 0, 0, 0, 0, 0, 0, 0, 0, 0, 0, 0, 0, 0, 0, 0, 0, 0, 0, 0, 0, 0, 0, 0, 0, 0, 0, 0, 0, 0, 0, 0, 0, 0, 0, 0, 0, 0, 0, 0, 0, 0, 0, 0, 0, 0, 0, 0, 0, 0, 0, 0, 0, 0, 0, 0, 0, 0, 0, 0, 0, 0, 0, 0, 0, 0, 0, 0, 0, 0, 0, 0, 0, 0, 0, 0, 0, 0, 0, 0, 0, 0, 0, 0, 0, 0, 0, 0, 0, 0, 0, 0, 0, 0, 0, 0, 0, 0, 0, 0, 0, 0, 0, 0, 0, 0, 0, 0, 0, 0, 0, 0, 0, 0, 0, 0, 0, 0, 0, 0, 0, 0, 0, 0, 0, 0, 0, 0, 0, 0, 0, 0], \"coloraxis\": \"coloraxis\", \"symbol\": \"circle\"}, \"mode\": \"markers\", \"name\": \"0\", \"scene\": \"scene\", \"showlegend\": true, \"type\": \"scatter3d\", \"x\": [-0.25515111250647243, -0.23334562694535493, 0.28593181478060903, -0.1916238158025948, -0.2859194955217686, -0.29829617536057507, -0.14970976843942516, -0.22888506891591276, -0.4584001638740771, -0.21051824984594636, -0.04984161647327786, -0.030923970891292875, -0.10476829196680602, -0.1215016191460297, -0.278767933726885, 0.06178846054691467, -0.2672442004986291, -0.29934968153315444, -0.24236201386896414, -0.11306680010045504, 0.022886082282011864, -0.3239285654603796, -0.1639848154691762, -0.31857215230140307, -0.1820706915681935, -0.11881682507993868, -0.2871284373832325, -0.23704685950934146, -0.32259211001216215, -0.25347116331245917, -0.2787516424735213, -0.26629280417169493, -0.32724543515242066, -0.2385016498112712, 0.5225685393827402, -0.11303445058384401, -0.0019735817122357065, 0.08773044247206019, -0.11433658284042943, -0.278597999184454, -0.3242054835769279, -0.32426220339793854, -0.16793362867406617, -0.12674557328815608, -0.32719791093136474, -0.25888023798778237, -0.31335235418416685, -0.2898149305285516, -0.3292476139738526, -0.2383406903214432, -0.08912122469773176, 1.1688305467126476, -0.1496130338745148, -0.1915883279805722, -0.32789434644960097, -0.309131735034133, -0.32604291269149466, -0.12023548124234856, -0.28664599722645173, -0.12799449164895374, 0.08903537651681433, -0.25674480375830144, -0.06609496540940393, -0.31286986507199727, -0.06092169005928998, -0.2848105477227865, -0.1916596246022748, -0.3175161717944623, -0.06149326542120198, -0.25246344029113044, -0.22772994323331555, -0.24999291331366993, 0.20879904913355898, -0.27882027765754097, -0.31974744798981697, -0.3268625321511976, -0.10738951663128529, -0.16079701782302028, -0.1512501554817945, -0.1120533583689955, -0.16166883390488826, -0.3405457198527664, -0.16691275219762883, -0.19980910331049456, -0.20917718194686355, -0.16453279798832823, -0.1261068873751153, -0.23758192907537098, -0.1336876717160024, -0.29132466921924455, -0.13499050917549735, -0.3384091122567577, -0.3282516820696501, -0.16151293259240643, -0.09777829786010872, -0.19030520833657316, -0.06129196154684955, -0.09140924592188744, 2.663430211986898, -0.02993474986285932, 0.02357636269685841, -0.05432853814345674, -0.32323481718173724, -0.08903122969126573, -0.05820022061653551, -0.3183365450704728, -0.14963280493519562, -0.32402124584207576, -0.19100659875964476, -0.32769343427539566, -0.12396761025308402, -0.3055451496820675, -0.12018143699027968, -0.1502939227336058, -0.13207757462561193, -0.04113894761894484, -0.2491772948712876, -0.11633166537597295, -0.11605843833534261, -0.3279695847791906, -0.2613165678001678, -0.2533159421963054, -0.44669112261677274, -0.3278150209209134, -0.19168514233152073, -0.16412419382437257, -0.07820162518724116, -0.3791564193605286, -0.24618816268038252, -0.2838854138677767, -0.16980787708588002, 0.35088903804742905, -0.2366753385333149, -0.07480127015191307, -0.3236879920312701, -0.3191706138690855, -0.16286915694937054, -0.5737069945419834, -0.16922257157136045, 0.34960610571660694, -0.0055791747673973055, 0.14238746169762956, -0.24105948234769095, -0.19158935902497343, -0.01530332226127685, -0.3382873491109478, -0.009124067012273668, -0.10474157285969579, 0.017393490903960442, -0.29821989693918427, -0.0946524443064225, 0.19300628951205728, 0.09296037007025303, -0.2390713489904513, -0.3139900751620501, -0.25651808739536985, -0.27595740243032163, -0.32798454292006, -0.6520699698987401, -0.16032228069255103, 0.29953881251007014, -0.13645220764975882, -0.10071739169334536, -0.309021810691294, -0.3092748850699394, -0.20264330298221925, -0.19742856928506095, -0.08396663679596889, -0.08986141577659604, -0.06723656042105601, -0.16337371151999117, -0.324574304879057, -0.08359510684683458, 0.009928984075034295, -0.25336597507792186, -0.13312918126920995, -0.15850492596435872, -0.2027810735085703, -0.2048517892992364, 0.003980840852867215, -0.18586175600832922, -0.16784151746220505, -0.05911082876564153, -0.1439164994498157, -0.17004991224932822, -0.18597259236560748, -0.23090186910453614, -0.19264390773028792, -0.120176139383187, -0.23394613010418444, -0.14803454780473257, -0.1700090323999228, -0.7878077498523457, -0.305063356368707, 0.2488705679143552, -0.34854938878897335, -0.11982169516343923, -0.15938749717274447, -0.17176721999152736, -0.338950234210863, -0.2520449498070265, -0.03292369872811431, -0.33998334762932225, -0.05502208503895057, -0.5698512293316601, -0.21053810831131559, 4.982200128027849, -0.2151011678803672, -0.302852988758774, -0.09286272053825641, 1.3348894261652644, -0.16486514852590226, -0.2752540499016552, -0.24658798302742246, -0.2391448476756073, -0.24359075214227222, -0.309021810691294, -0.19954965362874022, -0.1742997931174573, -0.2404000554279336, -0.8564891586553017, -0.25274993779540667, -0.2505191835154509, -0.2008990632441012, -0.08121036662108726, -0.2273669583653113, 0.2502862156421966, -0.2529901384900028, -0.2526912891513938, -0.2735721480298306, -0.16996921908448145, -0.3266403592850329, -0.04705949832072376, -0.28184411087910555, -0.09591866465251414, -0.14389483253807767, -0.15891997318280912, -0.26131413242807694, -0.23592758718413712, -0.25058356934739073, -0.46561784107608056, -0.2848764091820718, -0.21914837850257546, -0.32114863291707285, -0.24904638282368444, -0.09865160325554369, -0.1762690133526006, -0.0818474789868452, -0.18103276228518425, -0.26381119422256016, -0.30392514714971636, -0.22146747984571882, -0.09212442412264388, -0.16225259864351754, -0.1706420448972187, -0.31927028711385147, -0.34557282903384706, -0.09203061918080489, -0.16194159099078198, -0.3092830589087268, -0.05284291838839446, -0.24705880296573746, -0.2447122758388205, -0.09306447024424673, -0.1458094577783594, -0.18133698901547798, -0.32889519235259185, -0.025623815724364583, -0.15066703048635538, -0.3049579508616666, -0.23795809375420038, 0.7565919143598511, -0.1499718581743015, -0.32527885796152284, -0.06472065374185784, -0.3463032314170844, 0.3542799931058033, -0.11947213487638561, -0.07957880577534714, -0.309525865363274, 0.17082040407829643, -0.10870844904517103, -0.13977961732330196, -0.13848326816215722, -0.02651144035489646, -0.3330330117418615, -0.19851308502546428, -0.28876175077812044, -0.24722732955860027, -0.23873726612241797, -0.027406848174872808, -0.04644919813078883, -0.19414169652135577, -0.2556254528237916, 2.3551035141611507, 0.1087455281818528, -0.2518927587503874, -0.2713572015508302, -0.026056616997668817, -0.19162304801216945, -0.16552989207435007, -0.30659359407999887, 11.415162679822012, -0.3062470807817155, -0.34883799881367733, 1.436732432255138, -0.30923972202618477, -0.29880776324105746, -0.18178688388733716, -0.1817748780039063, -0.2140869465465988, -0.24635741219411633, 0.005805672412095294, -0.10038729367795461, 0.02308794191830595, -0.21127610598440838, -0.0832500094051057, -0.2592442446027024, -0.19683843898444708, -0.2488447481076532, -0.29649730757504195, -0.48243108131030765, -0.21040805169032484, 0.5497508187379373, -0.04621072816663929, -0.10055818037706914, -0.2619906451012415, -0.26373360351053426, -0.23090672043361543, -0.1657100556116412, -0.1810311171282995, -0.23923037371223102, -0.2495779570844245, -0.002127481401735025, -0.15789943498053344, -0.27298653414446644, -0.5778269581836561, -0.33143632184810307, -0.18505299515538268, 3.543441246242467, 0.4141652022230915, -0.23214799186890728, -0.24569196890249287, -0.2914968214890834, 0.31938182522996855, -0.029143922871103952, -0.41823846056610425, -0.1072762363286509, -0.2696955959806664, -0.24019420816429982, -0.45717797399516474, -0.07379469783303534, -0.16042411386733926, -0.26389369230677984, -0.18552945091842468, 0.5901406008017187, -0.24464343177871398, -0.27404993151824575, -0.2474752049893866, -0.13603025965964877, -0.2989762241383904, -0.23557004228452, -0.2513406740438792, -0.21864206326943608, -0.24951003898467108, -0.16811505775379884, -0.23713000463461575, -0.12823602746917884, -0.5579125045520616, -0.32145506079038894, 0.8762287681584794, -0.9107325215409393, -0.24552780329055507, -0.06680232141854867, -0.19282993728357356, -0.15178204788775965, -0.347465703307768, -0.24062301212453102, -0.27127113972794487, -0.0937057242413895, -0.09973883562813615, -0.13487986603608568, -0.13440276900363773, -0.15487038501167516, -0.21107755645833295, -0.30522770625942974, -0.025531705914110338, -0.574359979172936, 0.05753777907115728, -0.27878699080417263, -0.17150793481472396, -0.12770812907178505, -0.2279497796006692, -0.24287423623487392, -0.2215195929850363, -0.12292781859182796, -0.19971496055138763, -0.23601705591201652, -0.34380165054300105, -0.25717543413009075, 3.469794324635325, -0.1398170729143257, -0.16448647718397036, -0.2959837554685278, 0.007888769070627912, -0.17897634634698728, -0.22152768307345758, -0.1784433606926505, -0.2874150976362207, -0.1968800109128636, -0.24853831627369066, -0.3086480574814598, -0.16634186789173863, 0.0054198104625558735, 0.23898037422373752, 1.0619033271918983, -0.08340321261896766, -0.3053566145461368, -0.1921521564428517, -0.012779110908075176, 0.06292504207095699, -0.25085941527930034, 0.017719038307303724, 1.0114978528023317, -0.2790570509610365, -0.15239962145238542, 1.420925031495205, -0.1554463753465684, -0.24534194727410172, -0.2367973372775572, -0.07381458095259302, -0.23929044346255168, -0.21787158597135728, -0.3057135552749442, -0.3212457379914208, -0.14194922591721637, -0.326029705057817, -0.09300943681780775, -0.4625549121758252, -0.3943704064698772, -0.30996380113740085, 1.9652908546606307, -0.24271365736464776, -0.18569109105212536, -0.30626730906467714, -0.3404370570670493, -0.13760981522877747, 0.23494498238657247, -0.12196156633125416, -0.20274024608028957, -0.23391187800143173, 0.15710243584249403, -0.10147866873211367, 0.6495473413364593, -0.10867440176573766, -0.22716471930416085, -0.23565140205348964, -0.19162308252167234, -0.19634191119968442, 0.0851815454987702, 0.03253345703501853, -0.17462044249341052, -0.6417618599396808, -0.6423151464733617, -0.1995549732340637, -0.24936479672184256, -0.2868483349323576, -0.23076500296406938, -0.1744097234280779, -0.21589975444425855, -0.17783602556690353, -0.2762707767414772, 0.26482809696832316, -0.13003834392906571, -0.22244484782775006, -0.2508712305638852, -0.0634402104739189, 0.030660794885694693, -0.1880766089751617, -0.21189212556469325, -0.26429223469481694, -0.16413418887728654, -0.21504019382735212, 3.5545482598133047, 0.004886593302131871, -0.32717737666165736, -0.07549630011193745, -0.2723720226158554, -0.18731591798048083, -0.6423408477220282, -0.2466765083010706, -0.17361386482436536, -0.12008982285675732, -0.0493112980940203, -0.1322159105971816, -0.24734433110646997, 0.2041706573951245, -0.04554411788185301, -0.1998085249751069, -0.2645777478513334, 0.1551930173036252, -0.2614511088787459, -0.22387630556696078, -0.1616171297662356, -0.25818929205282265, -0.33680105874833094, -0.2907326238965577, -0.3180095578092182, 0.22602705632091968, -0.15035207106130694, 4.982528059531731, -0.14808864767371616, -0.21249102937352785, -0.24948870707270515, -0.2613501366119077, -0.1906263317295312, -0.18879104061411806, 3.5276509943887757, -0.5723987023967897, 3.528793879094722, -0.024579790852175733, 0.9307238471459316, -0.3393522933137136, -0.0767131011007408, 2.5288588474498415, -0.2719498165037465, 0.013621326274352067, -0.21051922081149183, -0.2960430012821649], \"y\": [-0.141206729986645, -0.12960172857533467, 0.21639185853768264, -0.15350293050084496, -0.2541688856254443, -0.3646367033749097, 0.13144740457452211, -0.2075614766219232, -0.23998273878158408, -0.15589282405857532, 0.3776564743221472, -0.23369708372401948, 0.12349208938341474, 0.047359024068078376, -0.29587604102653975, 0.05973360211884238, -0.12731609076816947, -0.36428055560685413, -0.13560034180100772, -0.1319895980107562, -0.2514077464327293, -0.39299686857774163, -0.1412718104289991, -0.3806053284077082, -0.265397237567906, -0.13171514065067788, 0.019487050460053567, -0.21919150989103442, -0.4059423723282486, -0.14701637100885978, -0.2958768186326208, -0.14324308967387486, -0.40031331896856664, -0.2514193272056632, -0.3458816148934317, 0.14796618026759617, -0.29345649494559223, -0.1666093166308892, -0.40562483718675413, -0.2958841522584159, -0.39743125946010804, -0.39942474779093906, 0.057604604409123954, -0.24766677937741038, -0.4077019771764015, -0.29333002329682667, -0.4010617479305424, -0.3335498588474928, -0.40880962093022666, -0.08419947817759586, 0.02158872636261783, -0.4761431582361191, 0.13144278728791664, -0.1535046243880894, -0.3990516606031807, -0.27765955701308054, -0.4115052707548807, 0.23069603980740783, -0.3129141052463045, 0.09403060438122454, -0.13925777818459786, -0.2474668973281622, 0.12775037256313254, -0.1435188171576764, 0.08869281777591022, -0.4038068506687056, -0.15350122129286023, -0.3985920430920434, 0.08872009992954909, -0.04808940853329653, -0.08240654494788496, -0.14245170750703032, -0.14735274018759886, -0.29587354257182447, -0.3805492297728144, -0.3996302226770849, 0.02246069947492888, 0.12571982410336452, -0.13032788548216176, -0.022250141419982078, -0.1350706895329526, -0.0639329805159619, 0.07091746294997914, -0.1705263304555743, -0.08675169870821177, -0.1327195215875914, -0.14935371168108824, -0.14105843520311026, -0.09737727393562526, -0.29607758826818004, -0.2607915211171388, -0.3847897051294858, -0.39903460443537436, 0.12521912087081002, -0.0565595703650733, -0.10577251648684036, 0.08871049139217312, -0.11207255968065015, -0.35381003266135996, -0.33255521414756, 0.04388500838367295, 0.06267270243173412, -0.40334718536643227, 0.13804750693912657, 0.01376025310150924, -0.4075683813939799, -0.1278657861063397, -0.39349176625837873, 0.25175775759660274, -0.40507967104000975, -0.10391633042454045, -0.34568081066674705, -0.13165000566712903, 0.1409527802511043, -0.28046075715086827, -0.19789147721587155, 0.04452936806839383, -0.22838180964238586, -0.2185048717297686, -0.40511493415237315, -0.10961248891932948, -0.3873056430246392, -0.003555450524049648, -0.3961275430688049, -0.15350000329317695, -0.5286262753736316, 0.018689056044700194, 0.8133034168346494, -0.14308931999138233, -0.1659939555594319, -0.13677897158021182, 0.04227174808852302, -0.1455423626359545, -0.004778782423809538, -0.39701343473508677, -0.38057676293493864, -0.09360593628348969, -0.30201222318218296, 0.19917803578421941, -0.5174937159661686, 0.03036327227820784, 0.0916993418245538, -0.1319127948018332, -0.15350457517478588, -0.05244494713244886, -0.2856154552652079, -0.4775430158963857, 0.12349081404015497, 0.11682917319840111, -0.36464034425894487, -0.003734062790193369, -0.14875785805210423, 0.04330883840103224, -0.14485555681821305, -0.1447862710923563, -0.2142880130802113, -0.13919887248868576, -0.40454867621781304, -0.7655754859626513, 0.12581339486179194, -0.17454524413276637, 0.04928015026716987, -0.3144931292321248, 0.07963988022027765, -0.27765272424608173, -0.10296190759429505, 0.018580589309066017, 0.1328750297752424, 0.1286626454082915, 0.10961567931042475, 0.1304267592842664, -0.39752045601066216, 0.23503732130710575, -0.15424123603047177, -0.13202669940782819, -0.09740393152654075, 0.24464312753878906, -0.1029553315993917, 0.1270921699779623, 0.3733310590587005, 0.12914369005663648, -0.07071471825151787, -0.19148751495506625, 0.014549285478040566, -0.139874933282355, 0.07262829803540899, -0.12783140234186097, -0.18027186438699633, -0.13165025852990148, -0.14763515003602512, -0.12794207332845076, -0.13831623502621337, -1.1446015311237792, -0.2666416182519395, 0.10803976704375395, 0.15648064693186456, -0.13166717668681277, 0.12214251671301789, -0.48039980728587983, 0.1669682124305447, 0.2409106010593215, 0.06772713598565404, 0.16188457450232963, 0.12125227019478942, -0.3113250584003057, -0.1558918761840878, -0.2999400902204423, 0.05173653039447063, -0.3849411651181721, -0.12576601176506752, 0.17275731624690965, 0.12771930358103817, 0.16804302357007142, -0.1304142384831704, -0.1448520486151759, -0.13659485220731277, 0.07963988022027765, 0.06133840483916684, 0.03276669989124491, -0.1253790583826781, 0.27214473027190383, -0.13961444369984494, -0.14377403935994187, 0.014098480487633533, -0.2398930115898237, -0.07945099716594925, -0.16435423824781958, -0.14461805559750548, -0.1397942079849998, 0.18785765527047715, -0.022061476309191627, -0.40216065922171007, -0.19731822861442003, -0.15809695533386817, -0.10763361025276891, 0.014548251283681764, 0.13251497762678605, -0.10961260516331069, -0.1376107685999998, -0.1404419567208356, -0.2009053498670017, -0.08822122109377144, 0.14698446601858584, -0.4038026337112698, 0.24171708006139173, -0.12971340774078635, -0.11735597601884622, -0.11252895723023314, -0.2654467794971984, -0.18387158591591043, -0.13956142859597875, -0.8529140260838864, 0.05298167101387679, 0.5145936159759393, 0.18391526724722337, -0.3926492772752942, 0.15350295231220265, 0.05297719356259763, -0.10136681010290616, 0.10160556497076102, 0.04265314085517941, -0.13436029255240897, -0.1350575813996521, -0.11199355332859547, 0.1222775647930166, 0.05723275931535972, -0.4048333753262993, -0.150165785929736, -0.13881333023590176, 0.09065803467226308, -0.07376308855474469, -0.01754561609379112, 0.11890950791858512, -0.40083614199694656, 0.1185038301796286, -0.1496916709811077, 0.0832775201694687, -0.253593355548017, -0.8911032045486934, -0.18478103518469693, -0.26683743422483974, 0.10092888622723399, -0.11507303288163491, 0.09616660035112079, 0.07526878092965142, -0.4071781380867003, 0.12177331527759813, -0.29973211977454167, -0.10671522592178884, -0.13611462474237546, -0.11268054660118516, -0.17383467566213687, 0.2476166527450185, -0.2379337360343428, -0.5344607827246947, 0.12333650230637368, -0.4822027380918613, -0.2215111854845457, 0.07524707152519282, -0.15350296714864295, 0.12403760876533472, -0.13502615517440475, 8.2143344882611, -0.3492865691436936, 0.1564396031659947, -0.3762932097020223, -0.27765440263116625, -0.3646122845141842, -0.26541078413633584, -0.2654113571952502, -0.11368089938935962, -0.12843518832213519, -0.2809260444637618, 0.38334842953261367, -0.17911017612363694, 0.030285521411468543, -0.16173991529712325, -0.025002572104832258, -0.14239598338102377, -0.1402812427257222, -0.225563304740953, -0.3847152936843149, -0.15589808398266003, -0.1793860577564526, 0.044979950321267385, 0.09701321742297674, 0.0008968782830102744, -0.10762637831642027, -0.12783117078061101, 0.2550829918049684, -0.26544685802301643, 0.01822767570181041, -0.13986081778804685, 0.11284091801134478, -0.1079126824321613, -0.18560302586226957, -0.3124612552273442, -0.3171525735628171, 0.07087211499551681, -0.21376635549117118, 0.16757735076694602, 0.10281909181380793, -0.2587956312192023, -0.11751947957819028, -0.3026232903876679, -0.21087704819363406, -0.3395340918400064, 0.18340490134672566, 0.1288117105332043, -0.13895518253935074, -0.20720850048713496, -0.1104663846101804, -0.06774652562616765, -0.4036417719243361, 0.12912782863376604, -0.25439848551247213, -0.1401412236237444, -0.23334562143869397, 0.15426078178383285, -0.21329276451620502, -0.3642983812912702, -0.13473849882556513, -0.1458661574564127, 0.026304701428552412, -0.14573064219108692, -0.13818843196054414, -0.08112944505345566, 0.13064606152085315, -0.04984989892433971, -0.18720039711015923, -0.3243777670337277, -0.7611357854469752, -0.13926162007396173, -0.2998410588251269, -0.39019273121804315, -0.13801094336887174, -0.3922888860783926, 0.24988072112573645, -0.26114672761635827, -0.40974989898769654, -0.12543780442650843, 0.2813063210045135, 5.115390817787346, 0.06508717712048731, 0.056066500373712046, -0.14211463877967268, 0.05602867132410319, -0.315630742482479, -0.2240986338957424, -0.2958751314035136, -0.12847083817008348, 0.15915753218606832, -0.07771088895100638, -0.136240802641698, -0.19356882099766323, -0.10396596124795396, -0.4060169860979552, 0.02572821257958578, 0.15843797270124058, -0.09859802286423425, -0.18494235474699083, -0.11507124506981334, 0.25502458856214666, 0.12816376335087817, -0.27790370452155255, 0.14612341621865682, -0.13157713759971967, -0.11553226031328616, -0.15523990511871025, -0.006240178549998476, -0.46555955475771293, -0.1452522939554289, -0.34055230947629, -0.27933828468765426, -0.0898024929576221, -0.27736674024715835, -0.1454768095768258, -0.13736939653391175, 0.23840840255927453, 0.0787467948978206, -0.22435577607968957, -0.1965715733373324, 0.08295244035057193, -0.7506005675620444, 0.2761408606669547, 0.12113678433856527, -0.05463558148501507, 0.04116529435139158, -0.2331783335779586, -0.14553653945198616, 0.3057323668800571, 0.110593252764116, 0.27721951943993145, -0.13120279138141164, -0.2149065849076035, 0.14104131830679245, -0.39619389874055955, -0.11199618015699878, -0.20984285603099725, 0.2803848001127599, -0.140446708139935, -0.21856196958770943, 0.06210910861540104, 0.12913554396100999, -0.138501708703428, 0.07179183762403507, -0.1892348081864145, 0.4465664484184381, 0.056784304161803564, -0.1029572803540883, -0.14690634793163138, 0.3273426941681769, -0.04298252877785654, -0.27608467287789484, -0.12916887230142257, 0.1276714554839605, -0.3910049350363494, -0.15350296550145234, 0.11000433374586983, 0.013268992390470124, -0.28199817960002965, 0.1728455336592095, -0.4631649785142478, -0.469162990049846, 0.07002321124694251, -0.2378341519916784, -0.2522134932822784, -0.1278379351690627, -0.1188518189822854, 0.2855681467546842, -0.12403993274331669, 0.2822157368350055, -0.15773056359005896, -0.18420953097370532, 0.1227579716621998, -0.19657100937598831, 0.037336816936072, 0.16997238870696818, 0.06804356304418319, -0.2219224059514996, -0.01374908073478138, 0.033424694868571594, 0.05173362001100565, -0.21852021806624228, -0.14812396527293026, -0.40288472568319605, 0.018559926800745415, -0.33213218519066157, 0.020468477751385755, -0.46679486853426333, -0.14118204288508027, 0.01834524686697262, -0.13165437854782475, 0.04248457129482936, -0.2804541541664123, -0.1817687280737116, 0.11296522191358987, 0.03808105003031243, -0.17052635806039404, -0.05059591681515719, -0.2917256715427432, -0.08765285209158677, -0.09639587597757494, 0.13212632050512535, -0.17761181903318235, 0.16295294525648452, -0.304285807759282, -0.39643835129337257, 0.07451200949295728, 0.06858797456004842, -0.3071877634515603, -0.14973321233377973, -0.2116997047713312, -0.05226145726961772, -0.2725971645434647, 0.24975124484481726, -0.2955184871984448, -0.23818715708003738, -0.30653094374058515, -0.23824170868988118, 0.03364866169884968, 0.057959931704218766, 0.17082899344023209, 0.11407685391791418, -0.1713037600101286, -0.21250132467138225, -0.2930188278482196, -0.15589277771292614, -0.1394446065465474], \"z\": [-0.04594382979719291, -0.04158653526602632, 0.11804954491274773, -0.025544900146417637, -0.09223413462448615, -0.10637985583259217, 0.06396813524425668, -0.08662663388313808, -0.14099909711477937, -0.08314957686556128, -0.4801471554093904, -0.015260265232815384, 0.1032736945380786, -0.00478768638150947, -0.11457328301082025, 0.1726190502209491, -0.07638016050620021, -0.1149718663714526, -0.04763778680171191, -0.03721989099626822, 0.007431019033234104, -0.1360947384580456, 0.020390852998087364, -0.13104250364940148, -0.03896792521164937, -0.03732253782515341, -0.04017992909313999, -0.02121476247292374, -0.13631143834866502, -0.04728617695361112, -0.11457299218677992, -0.07838430134068347, -0.13851091389089248, -0.040750993306558604, -0.32889708144883095, 0.1217646156245683, -0.0064823504424990405, 0.007276252598074455, -0.13829043762497903, -0.1145702494167122, -0.1427966918889491, -0.13655420625450054, -0.13018373658663268, -0.10997845009735835, -0.1476333040780195, -0.0013078521894121888, -0.1413029074853958, -0.1283911799072326, -0.1448447254229752, -0.0416084524640479, -0.06939100750883113, -0.11817916092319257, 0.06396986210568233, -0.02554426663396987, -0.14205184530725654, -0.12609735893153146, -0.1467440279914127, 0.27326653759285424, -0.09552298504332453, -0.029981587612062557, -0.11518007817296307, -0.06021594992824308, 0.12756894854371462, -0.1990973142633819, 0.047249770149376584, -0.13542197000109568, -0.025545539388810747, -0.14473662279844826, 0.04723956664616082, 0.07609309131274729, -0.024025716504374288, -0.04666465296140511, -0.031474088348774146, -0.11457421743084661, -0.13106348449311062, -0.14446726944380178, -0.06971712474185483, 0.04559753788934794, 0.032662415598628015, 0.0035142099629742905, 0.03527183824553217, -0.14957118797662802, 0.04610300056683729, -0.006500086602088907, -0.025979133526021176, 0.03126513204096776, -0.04422910384903946, -0.04771857729206174, 0.01764165481098932, -0.11314269378928062, -0.12093822198648674, -0.04748747966191517, -0.14205822430010898, 0.03911708700879844, -0.05146061837594638, 0.004562916636056873, 0.04724316023130493, 0.02602871246680087, 0.06214754670844835, -0.02960257928414031, -0.5062277349443868, -0.10423796559606163, -0.13898378669651607, 0.1266432435462138, 0.047831260658789225, -0.14605836683875378, -0.11944067392154313, -0.14389758297595384, 0.1092369499968544, -0.14117876140394434, -0.1224946625859412, -0.12354221559132625, -0.037346898255891534, 0.0809690214975742, -0.030443148400696226, 0.09364116787198526, -0.10187979320622448, -0.025969669772148925, 0.057574089044946215, -0.14430841663238297, -0.06949791595538277, -0.12270587668608723, 0.052785489543208455, -0.13617221511182875, -0.025545994919699198, -0.16111567388072834, 0.012371947461220882, 0.7518140526872262, -0.0550482088533953, -0.24074061939795743, 0.025301966173236826, 0.1391186665503393, -0.06485242393595193, -0.11496951710926132, -0.14055796774369322, -0.13105318711292585, -0.06444730303132923, -0.13724202484214837, 0.03801011027834983, -0.11180166060256928, 0.11503363756634098, 0.24603201222108254, -0.05191651580298746, -0.02554428503970519, 0.00807394647342156, -0.14267221020534213, 0.18341364286878747, 0.10327417151541805, 0.0436107999315312, -0.10637849414492986, 0.10518242843778451, 0.038409805644325994, 0.05937331408020929, -0.03892783570285852, -0.19295263360270368, -0.056664611197619986, -0.0408845485202502, -0.1424188153644124, -0.12892396119975455, 0.03849911152949608, -0.18593647063104798, 0.07141803112987159, -0.3374063077034882, -0.16233391617764556, -0.12609991438081783, -0.0440295521248554, 0.005169353571201244, 0.12664320644203575, 0.1224854675407634, 0.10357769912314882, 0.04279090661204663, -0.13536631226659182, -0.10457198710074175, -0.004108789299760093, -0.04594829343857647, 0.017651624728255842, -0.030123749642569288, -0.04403201154158737, -0.1043118516646806, -0.03580446926475901, 0.0031437259799002586, 0.00886644341391871, 0.03242771986824518, 0.03105261752488797, 0.026692463631262615, 0.022115454254485398, -0.05797293143765944, 0.020741923202310626, -0.037346803685420885, -0.08918712718078309, -0.11941214256267578, 0.02492131181594682, -1.0053256553663443, -0.11306788603166294, 0.28897312956265836, -0.2122666632552438, -0.03734047630853057, 0.04584659425470246, 0.018500054914393094, -0.2085931703115892, -0.040109329393971216, 0.15216467247801255, -0.20710417688193253, 0.28666314007902705, -0.14533950055748926, -0.08314993136984633, 0.6152724950994714, -0.006746612391379806, -0.12359018949518161, -0.04714779615200093, 0.13538002648049735, 0.03945580386764732, -0.13940589372690476, -0.03765019040947263, -0.03892914776793397, -0.059978579435568995, -0.16233391617764556, -0.008036450376345443, 0.01952819363543065, -0.04816845504733692, -0.5028767366920629, -0.04097793950785747, -0.04731901962112926, 0.005659278519926218, -0.02193097721315193, -0.025719447706658308, -0.19078474225148795, -0.04446481461187428, -0.04751316491178882, -0.08761297109703213, 0.2825903038795163, -0.14701144575829653, -0.0011059840539005897, -0.23582491928706045, -0.04042592232568673, 0.031053004312734906, 0.045393344690552256, -0.06949787248022872, -0.0566465253179316, -0.041636388719556605, -0.14729762494568824, -0.17458489491655155, -0.12655913356256243, -0.13889498500409467, -0.040646956387943745, 0.019122998050175574, -0.08415664735484243, 0.026199404778212095, -0.038949396570488994, -0.15604441732360724, -0.1975550908373149, 0.8051971091091283, 0.06735306421342432, 0.879483856776396, -0.001007228682737373, -0.11562370845986861, -0.21111268671774436, 0.06735473877655196, 0.014314306356052317, -0.14448938822293703, 0.00931248751462475, -0.044862721703974255, -0.04645884980432386, 0.025999164155551778, -0.020235148770557175, 0.03211348393129416, -0.14117872700441028, -0.08631148494989101, 0.0281688498871345, -0.1493045239459771, -0.03915959258963463, 0.17126217552377193, -0.020064396432823327, -0.1453102616443298, -0.024760287559443067, -0.08843292854046694, 0.03890347826260938, -0.05106635790006084, -0.22541578269644266, -0.09263237383496734, 0.03213310075481505, 0.0910878978775827, 0.010756477020908114, 0.053089458592701894, 0.15280295197907445, -0.14329587300686836, 0.028118859664884897, -0.10117639441221264, -0.0646334389203105, -0.050753039446908975, -0.040629953047406624, 0.03846086955163833, 0.10224000148631526, -0.08709772248017783, -0.10225723752773368, 0.41459500078270123, 0.6343097337177914, -0.044553436635367434, 0.1528110712786407, -0.02554488644017157, 0.03687240056177407, -0.19784867118732938, -1.6824635234265046, -0.1222552574631441, -0.21110711879383648, -0.06529944884423876, -0.12609928666616474, -0.10638898846659126, -0.038962858806102035, -0.03896264448253534, -0.023786002230079362, -0.04884727328791215, 0.04616814530024302, -0.4816763788759121, -0.24540151422500234, 0.027798798742600436, -0.05304339449147764, 0.01435823069148728, -0.05861505385143498, -0.04733373480279388, -0.01246788012002577, -0.10013836858496462, -0.08314760965824201, -0.02625862203347331, 0.10667597912697031, 0.10399259338751055, -0.03329195850554754, 0.005041104207438443, -0.05797301804137801, 0.01953887269268825, -0.03894936720189703, -0.14449608107969736, -0.04555887317648307, -0.02572290351355595, 0.018591377656939485, -0.01841583765730879, -0.1422870083288135, -0.02425285015892885, 0.024005363129285317, 0.35186207432329086, 0.14196454647750212, -0.001492799960306613, -0.0024112458295186164, -0.08609105862919746, 0.056087404052931514, 0.024326068345074652, -0.12183268602976033, -0.012354368011474673, -0.09945350564710848, -0.05608667935050703, -0.14017187978997353, -0.041458047826681096, -0.05838689773865263, -0.14477364434806964, 0.003149658139120845, 0.03141352774747142, -0.05804110704550681, -0.04851909854537129, -0.07157752875669769, -0.030917883799264807, -0.1149651995800155, -0.047200615785872625, -0.044223534111975465, -0.09035265698991829, -0.06342679681834823, 0.027256325414664988, -0.0377430312328959, -0.07955795034399635, -0.20137398314311258, -0.15806658757322878, 0.05813354316638333, -0.2694120658316326, -0.046355386663761815, 0.02526667254351133, -0.1216261080557992, 0.033236525138753116, -0.03527307812904177, -0.035710451655045244, -0.07420728919137516, -0.14199953964426865, -0.04727054542901162, 0.08865486714827514, -9.236359732963074, 0.012569136636671868, -0.20239367847201298, -0.19183298598067494, 0.03691349325514315, -0.14060155089702062, 0.062057376617988796, -0.11457362320909042, -0.04555773311211118, 0.04812771864190377, -0.027603344610034015, -0.04405948438722102, -0.09696665877356764, -0.12247610069845215, -0.0033711317585768587, -0.13769102466874347, -0.21207463627921005, -0.05646714426628481, 0.4179959172686097, 0.010755808380744658, 0.019560715457883283, -0.15124001026682982, 0.04913230694736041, -0.02976360513564627, -0.0482272457718404, -0.019867032589268554, -0.24171386598223088, -0.32994975086852973, -0.02970793517065083, -0.1981275672557563, 0.03775469478504698, 0.05053198523430229, -0.07280554497102142, 0.03355781767510212, -0.03962939682549636, -0.19436071191312518, 0.2596841427421059, 0.20637607362659005, 0.062153547585118867, -0.049787168008705585, 0.07394043984190929, -0.20368642992221753, -0.0954185246205662, -0.028825984173856786, 0.19802337001514378, 0.00527625231019401, -0.09522199771984388, -0.064854601802008, 0.09980733552905567, -0.08792869154340131, 0.04662200448877727, -0.19545252416626233, 0.07814504927250705, -0.012311837788725124, -0.1416981518552305, 0.02600014658723283, -0.14004567626938955, -0.1778129570581091, -0.2873485871157714, -0.005233683371888516, -0.12486278343756509, 0.003146772613022522, -0.1940932000827046, -0.17894910537881464, 0.06890018786396652, 0.5772248169957815, -0.014747598118802344, -0.044031282708919685, -0.050952919406145894, -0.2565529705301002, 0.0412368880499498, 0.9839114870900123, -0.08375996515674262, -0.27331305619298507, -0.028190922435998255, -0.025544887056219476, -1.54447901896846, -0.0662794337869091, 0.04627558119551589, 0.054565097335691176, 0.1421317691929812, 0.13928758670715505, -0.08983671695872304, -0.08969486786093235, -0.09822025723115776, -0.05797048816561263, -0.08531584441006838, 0.05125440087935648, -0.08849759270720653, -0.09837291637439088, -0.03265008318916104, 0.11255418635507666, -0.11089824832012622, -0.04978737892978834, -0.18502812774159508, 0.34661111094682406, 0.025651597994472707, -0.025937888153741824, 0.014114579541392391, 0.12587883138628966, -0.006745523910336759, 0.4184344863760583, -0.04046486594958458, -0.14580692099580533, 0.012420241693171971, -0.04881654114982452, -0.0326088374839458, 0.13134792989439084, -0.05195939236914556, -0.05104554957491469, -0.03734526280207687, 0.009375532392749164, -0.030445617911498888, -0.0654578840116223, 0.12621330855570514, 0.07581691708102527, -0.006500076277908814, -0.057646396064476836, -0.09311613172996043, -0.05165112608250038, -0.010582380839276817, 0.04574275922436772, -0.0669509720011926, -0.21117634852183864, -0.10065969891477408, -0.14228466965891545, -0.520745401477062, 0.049877035988468175, 0.6097762957120303, -0.19350366581798636, -0.02492396336665728, 0.07498798676629233, -0.005076926503681677, 0.10719664427075977, 0.12125347300917198, 0.35509234597261163, -0.14381508921028335, 0.3551127482302132, 0.03312642396637348, 0.778415812170965, -0.20316523364874886, 0.01824221694102941, 0.24597842626137006, -0.07446435455715217, 0.044953159553724906, -0.08314959419879595, -0.16048341156859036]}, {\"customdata\": [[\"Proof-of-BibleHash\"]], \"hovertemplate\": \"<b>%{hovertext}</b><br><br>Class=%{marker.color}<br>PC 1=%{x}<br>PC 2=%{y}<br>PC 3=%{z}<br>Algorithm=%{customdata[0]}<extra></extra>\", \"hovertext\": [\"BiblePay\"], \"legendgroup\": \"1\", \"marker\": {\"color\": [1], \"coloraxis\": \"coloraxis\", \"symbol\": \"diamond\"}, \"mode\": \"markers\", \"name\": \"1\", \"scene\": \"scene\", \"showlegend\": true, \"type\": \"scatter3d\", \"x\": [-0.3658104485904448], \"y\": [36.4950747793845], \"z\": [-10.414334661034388]}, {\"customdata\": [[\"SHA-256 + Hive\"]], \"hovertemplate\": \"<b>%{hovertext}</b><br><br>Class=%{marker.color}<br>PC 1=%{x}<br>PC 2=%{y}<br>PC 3=%{z}<br>Algorithm=%{customdata[0]}<extra></extra>\", \"hovertext\": [\"LitecoinCash\"], \"legendgroup\": \"2\", \"marker\": {\"color\": [2], \"coloraxis\": \"coloraxis\", \"symbol\": \"square\"}, \"mode\": \"markers\", \"name\": \"2\", \"scene\": \"scene\", \"showlegend\": true, \"type\": \"scatter3d\", \"x\": [-1.1832195752538688], \"y\": [11.763090567540594], \"z\": [37.164262484116506]}, {\"customdata\": [[\"TRC10\"]], \"hovertemplate\": \"<b>%{hovertext}</b><br><br>Class=%{marker.color}<br>PC 1=%{x}<br>PC 2=%{y}<br>PC 3=%{z}<br>Algorithm=%{customdata[0]}<extra></extra>\", \"hovertext\": [\"BitTorrent\"], \"legendgroup\": \"3\", \"marker\": {\"color\": [3], \"coloraxis\": \"coloraxis\", \"symbol\": \"x\"}, \"mode\": \"markers\", \"name\": \"3\", \"scene\": \"scene\", \"showlegend\": true, \"type\": \"scatter3d\", \"x\": [37.00345847011445], \"y\": [-1.8542109459033598], \"z\": [0.9527260380286239]}],                        {\"coloraxis\": {\"colorbar\": {\"title\": {\"text\": \"Class\"}}, \"colorscale\": [[0.0, \"#0d0887\"], [0.1111111111111111, \"#46039f\"], [0.2222222222222222, \"#7201a8\"], [0.3333333333333333, \"#9c179e\"], [0.4444444444444444, \"#bd3786\"], [0.5555555555555556, \"#d8576b\"], [0.6666666666666666, \"#ed7953\"], [0.7777777777777778, \"#fb9f3a\"], [0.8888888888888888, \"#fdca26\"], [1.0, \"#f0f921\"]]}, \"legend\": {\"title\": {\"text\": \"Class\"}, \"tracegroupgap\": 0, \"x\": 0, \"y\": 1}, \"margin\": {\"t\": 60}, \"scene\": {\"domain\": {\"x\": [0.0, 1.0], \"y\": [0.0, 1.0]}, \"xaxis\": {\"title\": {\"text\": \"PC 1\"}}, \"yaxis\": {\"title\": {\"text\": \"PC 2\"}}, \"zaxis\": {\"title\": {\"text\": \"PC 3\"}}}, \"template\": {\"data\": {\"bar\": [{\"error_x\": {\"color\": \"#2a3f5f\"}, \"error_y\": {\"color\": \"#2a3f5f\"}, \"marker\": {\"line\": {\"color\": \"#E5ECF6\", \"width\": 0.5}}, \"type\": \"bar\"}], \"barpolar\": [{\"marker\": {\"line\": {\"color\": \"#E5ECF6\", \"width\": 0.5}}, \"type\": \"barpolar\"}], \"carpet\": [{\"aaxis\": {\"endlinecolor\": \"#2a3f5f\", \"gridcolor\": \"white\", \"linecolor\": \"white\", \"minorgridcolor\": \"white\", \"startlinecolor\": \"#2a3f5f\"}, \"baxis\": {\"endlinecolor\": \"#2a3f5f\", \"gridcolor\": \"white\", \"linecolor\": \"white\", \"minorgridcolor\": \"white\", \"startlinecolor\": \"#2a3f5f\"}, \"type\": \"carpet\"}], \"choropleth\": [{\"colorbar\": {\"outlinewidth\": 0, \"ticks\": \"\"}, \"type\": \"choropleth\"}], \"contour\": [{\"colorbar\": {\"outlinewidth\": 0, \"ticks\": \"\"}, \"colorscale\": [[0.0, \"#0d0887\"], [0.1111111111111111, \"#46039f\"], [0.2222222222222222, \"#7201a8\"], [0.3333333333333333, \"#9c179e\"], [0.4444444444444444, \"#bd3786\"], [0.5555555555555556, \"#d8576b\"], [0.6666666666666666, \"#ed7953\"], [0.7777777777777778, \"#fb9f3a\"], [0.8888888888888888, \"#fdca26\"], [1.0, \"#f0f921\"]], \"type\": \"contour\"}], \"contourcarpet\": [{\"colorbar\": {\"outlinewidth\": 0, \"ticks\": \"\"}, \"type\": \"contourcarpet\"}], \"heatmap\": [{\"colorbar\": {\"outlinewidth\": 0, \"ticks\": \"\"}, \"colorscale\": [[0.0, \"#0d0887\"], [0.1111111111111111, \"#46039f\"], [0.2222222222222222, \"#7201a8\"], [0.3333333333333333, \"#9c179e\"], [0.4444444444444444, \"#bd3786\"], [0.5555555555555556, \"#d8576b\"], [0.6666666666666666, \"#ed7953\"], [0.7777777777777778, \"#fb9f3a\"], [0.8888888888888888, \"#fdca26\"], [1.0, \"#f0f921\"]], \"type\": \"heatmap\"}], \"heatmapgl\": [{\"colorbar\": {\"outlinewidth\": 0, \"ticks\": \"\"}, \"colorscale\": [[0.0, \"#0d0887\"], [0.1111111111111111, \"#46039f\"], [0.2222222222222222, \"#7201a8\"], [0.3333333333333333, \"#9c179e\"], [0.4444444444444444, \"#bd3786\"], [0.5555555555555556, \"#d8576b\"], [0.6666666666666666, \"#ed7953\"], [0.7777777777777778, \"#fb9f3a\"], [0.8888888888888888, \"#fdca26\"], [1.0, \"#f0f921\"]], \"type\": \"heatmapgl\"}], \"histogram\": [{\"marker\": {\"colorbar\": {\"outlinewidth\": 0, \"ticks\": \"\"}}, \"type\": \"histogram\"}], \"histogram2d\": [{\"colorbar\": {\"outlinewidth\": 0, \"ticks\": \"\"}, \"colorscale\": [[0.0, \"#0d0887\"], [0.1111111111111111, \"#46039f\"], [0.2222222222222222, \"#7201a8\"], [0.3333333333333333, \"#9c179e\"], [0.4444444444444444, \"#bd3786\"], [0.5555555555555556, \"#d8576b\"], [0.6666666666666666, \"#ed7953\"], [0.7777777777777778, \"#fb9f3a\"], [0.8888888888888888, \"#fdca26\"], [1.0, \"#f0f921\"]], \"type\": \"histogram2d\"}], \"histogram2dcontour\": [{\"colorbar\": {\"outlinewidth\": 0, \"ticks\": \"\"}, \"colorscale\": [[0.0, \"#0d0887\"], [0.1111111111111111, \"#46039f\"], [0.2222222222222222, \"#7201a8\"], [0.3333333333333333, \"#9c179e\"], [0.4444444444444444, \"#bd3786\"], [0.5555555555555556, \"#d8576b\"], [0.6666666666666666, \"#ed7953\"], [0.7777777777777778, \"#fb9f3a\"], [0.8888888888888888, \"#fdca26\"], [1.0, \"#f0f921\"]], \"type\": \"histogram2dcontour\"}], \"mesh3d\": [{\"colorbar\": {\"outlinewidth\": 0, \"ticks\": \"\"}, \"type\": \"mesh3d\"}], \"parcoords\": [{\"line\": {\"colorbar\": {\"outlinewidth\": 0, \"ticks\": \"\"}}, \"type\": \"parcoords\"}], \"pie\": [{\"automargin\": true, \"type\": \"pie\"}], \"scatter\": [{\"marker\": {\"colorbar\": {\"outlinewidth\": 0, \"ticks\": \"\"}}, \"type\": \"scatter\"}], \"scatter3d\": [{\"line\": {\"colorbar\": {\"outlinewidth\": 0, \"ticks\": \"\"}}, \"marker\": {\"colorbar\": {\"outlinewidth\": 0, \"ticks\": \"\"}}, \"type\": \"scatter3d\"}], \"scattercarpet\": [{\"marker\": {\"colorbar\": {\"outlinewidth\": 0, \"ticks\": \"\"}}, \"type\": \"scattercarpet\"}], \"scattergeo\": [{\"marker\": {\"colorbar\": {\"outlinewidth\": 0, \"ticks\": \"\"}}, \"type\": \"scattergeo\"}], \"scattergl\": [{\"marker\": {\"colorbar\": {\"outlinewidth\": 0, \"ticks\": \"\"}}, \"type\": \"scattergl\"}], \"scattermapbox\": [{\"marker\": {\"colorbar\": {\"outlinewidth\": 0, \"ticks\": \"\"}}, \"type\": \"scattermapbox\"}], \"scatterpolar\": [{\"marker\": {\"colorbar\": {\"outlinewidth\": 0, \"ticks\": \"\"}}, \"type\": \"scatterpolar\"}], \"scatterpolargl\": [{\"marker\": {\"colorbar\": {\"outlinewidth\": 0, \"ticks\": \"\"}}, \"type\": \"scatterpolargl\"}], \"scatterternary\": [{\"marker\": {\"colorbar\": {\"outlinewidth\": 0, \"ticks\": \"\"}}, \"type\": \"scatterternary\"}], \"surface\": [{\"colorbar\": {\"outlinewidth\": 0, \"ticks\": \"\"}, \"colorscale\": [[0.0, \"#0d0887\"], [0.1111111111111111, \"#46039f\"], [0.2222222222222222, \"#7201a8\"], [0.3333333333333333, \"#9c179e\"], [0.4444444444444444, \"#bd3786\"], [0.5555555555555556, \"#d8576b\"], [0.6666666666666666, \"#ed7953\"], [0.7777777777777778, \"#fb9f3a\"], [0.8888888888888888, \"#fdca26\"], [1.0, \"#f0f921\"]], \"type\": \"surface\"}], \"table\": [{\"cells\": {\"fill\": {\"color\": \"#EBF0F8\"}, \"line\": {\"color\": \"white\"}}, \"header\": {\"fill\": {\"color\": \"#C8D4E3\"}, \"line\": {\"color\": \"white\"}}, \"type\": \"table\"}]}, \"layout\": {\"annotationdefaults\": {\"arrowcolor\": \"#2a3f5f\", \"arrowhead\": 0, \"arrowwidth\": 1}, \"autotypenumbers\": \"strict\", \"coloraxis\": {\"colorbar\": {\"outlinewidth\": 0, \"ticks\": \"\"}}, \"colorscale\": {\"diverging\": [[0, \"#8e0152\"], [0.1, \"#c51b7d\"], [0.2, \"#de77ae\"], [0.3, \"#f1b6da\"], [0.4, \"#fde0ef\"], [0.5, \"#f7f7f7\"], [0.6, \"#e6f5d0\"], [0.7, \"#b8e186\"], [0.8, \"#7fbc41\"], [0.9, \"#4d9221\"], [1, \"#276419\"]], \"sequential\": [[0.0, \"#0d0887\"], [0.1111111111111111, \"#46039f\"], [0.2222222222222222, \"#7201a8\"], [0.3333333333333333, \"#9c179e\"], [0.4444444444444444, \"#bd3786\"], [0.5555555555555556, \"#d8576b\"], [0.6666666666666666, \"#ed7953\"], [0.7777777777777778, \"#fb9f3a\"], [0.8888888888888888, \"#fdca26\"], [1.0, \"#f0f921\"]], \"sequentialminus\": [[0.0, \"#0d0887\"], [0.1111111111111111, \"#46039f\"], [0.2222222222222222, \"#7201a8\"], [0.3333333333333333, \"#9c179e\"], [0.4444444444444444, \"#bd3786\"], [0.5555555555555556, \"#d8576b\"], [0.6666666666666666, \"#ed7953\"], [0.7777777777777778, \"#fb9f3a\"], [0.8888888888888888, \"#fdca26\"], [1.0, \"#f0f921\"]]}, \"colorway\": [\"#636efa\", \"#EF553B\", \"#00cc96\", \"#ab63fa\", \"#FFA15A\", \"#19d3f3\", \"#FF6692\", \"#B6E880\", \"#FF97FF\", \"#FECB52\"], \"font\": {\"color\": \"#2a3f5f\"}, \"geo\": {\"bgcolor\": \"white\", \"lakecolor\": \"white\", \"landcolor\": \"#E5ECF6\", \"showlakes\": true, \"showland\": true, \"subunitcolor\": \"white\"}, \"hoverlabel\": {\"align\": \"left\"}, \"hovermode\": \"closest\", \"mapbox\": {\"style\": \"light\"}, \"paper_bgcolor\": \"white\", \"plot_bgcolor\": \"#E5ECF6\", \"polar\": {\"angularaxis\": {\"gridcolor\": \"white\", \"linecolor\": \"white\", \"ticks\": \"\"}, \"bgcolor\": \"#E5ECF6\", \"radialaxis\": {\"gridcolor\": \"white\", \"linecolor\": \"white\", \"ticks\": \"\"}}, \"scene\": {\"xaxis\": {\"backgroundcolor\": \"#E5ECF6\", \"gridcolor\": \"white\", \"gridwidth\": 2, \"linecolor\": \"white\", \"showbackground\": true, \"ticks\": \"\", \"zerolinecolor\": \"white\"}, \"yaxis\": {\"backgroundcolor\": \"#E5ECF6\", \"gridcolor\": \"white\", \"gridwidth\": 2, \"linecolor\": \"white\", \"showbackground\": true, \"ticks\": \"\", \"zerolinecolor\": \"white\"}, \"zaxis\": {\"backgroundcolor\": \"#E5ECF6\", \"gridcolor\": \"white\", \"gridwidth\": 2, \"linecolor\": \"white\", \"showbackground\": true, \"ticks\": \"\", \"zerolinecolor\": \"white\"}}, \"shapedefaults\": {\"line\": {\"color\": \"#2a3f5f\"}}, \"ternary\": {\"aaxis\": {\"gridcolor\": \"white\", \"linecolor\": \"white\", \"ticks\": \"\"}, \"baxis\": {\"gridcolor\": \"white\", \"linecolor\": \"white\", \"ticks\": \"\"}, \"bgcolor\": \"#E5ECF6\", \"caxis\": {\"gridcolor\": \"white\", \"linecolor\": \"white\", \"ticks\": \"\"}}, \"title\": {\"x\": 0.05}, \"xaxis\": {\"automargin\": true, \"gridcolor\": \"white\", \"linecolor\": \"white\", \"ticks\": \"\", \"title\": {\"standoff\": 15}, \"zerolinecolor\": \"white\", \"zerolinewidth\": 2}, \"yaxis\": {\"automargin\": true, \"gridcolor\": \"white\", \"linecolor\": \"white\", \"ticks\": \"\", \"title\": {\"standoff\": 15}, \"zerolinecolor\": \"white\", \"zerolinewidth\": 2}}}, \"width\": 800},                        {\"responsive\": true}                    ).then(function(){\n",
       "                            \n",
       "var gd = document.getElementById('bf64e7bd-b753-49b4-af54-f2975b1fa1b1');\n",
       "var x = new MutationObserver(function (mutations, observer) {{\n",
       "        var display = window.getComputedStyle(gd).display;\n",
       "        if (!display || display === 'none') {{\n",
       "            console.log([gd, 'removed!']);\n",
       "            Plotly.purge(gd);\n",
       "            observer.disconnect();\n",
       "        }}\n",
       "}});\n",
       "\n",
       "// Listen for the removal of the full notebook cells\n",
       "var notebookContainer = gd.closest('#notebook-container');\n",
       "if (notebookContainer) {{\n",
       "    x.observe(notebookContainer, {childList: true});\n",
       "}}\n",
       "\n",
       "// Listen for the clearing of the current output cell\n",
       "var outputEl = gd.closest('.output');\n",
       "if (outputEl) {{\n",
       "    x.observe(outputEl, {childList: true});\n",
       "}}\n",
       "\n",
       "                        })                };                });            </script>        </div>"
      ]
     },
     "metadata": {},
     "output_type": "display_data"
    }
   ],
   "source": [
    "# Creating a 3D-Scatter with the PCA data and the clusters\n",
    "fig = px.scatter_3d(clustered_df, x=\"PC 1\", y=\"PC 2\", z=\"PC 3\", color=\"Class\", symbol=\"Class\", width=800,\n",
    "                   hover_name = \"CoinName\", hover_data = [\"Algorithm\"])\n",
    "fig.update_layout(legend=dict(x=0,y=1))\n",
    "fig.show()"
   ]
  },
  {
   "cell_type": "code",
   "execution_count": null,
   "metadata": {},
   "outputs": [],
   "source": [
    "# Create a table with tradable cryptocurrencies.\n",
    "# YOUR CODE HERE"
   ]
  },
  {
   "cell_type": "code",
   "execution_count": null,
   "metadata": {},
   "outputs": [],
   "source": [
    "# Print the total number of tradable cryptocurrencies.\n",
    "# YOUR CODE HERE"
   ]
  },
  {
   "cell_type": "code",
   "execution_count": null,
   "metadata": {},
   "outputs": [],
   "source": [
    "# Scaling data to create the scatter plot with tradable cryptocurrencies.\n",
    "# YOUR CODE HERE"
   ]
  },
  {
   "cell_type": "code",
   "execution_count": null,
   "metadata": {},
   "outputs": [],
   "source": [
    "# Create a new DataFrame that has the scaled data with the clustered_df DataFrame index.\n",
    "# YOUR CODE HERE\n",
    "\n",
    "# Add the \"CoinName\" column from the clustered_df DataFrame to the new DataFrame.\n",
    "# YOUR CODE HERE\n",
    "\n",
    "# Add the \"Class\" column from the clustered_df DataFrame to the new DataFrame. \n",
    "# YOUR CODE HERE\n",
    "\n",
    "plot_df.head(10)"
   ]
  },
  {
   "cell_type": "code",
   "execution_count": null,
   "metadata": {},
   "outputs": [],
   "source": [
    "# Create a hvplot.scatter plot using x=\"TotalCoinsMined\" and y=\"TotalCoinSupply\".\n",
    "# YOUR CODE HERE\n"
   ]
  },
  {
   "cell_type": "code",
   "execution_count": null,
   "metadata": {},
   "outputs": [],
   "source": []
  }
 ],
 "metadata": {
  "file_extension": ".py",
  "kernelspec": {
   "display_name": "mlenv",
   "language": "python",
   "name": "mlenv"
  },
  "language_info": {
   "codemirror_mode": {
    "name": "ipython",
    "version": 3
   },
   "file_extension": ".py",
   "mimetype": "text/x-python",
   "name": "python",
   "nbconvert_exporter": "python",
   "pygments_lexer": "ipython3",
   "version": "3.7.9"
  },
  "latex_envs": {
   "LaTeX_envs_menu_present": true,
   "autoclose": false,
   "autocomplete": true,
   "bibliofile": "biblio.bib",
   "cite_by": "apalike",
   "current_citInitial": 1,
   "eqLabelWithNumbers": true,
   "eqNumInitial": 1,
   "hotkeys": {
    "equation": "Ctrl-E",
    "itemize": "Ctrl-I"
   },
   "labels_anchors": false,
   "latex_user_defs": false,
   "report_style_numbering": false,
   "user_envs_cfg": false
  },
  "mimetype": "text/x-python",
  "name": "python",
  "npconvert_exporter": "python",
  "pygments_lexer": "ipython3",
  "version": 3
 },
 "nbformat": 4,
 "nbformat_minor": 2
}
